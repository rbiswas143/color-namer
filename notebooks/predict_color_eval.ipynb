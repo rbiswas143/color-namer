{
 "cells": [
  {
   "cell_type": "code",
   "execution_count": 1,
   "metadata": {},
   "outputs": [],
   "source": [
    "%load_ext autoreload\n",
    "%autoreload\n",
    "\n",
    "import sys\n",
    "sys.path.append('..')\n",
    "\n",
    "import torch\n",
    "import torch.utils.data as D\n",
    "\n",
    "import os\n",
    "import pprint\n",
    "import matplotlib.pyplot as plt\n",
    "import matplotlib.patches as patches\n",
    "import numpy as np\n",
    "\n",
    "import color.models.predict_color as pred_color_models\n",
    "import color.data.dataset as color_dataset\n",
    "import color.training as training\n",
    "import color.utils.utils as utils"
   ]
  },
  {
   "cell_type": "code",
   "execution_count": 2,
   "metadata": {},
   "outputs": [],
   "source": [
    "save_dir = '../trained_models/LSTM_627746'\n",
    "assert os.path.isdir(save_dir)"
   ]
  },
  {
   "cell_type": "code",
   "execution_count": 3,
   "metadata": {},
   "outputs": [
    {
     "name": "stdout",
     "output_type": "stream",
     "text": [
      "{'curr_epoch': 1,\n",
      " 'do_cv': True,\n",
      " 'draw_plots': False,\n",
      " 'epoch_cv_losses': [0.049157957060147174,\n",
      "                     0.048045736498537314,\n",
      "                     0.0479047403926343,\n",
      "                     0.049119337470130586,\n",
      "                     0.05315191133887367,\n",
      "                     0.04661122887535433,\n",
      "                     0.04637809348317374,\n",
      "                     0.04661232180300012,\n",
      "                     0.04848400470429817,\n",
      "                     0.04727727333001331,\n",
      "                     0.04782694841908142,\n",
      "                     0.04722449209837787,\n",
      "                     0.049050352214711955,\n",
      "                     0.04893605055007259,\n",
      "                     0.04669499608267725,\n",
      "                     0.04772222991538259,\n",
      "                     0.04928122157544161,\n",
      "                     0.04722658511811653,\n",
      "                     0.051035142577854936,\n",
      "                     0.04741161903448864],\n",
      " 'epoch_durations': [23.700257778167725,\n",
      "                     23.38163161277771,\n",
      "                     22.34296417236328,\n",
      "                     22.610483646392822,\n",
      "                     22.377312183380127,\n",
      "                     22.119784355163574,\n",
      "                     22.19000554084778,\n",
      "                     22.243770599365234,\n",
      "                     22.445152044296265,\n",
      "                     22.40637230873108,\n",
      "                     22.542165279388428,\n",
      "                     22.7774555683136,\n",
      "                     22.439876556396484,\n",
      "                     22.152398824691772,\n",
      "                     22.23215079307556,\n",
      "                     22.8432559967041,\n",
      "                     22.376830339431763,\n",
      "                     22.33276081085205,\n",
      "                     22.540993213653564,\n",
      "                     22.578641653060913],\n",
      " 'epoch_train_losses': [0.05432359574357256,\n",
      "                        0.04935564983384095,\n",
      "                        0.048257470856153596,\n",
      "                        0.04811098348059285,\n",
      "                        0.047569464781578384,\n",
      "                        0.04789948520579526,\n",
      "                        0.047596642360524334,\n",
      "                        0.04762635166259871,\n",
      "                        0.04733627620329687,\n",
      "                        0.0476602392455102,\n",
      "                        0.04735692006122104,\n",
      "                        0.047364552737615605,\n",
      "                        0.04747671744895686,\n",
      "                        0.0475471856180483,\n",
      "                        0.047672042701340026,\n",
      "                        0.047449907438702144,\n",
      "                        0.047400893278935964,\n",
      "                        0.04756153579981027,\n",
      "                        0.04735188286987072,\n",
      "                        0.04755606727785289],\n",
      " 'num_epochs': 20,\n",
      " 'save_dir': '/home/rb/pub/projects/color-namer/trained_models/LSTM_627746',\n",
      " 'show_progress': True,\n",
      " 'use_cuda': True}\n"
     ]
    }
   ],
   "source": [
    "# Training params and losses\n",
    "training_params = training.load_training_params(save_dir)\n",
    "pprint.pprint(training_params)"
   ]
  },
  {
   "cell_type": "code",
   "execution_count": 4,
   "metadata": {},
   "outputs": [
    {
     "name": "stdout",
     "output_type": "stream",
     "text": [
      "{'batch_size': 1,\n",
      " 'cv_split': 0.1,\n",
      " 'dataset': 'big',\n",
      " 'emb_len': 200,\n",
      " 'max_words': None,\n",
      " 'normalize_rgb': True,\n",
      " 'num_workers': 0,\n",
      " 'pad_len': None,\n",
      " 'test_split': 0,\n",
      " 'use_cuda': True}\n",
      "16273 1808 0\n"
     ]
    }
   ],
   "source": [
    "# Dataset params and partitions\n",
    "dataset_params, (color_names_train, color_names_cv, color_names_test) = color_dataset.load_dataset_params(save_dir)\n",
    "pprint.pprint(dataset_params)\n",
    "print(len(color_names_train), len(color_names_cv), len(color_names_test))"
   ]
  },
  {
   "cell_type": "code",
   "execution_count": 5,
   "metadata": {},
   "outputs": [
    {
     "name": "stdout",
     "output_type": "stream",
     "text": [
      "{'name': 'LSTM', 'emb_dim': 200, 'color_dim': 3, 'lr': 0.1, 'momentum': 0.9, 'weight_decay': 0.0001, 'lr_decay': (2, 0.95), 'hidden_dim': 200, 'num_layers': 1, 'dropout': 0}\n",
      "6\n"
     ]
    }
   ],
   "source": [
    "# Model params and weights\n",
    "model_weights, model_params = pred_color_models.load_model_params(save_dir)\n",
    "print(model_params)\n",
    "print(len(model_weights))"
   ]
  },
  {
   "cell_type": "code",
   "execution_count": 9,
   "metadata": {},
   "outputs": [
    {
     "name": "stdout",
     "output_type": "stream",
     "text": [
      "ColorPredictorLSTM(\n",
      "  (lstm): LSTM(200, 200)\n",
      "  (linear): Linear(in_features=200, out_features=3, bias=True)\n",
      ")\n",
      "Trainable Params: 322203\n"
     ]
    }
   ],
   "source": [
    "# Load model and pre-trained weights\n",
    "model = pred_color_models.ColorPredictorLSTM(**model_params)\n",
    "# model = pred_color_models.ColorPredictorRNN(**model_params)\n",
    "model.load_state_dict(model_weights)\n",
    "print(model)\n",
    "print('Trainable Params:', utils.get_trainable_params(model))"
   ]
  },
  {
   "cell_type": "code",
   "execution_count": 10,
   "metadata": {},
   "outputs": [
    {
     "name": "stdout",
     "output_type": "stream",
     "text": [
      "Loading colors dataset\n",
      "Loading embeddings\n",
      "Splitting dataset\n",
      "18080\n",
      "['wind chill' list([0.93359375, 0.94921875, 0.9375])] 16273 1808\n"
     ]
    }
   ],
   "source": [
    "# Re-create partitions\n",
    "dataset = color_dataset.Dataset(**dataset_params)\n",
    "color_name_dict = {color_name: color_rgb for color_rgb, _, color_name in dataset}\n",
    "print(len(color_name_dict))\n",
    "train_set = np.array([(name, torch.Tensor.tolist(color_name_dict[name])) for name in color_names_train])\n",
    "cv_set = np.array([(name, torch.Tensor.tolist(color_name_dict[name])) for name in color_names_cv])\n",
    "print(train_set[0],len(train_set), len(cv_set))"
   ]
  },
  {
   "cell_type": "code",
   "execution_count": 11,
   "metadata": {},
   "outputs": [
    {
     "name": "stdout",
     "output_type": "stream",
     "text": [
      "[[0.6967454552650452, 0.15248747169971466, 0.21914996206760406]]\n"
     ]
    },
    {
     "data": {
      "text/plain": [
       "<matplotlib.patches.Rectangle at 0x7efbd45a1400>"
      ]
     },
     "execution_count": 11,
     "metadata": {},
     "output_type": "execute_result"
    },
    {
     "data": {
      "image/png": "[encoded data removed]",
      "text/plain": [
       "<Figure size 432x288 with 1 Axes>"
      ]
     },
     "metadata": {
      "needs_background": "light"
     },
     "output_type": "display_data"
    }
   ],
   "source": [
    "# Runs a new color name throught the model to predict its color\n",
    "def predict(model, dataset, color_names):\n",
    "    color_name_embs = [\n",
    "        torch.tensor(color_dataset.to_embeddings(name, dataset.vocab_dict, dataset.embeddings)).float()\n",
    "        for name in color_names\n",
    "    ]\n",
    "    with torch.no_grad():\n",
    "        preds = []\n",
    "        for emb in color_name_embs:\n",
    "            pred_rgb = model(emb.view(1, emb.shape[0], -1))\n",
    "            preds.append(torch.Tensor.tolist(pred_rgb.view(-1)))\n",
    "        return preds\n",
    "color_preds = predict(model, dataset, ['red'])\n",
    "print(color_preds)\n",
    "p = patches.Rectangle((0,0), 5, 5, color=color_preds[0])\n",
    "fig,ax = plt.subplots(1)\n",
    "ax.add_patch(p)"
   ]
  },
  {
   "cell_type": "code",
   "execution_count": 12,
   "metadata": {},
   "outputs": [],
   "source": [
    "def plot_expected_colors(color_names, color_rgb):\n",
    "    fig = plt.figure(figsize=(15, 2))\n",
    "    ax = fig.add_subplot(111)\n",
    "    total_width = 400\n",
    "    total_height = 200\n",
    "    col_width = total_width / len(color_names)\n",
    "    for i, (cn, rgb) in enumerate(zip(color_names, color_rgb)):\n",
    "        p = patches.Rectangle((col_width*i,0), total_width, total_height, color=rgb)\n",
    "        ax.add_patch(p)\n",
    "        ax.text(col_width*(i+0.25),total_height/2, cn)\n",
    "    plt.xlim([0, total_width])\n",
    "    plt.ylim([0, total_height])"
   ]
  },
  {
   "cell_type": "code",
   "execution_count": 13,
   "metadata": {},
   "outputs": [],
   "source": [
    "def pred_and_plot(model, dataset, color_names):\n",
    "    fig = plt.figure(figsize=(15, 2))\n",
    "    ax = fig.add_subplot(111)\n",
    "    total_width = 400\n",
    "    total_height = 200\n",
    "    col_width = total_width / len(color_names)\n",
    "    for i, (cn, pred) in enumerate(zip(color_names, predict(model, dataset, color_names))):\n",
    "        p = patches.Rectangle((col_width*i,0), total_width, total_height, color=pred)\n",
    "        ax.add_patch(p)\n",
    "        ax.text(col_width*(i+0.25),total_height/2, cn)\n",
    "    plt.xlim([0, total_width])\n",
    "    plt.ylim([0, total_height])"
   ]
  },
  {
   "cell_type": "code",
   "execution_count": 14,
   "metadata": {},
   "outputs": [
    {
     "data": {
      "image/png": "[encoded data removed]",
      "text/plain": [
       "<Figure size 1080x144 with 1 Axes>"
      ]
     },
     "metadata": {
      "needs_background": "light"
     },
     "output_type": "display_data"
    },
    {
     "data": {
      "image/png": "[encoded data removed]",
      "text/plain": [
       "<Figure size 1080x144 with 1 Axes>"
      ]
     },
     "metadata": {
      "needs_background": "light"
     },
     "output_type": "display_data"
    }
   ],
   "source": [
    "# Plot some training samples\n",
    "select = 5\n",
    "idx = np.arange(len(train_set))\n",
    "np.random.shuffle(idx)\n",
    "colors_selected = train_set[idx[:select]]\n",
    "color_names_selected = [color_name for color_name,_ in colors_selected]\n",
    "color_rgb_selected = [color_rgb for _,color_rgb in colors_selected]\n",
    "# print(color_names_selected, color_rgb_selected)\n",
    "plot_expected_colors(color_names_selected, color_rgb_selected)\n",
    "pred_and_plot(model, dataset, color_names_selected)"
   ]
  },
  {
   "cell_type": "code",
   "execution_count": 15,
   "metadata": {},
   "outputs": [
    {
     "data": {
      "image/png": "[encoded data removed]",
      "text/plain": [
       "<Figure size 1080x144 with 1 Axes>"
      ]
     },
     "metadata": {
      "needs_background": "light"
     },
     "output_type": "display_data"
    },
    {
     "data": {
      "image/png": "[encoded data removed]",
      "text/plain": [
       "<Figure size 1080x144 with 1 Axes>"
      ]
     },
     "metadata": {
      "needs_background": "light"
     },
     "output_type": "display_data"
    }
   ],
   "source": [
    "# Plot some CV samples\n",
    "select = 5\n",
    "idx = np.arange(len(cv_set))\n",
    "np.random.shuffle(idx)\n",
    "colors_selected = cv_set[idx[:select]]\n",
    "color_names_selected = [color_name for color_name,_ in colors_selected]\n",
    "color_rgb_selected = [color_rgb for _,color_rgb in colors_selected]\n",
    "plot_expected_colors(color_names_selected, color_rgb_selected)\n",
    "pred_and_plot(model, dataset, color_names_selected)"
   ]
  },
  {
   "cell_type": "code",
   "execution_count": 16,
   "metadata": {},
   "outputs": [
    {
     "data": {
      "image/png": "[encoded data removed]",
      "text/plain": [
       "<Figure size 1080x144 with 1 Axes>"
      ]
     },
     "metadata": {
      "needs_background": "light"
     },
     "output_type": "display_data"
    }
   ],
   "source": [
    "# Plot some more colors\n",
    "more_color_names = ['navy blue', 'green', 'red', 'black red', 'black', 'white']\n",
    "pred_and_plot(model, dataset, more_color_names)"
   ]
  },
  {
   "cell_type": "code",
   "execution_count": null,
   "metadata": {},
   "outputs": [],
   "source": []
  }
 ],
 "metadata": {
  "kernelspec": {
   "display_name": "colornamer",
   "language": "python",
   "name": "colornamer"
  },
  "language_info": {
   "codemirror_mode": {
    "name": "ipython",
    "version": 3
   },
   "file_extension": ".py",
   "mimetype": "text/x-python",
   "name": "python",
   "nbconvert_exporter": "python",
   "pygments_lexer": "ipython3",
   "version": "3.7.3"
  }
 },
 "nbformat": 4,
 "nbformat_minor": 2
}
