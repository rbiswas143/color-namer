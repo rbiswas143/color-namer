{
 "cells": [
  {
   "cell_type": "code",
   "execution_count": 9,
   "metadata": {},
   "outputs": [],
   "source": [
    "%load_ext autoreload"
   ]
  },
  {
   "cell_type": "code",
   "execution_count": 10,
   "metadata": {},
   "outputs": [],
   "source": [
    "%autoreload\n",
    "\n",
    "import sys\n",
    "sys.path.append('..')\n",
    "\n",
    "import torch\n",
    "import torch.utils.data as D\n",
    "\n",
    "import os\n",
    "import pprint\n",
    "import matplotlib.pyplot as plt\n",
    "import matplotlib.patches as patches\n",
    "import numpy as np\n",
    "\n",
    "import color.models as models\n",
    "import color.models.model_utils as model_utils\n",
    "import color.models.predict_color as predict_color_models\n",
    "import color.data.dataset as color_dataset\n",
    "import color.training as training\n",
    "import color.utils.utils as utils"
   ]
  },
  {
   "cell_type": "code",
   "execution_count": 11,
   "metadata": {
    "scrolled": false
   },
   "outputs": [],
   "source": [
    "# Load a model from a directory\n",
    "save_dir = '../trained_models/cnn-color-predictor_859522'\n",
    "model_class, _ = models.get_model('predict_color_cnn')\n",
    "seq_len_first=False\n",
    "assert os.path.isdir(save_dir)"
   ]
  },
  {
   "cell_type": "code",
   "execution_count": null,
   "metadata": {
    "scrolled": true
   },
   "outputs": [],
   "source": [
    "# Load training params and losses\n",
    "training_params = training.load_training_params(save_dir)\n",
    "pprint.pprint(training_params)"
   ]
  },
  {
   "cell_type": "code",
   "execution_count": 13,
   "metadata": {},
   "outputs": [
    {
     "name": "stdout",
     "output_type": "stream",
     "text": [
      "Loading colors dataset\n",
      "Loading embeddings\n",
      "Padding embeddings for color names\n",
      "Random partitions were not created\n",
      "{'dataset': 'big', 'emb_len': 200, 'normalize_rgb': True, 'max_words': 3, 'pad_len': 3, 'add_stop_word': False, 'create_partitions': False, 'cv_split': 0.1, 'test_split': 0}\n",
      "Dataset Size: 17945\n"
     ]
    }
   ],
   "source": [
    "# Re-create dataset\n",
    "dataset = color_dataset.Dataset.load(save_dir)\n",
    "print(dataset.params)\n",
    "print('Dataset Size:', len(dataset))"
   ]
  },
  {
   "cell_type": "code",
   "execution_count": 14,
   "metadata": {},
   "outputs": [
    {
     "name": "stdout",
     "output_type": "stream",
     "text": [
      "{'name': 'cnn-color-predictor', 'emb_dim': 200, 'color_dim': 3, 'lr': 0.006, 'momentum': 0.85, 'weight_decay': 1e-05, 'lr_decay': (3, 0.96), 'max_words': 3, 'num_conv_layers': 3, 'conv_kernel_size': 5, 'conv_stride': 2, 'pool_kernel_size': 7, 'pool_stride': 1, 'num_linear_layers': 2, 'linear_size_reduce': 2}\n",
      "12\n"
     ]
    }
   ],
   "source": [
    "# Load model params and weights\n",
    "model_weights, model_params = model_utils.load_model_params(save_dir)\n",
    "print(model_params)\n",
    "print(len(model_weights))"
   ]
  },
  {
   "cell_type": "code",
   "execution_count": 16,
   "metadata": {},
   "outputs": [
    {
     "name": "stdout",
     "output_type": "stream",
     "text": [
      "ColorPredictorCNNModel(\n",
      "  (cnn1): Conv1d(3, 6, kernel_size=(5,), stride=(2,))\n",
      "  (pool1): MaxPool1d(kernel_size=7, stride=1, padding=0, dilation=1, ceil_mode=False)\n",
      "  (cnn2): Conv1d(6, 12, kernel_size=(5,), stride=(2,))\n",
      "  (pool2): MaxPool1d(kernel_size=7, stride=1, padding=0, dilation=1, ceil_mode=False)\n",
      "  (cnn3): Conv1d(12, 24, kernel_size=(5,), stride=(2,))\n",
      "  (pool3): MaxPool1d(kernel_size=7, stride=1, padding=0, dilation=1, ceil_mode=False)\n",
      "  (linear1): Linear(in_features=264, out_features=132, bias=True)\n",
      "  (linear2): Linear(in_features=132, out_features=66, bias=True)\n",
      "  (final_linear): Linear(in_features=66, out_features=3, bias=True)\n",
      ")\n",
      "Trainable Params: 45891\n"
     ]
    }
   ],
   "source": [
    "# Initialize trained model\n",
    "model = model_class(**model_params).double()\n",
    "model.load_state_dict(model_weights)\n",
    "print(model)\n",
    "print('Trainable Params:', utils.get_trainable_params(model))"
   ]
  },
  {
   "cell_type": "code",
   "execution_count": 17,
   "metadata": {},
   "outputs": [],
   "source": [
    "# Convenience wrapper around the price colors function\n",
    "predict_colors = lambda color_names: predict_color_models.predict_colors(\n",
    "    model, dataset, color_names,\n",
    "    seq_len_first=seq_len_first\n",
    ")"
   ]
  },
  {
   "cell_type": "code",
   "execution_count": 18,
   "metadata": {},
   "outputs": [],
   "source": [
    "def plot_expected_colors(color_names, color_rgb):\n",
    "    '''Plot colors with their actual color names'''\n",
    "    fig = plt.figure(figsize=(15, 2))\n",
    "    ax = fig.add_subplot(111)\n",
    "    total_width = 400\n",
    "    total_height = 200\n",
    "    col_width = total_width / len(color_names)\n",
    "    for i, (cn, rgb) in enumerate(zip(color_names, color_rgb)):\n",
    "        p = patches.Rectangle((col_width*i,0), total_width, total_height, color=rgb)\n",
    "        ax.add_patch(p)\n",
    "        ax.text(col_width*(i+0.25),total_height/2, cn)\n",
    "    plt.xlim([0, total_width])\n",
    "    plt.ylim([0, total_height])\n",
    "    plt.xticks([])\n",
    "    plt.yticks([])    "
   ]
  },
  {
   "cell_type": "code",
   "execution_count": 19,
   "metadata": {},
   "outputs": [],
   "source": [
    "def plot_predicted_colors(color_names):\n",
    "    '''Predict rgb values for a list of colors and plot them'''\n",
    "    fig = plt.figure(figsize=(15, 2))\n",
    "    ax = fig.add_subplot(111)\n",
    "    total_width = 400\n",
    "    total_height = 200\n",
    "    col_width = total_width / len(color_names)\n",
    "    for i, (cn, pred) in enumerate(zip(color_names, predict_colors(color_names))):\n",
    "        p = patches.Rectangle((col_width*i,0), total_width, total_height, color=pred)\n",
    "        ax.add_patch(p)\n",
    "        ax.text(col_width*(i+0.25),total_height/2, cn)\n",
    "    plt.xlim([0, total_width])\n",
    "    plt.ylim([0, total_height])\n",
    "    plt.xticks([])\n",
    "    plt.yticks([])    "
   ]
  },
  {
   "cell_type": "code",
   "execution_count": 25,
   "metadata": {},
   "outputs": [
    {
     "data": {
      "image/png": "[encoded data removed]",
      "text/plain": [
       "<Figure size 1080x144 with 1 Axes>"
      ]
     },
     "metadata": {},
     "output_type": "display_data"
    },
    {
     "data": {
      "image/png": "[encoded data removed]",
      "text/plain": [
       "<Figure size 1080x144 with 1 Axes>"
      ]
     },
     "metadata": {},
     "output_type": "display_data"
    }
   ],
   "source": [
    "# Plot some training samples\n",
    "select = 5\n",
    "idx = np.arange(len(dataset.train_set))\n",
    "np.random.shuffle(idx)\n",
    "train_loader = iter(color_dataset.DataLoader(dataset.train_set, shuffle=True, seq_len_first=seq_len_first))\n",
    "colors_selected = [(color_rgb, color_name) for color_rgb, _, color_name in [next(train_loader) for _ in range(select)]]\n",
    "color_rgb_selected = list(map(lambda x: x[0].view(-1).tolist(), colors_selected))\n",
    "color_names_selected = list(map(lambda x: x[1][0], colors_selected))\n",
    "plot_expected_colors(color_names_selected, color_rgb_selected)\n",
    "plot_predicted_colors(color_names_selected)"
   ]
  },
  {
   "cell_type": "code",
   "execution_count": 30,
   "metadata": {},
   "outputs": [
    {
     "data": {
      "image/png": "[encoded data removed]",
      "text/plain": [
       "<Figure size 1080x144 with 1 Axes>"
      ]
     },
     "metadata": {},
     "output_type": "display_data"
    },
    {
     "data": {
      "image/png": "[encoded data removed]",
      "text/plain": [
       "<Figure size 1080x144 with 1 Axes>"
      ]
     },
     "metadata": {},
     "output_type": "display_data"
    }
   ],
   "source": [
    "# Plot some CV samples\n",
    "select = 5\n",
    "idx = np.arange(len(dataset.cv_set))\n",
    "np.random.shuffle(idx)\n",
    "cv_loader = iter(color_dataset.DataLoader(dataset.cv_set, shuffle=True, seq_len_first=seq_len_first))\n",
    "colors_selected = [(color_rgb, color_name) for color_rgb, _, color_name in [next(train_loader) for _ in range(select)]]\n",
    "color_rgb_selected = list(map(lambda x: x[0].view(-1).tolist(), colors_selected))\n",
    "color_names_selected = list(map(lambda x: x[1][0], colors_selected))\n",
    "plot_expected_colors(color_names_selected, color_rgb_selected)\n",
    "plot_predicted_colors(color_names_selected)"
   ]
  },
  {
   "cell_type": "code",
   "execution_count": 31,
   "metadata": {},
   "outputs": [
    {
     "data": {
      "image/png": "[encoded data removed]",
      "text/plain": [
       "<Figure size 1080x144 with 1 Axes>"
      ]
     },
     "metadata": {},
     "output_type": "display_data"
    }
   ],
   "source": [
    "# Plot some more colors\n",
    "more_color_names = ['navy blue', 'green', 'red', 'black red', 'black', 'white']\n",
    "plot_predicted_colors(more_color_names)"
   ]
  },
  {
   "cell_type": "code",
   "execution_count": 32,
   "metadata": {},
   "outputs": [
    {
     "data": {
      "image/png": "[encoded data removed]",
      "text/plain": [
       "<Figure size 1080x144 with 1 Axes>"
      ]
     },
     "metadata": {},
     "output_type": "display_data"
    }
   ],
   "source": [
    "# Plot some more colors\n",
    "more_color_names = ['ivory red', 'night red', 'ice']\n",
    "plot_predicted_colors(more_color_names)"
   ]
  },
  {
   "cell_type": "code",
   "execution_count": null,
   "metadata": {},
   "outputs": [],
   "source": []
  }
 ],
 "metadata": {
  "kernelspec": {
   "display_name": "Python 3",
   "language": "python",
   "name": "python3"
  },
  "language_info": {
   "codemirror_mode": {
    "name": "ipython",
    "version": 3
   },
   "file_extension": ".py",
   "mimetype": "text/x-python",
   "name": "python",
   "nbconvert_exporter": "python",
   "pygments_lexer": "ipython3",
   "version": "3.7.4"
  }
 },
 "nbformat": 4,
 "nbformat_minor": 2
}
