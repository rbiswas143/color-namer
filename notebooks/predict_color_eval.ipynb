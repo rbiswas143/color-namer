{
 "cells": [
  {
   "cell_type": "code",
   "execution_count": 1,
   "metadata": {},
   "outputs": [],
   "source": [
    "%load_ext autoreload\n",
    "%autoreload\n",
    "\n",
    "import sys\n",
    "sys.path.append('..')\n",
    "\n",
    "import torch\n",
    "import torch.utils.data as D\n",
    "\n",
    "import os\n",
    "import pprint\n",
    "import matplotlib.pyplot as plt\n",
    "import matplotlib.patches as patches\n",
    "import numpy as np\n",
    "\n",
    "import color.models.predict_color as pred_color_models\n",
    "import color.data.dataset as color_dataset\n",
    "import color.training as training\n",
    "import color.utils.utils as utils"
   ]
  },
  {
   "cell_type": "code",
   "execution_count": 71,
   "metadata": {},
   "outputs": [],
   "source": [
    "save_dir = '../trained_models/hp/predict_color_lstm_grid/lstm_small_1'\n",
    "assert os.path.isdir(save_dir)"
   ]
  },
  {
   "cell_type": "code",
   "execution_count": 72,
   "metadata": {},
   "outputs": [
    {
     "name": "stdout",
     "output_type": "stream",
     "text": [
      "{'curr_epoch': 1,\n",
      " 'do_cv': True,\n",
      " 'draw_plots': True,\n",
      " 'epoch_cv_losses': [0.04721607360164676,\n",
      "                     0.04493524331962113,\n",
      "                     0.045903973874792586,\n",
      "                     0.043366179002069793,\n",
      "                     0.043237939345098175,\n",
      "                     0.043274828817992085,\n",
      "                     0.04382907816794066,\n",
      "                     0.04549096115922506,\n",
      "                     0.046287840446539684,\n",
      "                     0.04511858931684916,\n",
      "                     0.04604073330364396,\n",
      "                     0.04780127516889994,\n",
      "                     0.047550387087121476,\n",
      "                     0.04784718656961897,\n",
      "                     0.04880484437520525,\n",
      "                     0.04999073838765642,\n",
      "                     0.05093754287314626,\n",
      "                     0.050079493396050105,\n",
      "                     0.05129293846873056,\n",
      "                     0.05326455462295397],\n",
      " 'epoch_durations': [23.281545877456665,\n",
      "                     23.032915115356445,\n",
      "                     23.422556161880493,\n",
      "                     23.9204421043396,\n",
      "                     23.58826971054077,\n",
      "                     23.342193603515625,\n",
      "                     23.17028784751892,\n",
      "                     23.083229303359985,\n",
      "                     23.122406005859375,\n",
      "                     23.17043137550354,\n",
      "                     22.97680354118347,\n",
      "                     23.202112913131714,\n",
      "                     22.72630524635315,\n",
      "                     23.428889274597168,\n",
      "                     23.266729593276978,\n",
      "                     22.97967839241028,\n",
      "                     23.158952951431274,\n",
      "                     22.95148801803589,\n",
      "                     23.153015613555908,\n",
      "                     23.39819598197937],\n",
      " 'epoch_train_losses': [0.05254149895532477,\n",
      "                        0.04624665632513404,\n",
      "                        0.043481219520303954,\n",
      "                        0.04126693696518005,\n",
      "                        0.03948234221011222,\n",
      "                        0.0377041499015336,\n",
      "                        0.03597061343823934,\n",
      "                        0.034392183461245236,\n",
      "                        0.0328817311879244,\n",
      "                        0.03118296559761088,\n",
      "                        0.02971311091116708,\n",
      "                        0.028293438727829457,\n",
      "                        0.026982660644621268,\n",
      "                        0.025633985479206353,\n",
      "                        0.024479570367110206,\n",
      "                        0.023458237625447444,\n",
      "                        0.022240810737710663,\n",
      "                        0.021238576565188502,\n",
      "                        0.020431913315960486,\n",
      "                        0.01962898013880834],\n",
      " 'num_epochs': 20,\n",
      " 'save_dir': '/home/rb/pub/projects/color-namer/trained_models/hp/predict_color_lstm_grid/lstm_small_1',\n",
      " 'show_progress': True,\n",
      " 'use_cuda': True}\n"
     ]
    }
   ],
   "source": [
    "# Training params and losses\n",
    "training_params = training.load_training_params(save_dir)\n",
    "pprint.pprint(training_params)"
   ]
  },
  {
   "cell_type": "code",
   "execution_count": 73,
   "metadata": {},
   "outputs": [
    {
     "name": "stdout",
     "output_type": "stream",
     "text": [
      "{'batch_size': 1,\n",
      " 'cv_split': 0.1,\n",
      " 'dataset': 'big',\n",
      " 'emb_len': 200,\n",
      " 'max_words': None,\n",
      " 'normalize_rgb': True,\n",
      " 'num_workers': 0,\n",
      " 'pad_len': None,\n",
      " 'test_split': 0,\n",
      " 'use_cuda': True}\n",
      "16273 1808 0\n"
     ]
    }
   ],
   "source": [
    "# Dataset params and partitions\n",
    "dataset_params, (color_names_train, color_names_cv, color_names_test) = color_dataset.load_dataset_params(save_dir)\n",
    "pprint.pprint(dataset_params)\n",
    "print(len(color_names_train), len(color_names_cv), len(color_names_test))"
   ]
  },
  {
   "cell_type": "code",
   "execution_count": 74,
   "metadata": {},
   "outputs": [
    {
     "name": "stdout",
     "output_type": "stream",
     "text": [
      "{'name': 'lstm_small_1', 'emb_dim': 200, 'color_dim': 3, 'lr': 0.027003, 'momentum': 0.914787, 'weight_decay': 1e-05, 'lr_decay': (1, 0.9), 'hidden_dim': 100, 'num_layers': 1, 'dropout': 0}\n",
      "6\n"
     ]
    }
   ],
   "source": [
    "# Model params and weights\n",
    "model_weights, model_params = pred_color_models.load_model_params(save_dir)\n",
    "print(model_params)\n",
    "print(len(model_weights))"
   ]
  },
  {
   "cell_type": "code",
   "execution_count": 75,
   "metadata": {},
   "outputs": [
    {
     "name": "stdout",
     "output_type": "stream",
     "text": [
      "ColorPredictorLSTM(\n",
      "  (lstm): LSTM(200, 100)\n",
      "  (linear): Linear(in_features=100, out_features=3, bias=True)\n",
      ")\n",
      "Trainable Params: 121103\n"
     ]
    }
   ],
   "source": [
    "# Load model and pre-trained weights\n",
    "model = pred_color_models.ColorPredictorLSTM(**model_params)\n",
    "# model = pred_color_models.ColorPredictorRNN(**model_params)\n",
    "model.load_state_dict(model_weights)\n",
    "print(model)\n",
    "print('Trainable Params:', utils.get_trainable_params(model))"
   ]
  },
  {
   "cell_type": "code",
   "execution_count": 76,
   "metadata": {},
   "outputs": [
    {
     "name": "stdout",
     "output_type": "stream",
     "text": [
      "Loading colors dataset\n",
      "Loading embeddings\n",
      "Splitting dataset\n",
      "18080\n",
      "['greenland ice' list([0.72265625, 0.83984375, 0.8359375])] 16273 1808\n"
     ]
    }
   ],
   "source": [
    "# Re-create partitions\n",
    "dataset = color_dataset.Dataset(**dataset_params)\n",
    "color_name_dict = {color_name: color_rgb for color_rgb, _, color_name in dataset}\n",
    "print(len(color_name_dict))\n",
    "train_set = np.array([(name, torch.Tensor.tolist(color_name_dict[name])) for name in color_names_train])\n",
    "cv_set = np.array([(name, torch.Tensor.tolist(color_name_dict[name])) for name in color_names_cv])\n",
    "print(train_set[0],len(train_set), len(cv_set))"
   ]
  },
  {
   "cell_type": "code",
   "execution_count": 77,
   "metadata": {},
   "outputs": [
    {
     "name": "stdout",
     "output_type": "stream",
     "text": [
      "[[0.796856701374054, 0.16917946934700012, 0.18721632659435272]]\n"
     ]
    },
    {
     "data": {
      "text/plain": [
       "<matplotlib.patches.Rectangle at 0x7fcfe9c79898>"
      ]
     },
     "execution_count": 77,
     "metadata": {},
     "output_type": "execute_result"
    },
    {
     "data": {
      "image/png": "[encoded data removed]",
      "text/plain": [
       "<Figure size 432x288 with 1 Axes>"
      ]
     },
     "metadata": {
      "needs_background": "light"
     },
     "output_type": "display_data"
    }
   ],
   "source": [
    "# Runs a new color name throught the model to predict its color\n",
    "def predict(model, dataset, color_names):\n",
    "    color_name_embs = [\n",
    "        torch.tensor(color_dataset.to_embeddings(name, dataset.vocab_dict, dataset.embeddings)).float()\n",
    "        for name in color_names\n",
    "    ]\n",
    "    with torch.no_grad():\n",
    "        preds = []\n",
    "        for emb in color_name_embs:\n",
    "            pred_rgb = model(emb.view(1, emb.shape[0], -1))\n",
    "            preds.append(torch.Tensor.tolist(pred_rgb.view(-1)))\n",
    "        return preds\n",
    "color_preds = predict(model, dataset, ['red'])\n",
    "print(color_preds)\n",
    "p = patches.Rectangle((0,0), 5, 5, color=color_preds[0])\n",
    "fig,ax = plt.subplots(1)\n",
    "ax.add_patch(p)"
   ]
  },
  {
   "cell_type": "code",
   "execution_count": 78,
   "metadata": {},
   "outputs": [],
   "source": [
    "def plot_expected_colors(color_names, color_rgb):\n",
    "    fig = plt.figure(figsize=(15, 2))\n",
    "    ax = fig.add_subplot(111)\n",
    "    total_width = 400\n",
    "    total_height = 200\n",
    "    col_width = total_width / len(color_names)\n",
    "    for i, (cn, rgb) in enumerate(zip(color_names, color_rgb)):\n",
    "        p = patches.Rectangle((col_width*i,0), total_width, total_height, color=rgb)\n",
    "        ax.add_patch(p)\n",
    "        ax.text(col_width*(i+0.25),total_height/2, cn)\n",
    "    plt.xlim([0, total_width])\n",
    "    plt.ylim([0, total_height])"
   ]
  },
  {
   "cell_type": "code",
   "execution_count": 79,
   "metadata": {},
   "outputs": [],
   "source": [
    "def pred_and_plot(model, dataset, color_names):\n",
    "    fig = plt.figure(figsize=(15, 2))\n",
    "    ax = fig.add_subplot(111)\n",
    "    total_width = 400\n",
    "    total_height = 200\n",
    "    col_width = total_width / len(color_names)\n",
    "    for i, (cn, pred) in enumerate(zip(color_names, predict(model, dataset, color_names))):\n",
    "        p = patches.Rectangle((col_width*i,0), total_width, total_height, color=pred)\n",
    "        ax.add_patch(p)\n",
    "        ax.text(col_width*(i+0.25),total_height/2, cn)\n",
    "    plt.xlim([0, total_width])\n",
    "    plt.ylim([0, total_height])"
   ]
  },
  {
   "cell_type": "code",
   "execution_count": 81,
   "metadata": {},
   "outputs": [
    {
     "data": {
      "image/png": "[encoded data removed]",
      "text/plain": [
       "<Figure size 1080x144 with 1 Axes>"
      ]
     },
     "metadata": {
      "needs_background": "light"
     },
     "output_type": "display_data"
    },
    {
     "data": {
      "image/png": "[encoded data removed]",
      "text/plain": [
       "<Figure size 1080x144 with 1 Axes>"
      ]
     },
     "metadata": {
      "needs_background": "light"
     },
     "output_type": "display_data"
    }
   ],
   "source": [
    "# Plot some training samples\n",
    "select = 5\n",
    "idx = np.arange(len(train_set))\n",
    "np.random.shuffle(idx)\n",
    "colors_selected = train_set[idx[:select]]\n",
    "color_names_selected = [color_name for color_name,_ in colors_selected]\n",
    "color_rgb_selected = [color_rgb for _,color_rgb in colors_selected]\n",
    "# print(color_names_selected, color_rgb_selected)\n",
    "plot_expected_colors(color_names_selected, color_rgb_selected)\n",
    "pred_and_plot(model, dataset, color_names_selected)"
   ]
  },
  {
   "cell_type": "code",
   "execution_count": 82,
   "metadata": {},
   "outputs": [
    {
     "data": {
      "image/png": "[encoded data removed]",
      "text/plain": [
       "<Figure size 1080x144 with 1 Axes>"
      ]
     },
     "metadata": {
      "needs_background": "light"
     },
     "output_type": "display_data"
    },
    {
     "data": {
      "image/png": "[encoded data removed]",
      "text/plain": [
       "<Figure size 1080x144 with 1 Axes>"
      ]
     },
     "metadata": {
      "needs_background": "light"
     },
     "output_type": "display_data"
    }
   ],
   "source": [
    "# Plot some CV samples\n",
    "select = 5\n",
    "idx = np.arange(len(cv_set))\n",
    "np.random.shuffle(idx)\n",
    "colors_selected = cv_set[idx[:select]]\n",
    "color_names_selected = [color_name for color_name,_ in colors_selected]\n",
    "color_rgb_selected = [color_rgb for _,color_rgb in colors_selected]\n",
    "plot_expected_colors(color_names_selected, color_rgb_selected)\n",
    "pred_and_plot(model, dataset, color_names_selected)"
   ]
  },
  {
   "cell_type": "code",
   "execution_count": 51,
   "metadata": {},
   "outputs": [
    {
     "data": {
      "image/png": "[encoded data removed]",
      "text/plain": [
       "<Figure size 1080x144 with 1 Axes>"
      ]
     },
     "metadata": {
      "needs_background": "light"
     },
     "output_type": "display_data"
    }
   ],
   "source": [
    "# Plot some more colors\n",
    "more_color_names = ['navy blue', 'green', 'red', 'black red', 'black', 'white']\n",
    "pred_and_plot(model, dataset, more_color_names)"
   ]
  },
  {
   "cell_type": "code",
   "execution_count": 70,
   "metadata": {},
   "outputs": [
    {
     "data": {
      "image/png": "[encoded data removed]",
      "text/plain": [
       "<Figure size 1080x144 with 1 Axes>"
      ]
     },
     "metadata": {
      "needs_background": "light"
     },
     "output_type": "display_data"
    }
   ],
   "source": [
    "# Plot some more colors\n",
    "more_color_names = ['ivory red', 'night red', 'ice']\n",
    "pred_and_plot(model, dataset, more_color_names)"
   ]
  },
  {
   "cell_type": "code",
   "execution_count": null,
   "metadata": {},
   "outputs": [],
   "source": []
  }
 ],
 "metadata": {
  "kernelspec": {
   "display_name": "colornamer",
   "language": "python",
   "name": "colornamer"
  },
  "language_info": {
   "codemirror_mode": {
    "name": "ipython",
    "version": 3
   },
   "file_extension": ".py",
   "mimetype": "text/x-python",
   "name": "python",
   "nbconvert_exporter": "python",
   "pygments_lexer": "ipython3",
   "version": "3.7.3"
  }
 },
 "nbformat": 4,
 "nbformat_minor": 2
}
