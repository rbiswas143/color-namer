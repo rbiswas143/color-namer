{
 "cells": [
  {
   "cell_type": "code",
   "execution_count": 1,
   "metadata": {},
   "outputs": [],
   "source": [
    "%load_ext autoreload"
   ]
  },
  {
   "cell_type": "code",
   "execution_count": 2,
   "metadata": {},
   "outputs": [],
   "source": [
    "%autoreload\n",
    "\n",
    "import sys\n",
    "sys.path.append('..')\n",
    "\n",
    "import os\n",
    "import re\n",
    "import csv\n",
    "\n",
    "import numpy as np\n",
    "import pandas as pd\n",
    "import matplotlib.pyplot as plt\n",
    "\n",
    "import color.data.colors_big as dataset"
   ]
  },
  {
   "cell_type": "code",
   "execution_count": 3,
   "metadata": {},
   "outputs": [
    {
     "data": {
      "text/plain": [
       "'../datasets/embeddings/glove.6B.50d.txt'"
      ]
     },
     "execution_count": 3,
     "metadata": {},
     "output_type": "execute_result"
    }
   ],
   "source": [
    "# Choose embedding file\n",
    "datasets_path = os.path.join('..', 'datasets')\n",
    "emb_dir = os.path.join(datasets_path, 'embeddings')\n",
    "emb_files = [os.path.join(emb_dir, f) for f in os.listdir(emb_dir)]\n",
    "emb_dims = 50 # 50, 100, 200, 300\n",
    "emb_file = list(filter(lambda f: str(emb_dims) in f, emb_files))[0]\n",
    "emb_file"
   ]
  },
  {
   "cell_type": "code",
   "execution_count": 4,
   "metadata": {},
   "outputs": [
    {
     "data": {
      "text/plain": [
       "(400000, 50)"
      ]
     },
     "execution_count": 4,
     "metadata": {},
     "output_type": "execute_result"
    }
   ],
   "source": [
    "# Parse embeddings\n",
    "emb_df = pd.read_csv(emb_file, sep=' ', engine='c', encoding='utf-8',\n",
    "                     quoting=csv.QUOTE_NONE, header=None,\n",
    "                     keep_default_na=False, na_values=['%%%&&&???@@@'])\n",
    "vocab = emb_df[0]\n",
    "emb_df.drop(0, axis=1, inplace=True)\n",
    "emb_matrix = emb_df.astype('float').values\n",
    "emb_dict = {vocab[i]: emb_matrix[i] for i in range(len(vocab))}\n",
    "\n",
    "emb_matrix.shape"
   ]
  },
  {
   "cell_type": "code",
   "execution_count": 5,
   "metadata": {},
   "outputs": [
    {
     "data": {
      "text/plain": [
       "(400000, 489)"
      ]
     },
     "execution_count": 5,
     "metadata": {},
     "output_type": "execute_result"
    }
   ],
   "source": [
    "# Embedding Characters\n",
    "emb_words = set(vocab)\n",
    "emb_chars = set()\n",
    "for word in emb_words:\n",
    "    for char in word:\n",
    "        emb_chars.add(char)\n",
    "len(emb_words), len(emb_chars)"
   ]
  },
  {
   "cell_type": "code",
   "execution_count": 6,
   "metadata": {},
   "outputs": [
    {
     "name": "stdout",
     "output_type": "stream",
     "text": [
      "Color map: (18081, 3)\n"
     ]
    },
    {
     "data": {
      "text/plain": [
       "9807"
      ]
     },
     "execution_count": 6,
     "metadata": {},
     "output_type": "execute_result"
    }
   ],
   "source": [
    "# Extract words from color names\n",
    "color_words = set()\n",
    "color_names, color_rgb = dataset.load_color_names()\n",
    "print('Color map:', color_rgb.shape)\n",
    "for name in color_names:\n",
    "    for comps in name.split():\n",
    "        color_words.add(comps.lower())\n",
    "len(color_words)"
   ]
  },
  {
   "cell_type": "code",
   "execution_count": 7,
   "metadata": {},
   "outputs": [
    {
     "data": {
      "text/plain": [
       "90"
      ]
     },
     "execution_count": 7,
     "metadata": {},
     "output_type": "execute_result"
    }
   ],
   "source": [
    "# Color characters from color names\n",
    "color_chars = set()\n",
    "for word in color_words:\n",
    "    for char in word:\n",
    "        color_chars.add(char)\n",
    "len(color_chars)"
   ]
  },
  {
   "cell_type": "code",
   "execution_count": 8,
   "metadata": {},
   "outputs": [
    {
     "name": "stdout",
     "output_type": "stream",
     "text": [
      "Common Words: 8300 [84.63%]\n",
      "Common Characters: 88 [97.78%]\n",
      "Missing Words (50):\n",
      "['kihada', \"carol's\", 'urnebes', 'cuit', 'irrigo', 'sonki', 'sinopia', 'lugganath', 'pink-n-purple', \"gentleman's\", 'ritterlich', 'ghostlands', 'skobeloff', 'agrodolce', 'chrysomela', \"apollo's\", 'halayà', 'caspia', 'cacodemon', 'ephren', 'stockleaf', 'half-smoke', 'fogtown', 'rickrack', 'rohwurst', 'tambua', 'sunglow', 'sphagnales', 'fiddlesticks', 'garrafa', 'arapawa', 'pīlā', 'kālā', 'tanooki', 'ogon', 'kokushoku', 'nordwand', 'greenshade', 'argeotus', \"rock'n'rose\", 'brunnera', 'kumera', 'talec', 'stomy', 'sabiseiji', 'sombrio', 'dottyback', 'no$gmb', 'hanyauku', 'fiddle-leaf']\n",
      "Missing Characters:\n",
      "['ǎ', 'ǜ']\n"
     ]
    }
   ],
   "source": [
    "# Overlaps\n",
    "common_words = color_words & emb_words\n",
    "print('Common Words: {} [{:.2f}%]'.format(len(common_words), len(common_words)*100/len(color_words)))\n",
    "\n",
    "common_chars = color_chars & emb_chars\n",
    "print('Common Characters: {} [{:.2f}%]'.format(len(common_chars), len(common_chars)*100/len(color_chars)))\n",
    "\n",
    "print('Missing Words (50):')\n",
    "print(list(color_words - emb_words)[:50])\n",
    "\n",
    "print('Missing Characters:')\n",
    "print(list(color_chars - emb_chars))\n"
   ]
  },
  {
   "cell_type": "code",
   "execution_count": 9,
   "metadata": {},
   "outputs": [
    {
     "name": "stdout",
     "output_type": "stream",
     "text": [
      "Word: red, Known: True, Emb Shape: (50,)\n",
      "Embedding: [-0.12878  0.8798  -0.60694  0.12934  0.5868 ]\n",
      "Word: black, Known: True, Emb Shape: (50,)\n",
      "Embedding: [-0.96256  0.65329 -0.55152 -0.41065  0.80223]\n",
      "Word: peachy, Known: True, Emb Shape: (50,)\n",
      "Embedding: [ 0.0057898  0.71833   -0.60716   -0.6716     0.21509  ]\n",
      "Word: watermelon, Known: True, Emb Shape: (50,)\n",
      "Embedding: [-0.11169 -0.73634 -0.87099  0.66481  0.8636 ]\n",
      "Word: dog, Known: True, Emb Shape: (50,)\n",
      "Embedding: [ 0.11008 -0.38781 -0.57615 -0.27714  0.70521]\n",
      "Word: sussie, Known: False, Emb Shape: (50,)\n",
      "Embedding: [-0.01888662  0.33582921 -0.48494945  0.11186212 -0.444195  ]\n",
      "Word: truesky, Known: False, Emb Shape: (50,)\n",
      "Embedding: [-0.37205656  0.41655527 -0.05786557 -0.3768286   0.3959026 ]\n",
      "Word: elmer's, Known: False, Emb Shape: (50,)\n",
      "Embedding: [ 0.3129553  -0.17130068  0.23923813 -0.23686071 -0.25638446]\n",
      "Word: skavenblight, Known: False, Emb Shape: (50,)\n",
      "Embedding: [-0.20510155  0.13538581  0.16101091  0.01521454  0.06507711]\n",
      "Word: bunny's, Known: False, Emb Shape: (50,)\n",
      "Embedding: [ 0.05685751  0.30783637 -0.16839209 -0.22435993 -0.22815351]\n"
     ]
    }
   ],
   "source": [
    "# Get embeddings for words\n",
    "# For known words (which have embeddings) just lookup the embedding\n",
    "# For any other word, generate a random embedding\n",
    "known_words = ['red', 'black', 'peachy', 'watermelon', 'dog']\n",
    "unknown_words = ['sussie', 'truesky', \"elmer's\", 'skavenblight', \"bunny's\"]\n",
    "for word in [*known_words, *unknown_words]:\n",
    "    if word in emb_dict:\n",
    "        known = True\n",
    "        emb = np.array(emb_dict[word])\n",
    "    else:\n",
    "        known = False\n",
    "        emb = np.random.rand(emb_dims) - 0.5  # Range (-0.5, 0.5)\n",
    "    print(\"Word: {}, Known: {}, Emb Shape: {}\\nEmbedding: {}\".format(word, known, emb.shape, emb[:5]))"
   ]
  },
  {
   "cell_type": "code",
   "execution_count": 10,
   "metadata": {},
   "outputs": [
    {
     "name": "stdout",
     "output_type": "stream",
     "text": [
      "Similarity b/w \"woman\" and \"kitchen\" is 0.4181231013837278\n",
      "Similarity b/w \"woman\" and \"object\" is 0.4139111260693676\n",
      "Similarity b/w \"woman\" and \"woman\" is 1.0000000000000002\n"
     ]
    }
   ],
   "source": [
    "# Check similarity b/w words\n",
    "def similarity(x, y):\n",
    "    return np.dot(x, y.T) / (np.sqrt(np.dot(x, x.T)) * np.sqrt(np.dot(y, y.T)))\n",
    "\n",
    "words = [\n",
    "    ['woman', 'kitchen'],\n",
    "    ['woman', 'object'],\n",
    "    ['woman', 'woman'],\n",
    "]  # Checking bias. No, I am not sexist.\n",
    "for word1, word2 in words:\n",
    "    emb1, emb2 = np.array(emb_dict[word1]), np.array(emb_dict[word2])\n",
    "    print('Similarity b/w \"{}\" and \"{}\" is {}'.format(word1, word2, similarity(emb1, emb2)))"
   ]
  },
  {
   "cell_type": "code",
   "execution_count": 11,
   "metadata": {},
   "outputs": [
    {
     "name": "stdout",
     "output_type": "stream",
     "text": [
      "Most similar word: red 0.9999999999999999\n",
      "Most dissililar word esber -0.7445946751683283\n"
     ]
    }
   ],
   "source": [
    "# Get closest words for embeddings\n",
    "\n",
    "emb_red = np.array(['-0.12878', '0.8798', '-0.60694', '0.12934', '0.5868', '-0.038246', '-1.0408',\n",
    " '-0.52881', '-0.29563', '-0.72567', '0.21189', '0.17112', '0.19173', '0.36099',\n",
    " '0.032672', '-0.2743', '-0.19291', '-0.10909', '-1.0057', '-0.93901', '-1.0207',\n",
    " '-0.69995', '0.57182', '-0.45136', '-1.2145', '-1.1954', '-0.32758', '1.4921',\n",
    " '0.54574', '-1.0008', '2.845', '0.26479', '-0.49938', '0.34366', '-0.12574',\n",
    " '0.5905', '-0.037696', '-0.47175', '0.050825', '-0.20362', '0.13695', '0.26686',\n",
    " '-0.19461', '-0.75482', '1.0303', '-0.057467', '-0.32327', '-0.7712',\n",
    " '-0.16764', '-0.73835']).astype(np.float).reshape(50,1)  # Embedding for the word \"red\"\n",
    "\n",
    "emb_random = np.random.rand(50) - 0.5  # Candidate for out of vocab words\n",
    "emb_ones = np.ones_like(emb_red)  # Candidate for stop word\n",
    "\n",
    "# Choose an embedding to compare\n",
    "emb_curr = emb_red\n",
    "\n",
    "# Similary score\n",
    "embs_mag = np.sqrt(np.sum(emb_matrix*emb_matrix, axis=1)).reshape(-1)  # Norm of all word embeddings\n",
    "emb_curr_mag = np.sqrt(np.dot(emb_curr.T, emb_curr)).reshape(-1)  # Norm of current word embedding\n",
    "emb_dot = np.dot(emb_matrix, emb_curr).reshape(-1)  # Dot product of current embedding with all other embeddings\n",
    "embs_sim = emb_dot / (embs_mag * emb_curr_mag)  # Cosine similary scores\n",
    "\n",
    "# Most similar word\n",
    "print('Most similar word:', vocab[np.argmax(embs_sim)], embs_sim[np.argmax(embs_sim)])\n",
    "\n",
    "# Most dissimilar word\n",
    "print('Most dissililar word', vocab[np.argmin(embs_sim)], embs_sim[np.argmin(embs_sim)])"
   ]
  },
  {
   "cell_type": "code",
   "execution_count": 12,
   "metadata": {},
   "outputs": [
    {
     "data": {
      "text/plain": [
       "(10000, 50)"
      ]
     },
     "execution_count": 12,
     "metadata": {},
     "output_type": "execute_result"
    }
   ],
   "source": [
    "# Lets sample out some words embeddings for the purpose of EDA\n",
    "idx = np.arange(len(emb_dict))\n",
    "np.random.shuffle(idx)\n",
    "samp_size = 10000\n",
    "samp = emb_matrix[idx[:samp_size]]\n",
    "samp.shape"
   ]
  },
  {
   "cell_type": "code",
   "execution_count": 13,
   "metadata": {},
   "outputs": [
    {
     "data": {
      "image/png": "[encoded data removed]",
      "text/plain": [
       "<Figure size 1080x360 with 1 Axes>"
      ]
     },
     "metadata": {
      "needs_background": "light"
     },
     "output_type": "display_data"
    }
   ],
   "source": [
    "# Embedding Distribution\n",
    "plt.figure(figsize=(15,5))\n",
    "plt.boxplot(samp)\n",
    "plt.show()"
   ]
  },
  {
   "cell_type": "code",
   "execution_count": 14,
   "metadata": {},
   "outputs": [
    {
     "data": {
      "text/html": [
       "<div>\n",
       "<style scoped>\n",
       "    .dataframe tbody tr th:only-of-type {\n",
       "        vertical-align: middle;\n",
       "    }\n",
       "\n",
       "    .dataframe tbody tr th {\n",
       "        vertical-align: top;\n",
       "    }\n",
       "\n",
       "    .dataframe thead th {\n",
       "        text-align: right;\n",
       "    }\n",
       "</style>\n",
       "<table border=\"1\" class=\"dataframe\">\n",
       "  <thead>\n",
       "    <tr style=\"text-align: right;\">\n",
       "      <th></th>\n",
       "      <th>0</th>\n",
       "      <th>1</th>\n",
       "      <th>2</th>\n",
       "      <th>3</th>\n",
       "      <th>4</th>\n",
       "      <th>5</th>\n",
       "      <th>6</th>\n",
       "      <th>7</th>\n",
       "      <th>8</th>\n",
       "      <th>9</th>\n",
       "      <th>...</th>\n",
       "      <th>40</th>\n",
       "      <th>41</th>\n",
       "      <th>42</th>\n",
       "      <th>43</th>\n",
       "      <th>44</th>\n",
       "      <th>45</th>\n",
       "      <th>46</th>\n",
       "      <th>47</th>\n",
       "      <th>48</th>\n",
       "      <th>49</th>\n",
       "    </tr>\n",
       "  </thead>\n",
       "  <tbody>\n",
       "    <tr>\n",
       "      <th>count</th>\n",
       "      <td>10000.000000</td>\n",
       "      <td>10000.000000</td>\n",
       "      <td>10000.000000</td>\n",
       "      <td>10000.000000</td>\n",
       "      <td>10000.000000</td>\n",
       "      <td>10000.000000</td>\n",
       "      <td>10000.000000</td>\n",
       "      <td>10000.000000</td>\n",
       "      <td>10000.000000</td>\n",
       "      <td>10000.000000</td>\n",
       "      <td>...</td>\n",
       "      <td>10000.000000</td>\n",
       "      <td>10000.000000</td>\n",
       "      <td>10000.000000</td>\n",
       "      <td>10000.000000</td>\n",
       "      <td>10000.000000</td>\n",
       "      <td>10000.000000</td>\n",
       "      <td>10000.000000</td>\n",
       "      <td>10000.000000</td>\n",
       "      <td>10000.000000</td>\n",
       "      <td>10000.000000</td>\n",
       "    </tr>\n",
       "    <tr>\n",
       "      <th>mean</th>\n",
       "      <td>-0.136715</td>\n",
       "      <td>-0.299807</td>\n",
       "      <td>0.004290</td>\n",
       "      <td>-0.055017</td>\n",
       "      <td>-0.191971</td>\n",
       "      <td>-0.082788</td>\n",
       "      <td>0.334686</td>\n",
       "      <td>0.167790</td>\n",
       "      <td>0.043104</td>\n",
       "      <td>0.173428</td>\n",
       "      <td>...</td>\n",
       "      <td>0.139416</td>\n",
       "      <td>-0.174729</td>\n",
       "      <td>-0.089471</td>\n",
       "      <td>0.097420</td>\n",
       "      <td>0.004636</td>\n",
       "      <td>-0.143118</td>\n",
       "      <td>0.201437</td>\n",
       "      <td>0.105027</td>\n",
       "      <td>0.004569</td>\n",
       "      <td>0.006322</td>\n",
       "    </tr>\n",
       "    <tr>\n",
       "      <th>std</th>\n",
       "      <td>0.624329</td>\n",
       "      <td>0.613605</td>\n",
       "      <td>0.621776</td>\n",
       "      <td>0.617112</td>\n",
       "      <td>0.634796</td>\n",
       "      <td>0.659180</td>\n",
       "      <td>0.625716</td>\n",
       "      <td>0.598574</td>\n",
       "      <td>0.645433</td>\n",
       "      <td>0.614165</td>\n",
       "      <td>...</td>\n",
       "      <td>0.565951</td>\n",
       "      <td>0.612947</td>\n",
       "      <td>0.603791</td>\n",
       "      <td>0.624464</td>\n",
       "      <td>0.619863</td>\n",
       "      <td>0.614824</td>\n",
       "      <td>0.556535</td>\n",
       "      <td>0.618017</td>\n",
       "      <td>0.595296</td>\n",
       "      <td>0.611967</td>\n",
       "    </tr>\n",
       "    <tr>\n",
       "      <th>min</th>\n",
       "      <td>-2.685400</td>\n",
       "      <td>-2.717500</td>\n",
       "      <td>-2.830200</td>\n",
       "      <td>-2.546400</td>\n",
       "      <td>-3.790500</td>\n",
       "      <td>-3.073800</td>\n",
       "      <td>-2.355600</td>\n",
       "      <td>-2.742300</td>\n",
       "      <td>-3.416900</td>\n",
       "      <td>-2.572600</td>\n",
       "      <td>...</td>\n",
       "      <td>-2.036100</td>\n",
       "      <td>-2.764300</td>\n",
       "      <td>-2.671600</td>\n",
       "      <td>-3.314700</td>\n",
       "      <td>-2.983300</td>\n",
       "      <td>-3.513300</td>\n",
       "      <td>-2.064100</td>\n",
       "      <td>-2.806000</td>\n",
       "      <td>-2.425700</td>\n",
       "      <td>-2.360700</td>\n",
       "    </tr>\n",
       "    <tr>\n",
       "      <th>25%</th>\n",
       "      <td>-0.536297</td>\n",
       "      <td>-0.703313</td>\n",
       "      <td>-0.397133</td>\n",
       "      <td>-0.464628</td>\n",
       "      <td>-0.598952</td>\n",
       "      <td>-0.481082</td>\n",
       "      <td>-0.069930</td>\n",
       "      <td>-0.199012</td>\n",
       "      <td>-0.364865</td>\n",
       "      <td>-0.213333</td>\n",
       "      <td>...</td>\n",
       "      <td>-0.219017</td>\n",
       "      <td>-0.576215</td>\n",
       "      <td>-0.480843</td>\n",
       "      <td>-0.303242</td>\n",
       "      <td>-0.399095</td>\n",
       "      <td>-0.532658</td>\n",
       "      <td>-0.153450</td>\n",
       "      <td>-0.284793</td>\n",
       "      <td>-0.371247</td>\n",
       "      <td>-0.404655</td>\n",
       "    </tr>\n",
       "    <tr>\n",
       "      <th>50%</th>\n",
       "      <td>-0.135230</td>\n",
       "      <td>-0.328570</td>\n",
       "      <td>0.011710</td>\n",
       "      <td>-0.078858</td>\n",
       "      <td>-0.204495</td>\n",
       "      <td>-0.076325</td>\n",
       "      <td>0.351545</td>\n",
       "      <td>0.189305</td>\n",
       "      <td>0.050853</td>\n",
       "      <td>0.199465</td>\n",
       "      <td>...</td>\n",
       "      <td>0.131780</td>\n",
       "      <td>-0.198955</td>\n",
       "      <td>-0.100710</td>\n",
       "      <td>0.115555</td>\n",
       "      <td>0.004114</td>\n",
       "      <td>-0.161190</td>\n",
       "      <td>0.206915</td>\n",
       "      <td>0.111390</td>\n",
       "      <td>0.000633</td>\n",
       "      <td>-0.009116</td>\n",
       "    </tr>\n",
       "    <tr>\n",
       "      <th>75%</th>\n",
       "      <td>0.258463</td>\n",
       "      <td>0.070890</td>\n",
       "      <td>0.401483</td>\n",
       "      <td>0.324288</td>\n",
       "      <td>0.203595</td>\n",
       "      <td>0.322085</td>\n",
       "      <td>0.736370</td>\n",
       "      <td>0.574252</td>\n",
       "      <td>0.455680</td>\n",
       "      <td>0.569985</td>\n",
       "      <td>...</td>\n",
       "      <td>0.475745</td>\n",
       "      <td>0.198657</td>\n",
       "      <td>0.298810</td>\n",
       "      <td>0.508087</td>\n",
       "      <td>0.395937</td>\n",
       "      <td>0.223070</td>\n",
       "      <td>0.556218</td>\n",
       "      <td>0.493260</td>\n",
       "      <td>0.384662</td>\n",
       "      <td>0.405772</td>\n",
       "    </tr>\n",
       "    <tr>\n",
       "      <th>max</th>\n",
       "      <td>2.918600</td>\n",
       "      <td>2.850200</td>\n",
       "      <td>3.642200</td>\n",
       "      <td>2.972300</td>\n",
       "      <td>2.468700</td>\n",
       "      <td>3.006500</td>\n",
       "      <td>3.096600</td>\n",
       "      <td>2.706200</td>\n",
       "      <td>2.840500</td>\n",
       "      <td>3.269400</td>\n",
       "      <td>...</td>\n",
       "      <td>3.420200</td>\n",
       "      <td>3.470900</td>\n",
       "      <td>2.605500</td>\n",
       "      <td>2.785400</td>\n",
       "      <td>2.928100</td>\n",
       "      <td>3.349800</td>\n",
       "      <td>2.705500</td>\n",
       "      <td>4.265000</td>\n",
       "      <td>2.809600</td>\n",
       "      <td>3.829600</td>\n",
       "    </tr>\n",
       "  </tbody>\n",
       "</table>\n",
       "<p>8 rows × 50 columns</p>\n",
       "</div>"
      ],
      "text/plain": [
       "                 0             1             2             3             4   \\\n",
       "count  10000.000000  10000.000000  10000.000000  10000.000000  10000.000000   \n",
       "mean      -0.136715     -0.299807      0.004290     -0.055017     -0.191971   \n",
       "std        0.624329      0.613605      0.621776      0.617112      0.634796   \n",
       "min       -2.685400     -2.717500     -2.830200     -2.546400     -3.790500   \n",
       "25%       -0.536297     -0.703313     -0.397133     -0.464628     -0.598952   \n",
       "50%       -0.135230     -0.328570      0.011710     -0.078858     -0.204495   \n",
       "75%        0.258463      0.070890      0.401483      0.324288      0.203595   \n",
       "max        2.918600      2.850200      3.642200      2.972300      2.468700   \n",
       "\n",
       "                 5             6             7             8             9   \\\n",
       "count  10000.000000  10000.000000  10000.000000  10000.000000  10000.000000   \n",
       "mean      -0.082788      0.334686      0.167790      0.043104      0.173428   \n",
       "std        0.659180      0.625716      0.598574      0.645433      0.614165   \n",
       "min       -3.073800     -2.355600     -2.742300     -3.416900     -2.572600   \n",
       "25%       -0.481082     -0.069930     -0.199012     -0.364865     -0.213333   \n",
       "50%       -0.076325      0.351545      0.189305      0.050853      0.199465   \n",
       "75%        0.322085      0.736370      0.574252      0.455680      0.569985   \n",
       "max        3.006500      3.096600      2.706200      2.840500      3.269400   \n",
       "\n",
       "       ...            40            41            42            43  \\\n",
       "count  ...  10000.000000  10000.000000  10000.000000  10000.000000   \n",
       "mean   ...      0.139416     -0.174729     -0.089471      0.097420   \n",
       "std    ...      0.565951      0.612947      0.603791      0.624464   \n",
       "min    ...     -2.036100     -2.764300     -2.671600     -3.314700   \n",
       "25%    ...     -0.219017     -0.576215     -0.480843     -0.303242   \n",
       "50%    ...      0.131780     -0.198955     -0.100710      0.115555   \n",
       "75%    ...      0.475745      0.198657      0.298810      0.508087   \n",
       "max    ...      3.420200      3.470900      2.605500      2.785400   \n",
       "\n",
       "                 44            45            46            47            48  \\\n",
       "count  10000.000000  10000.000000  10000.000000  10000.000000  10000.000000   \n",
       "mean       0.004636     -0.143118      0.201437      0.105027      0.004569   \n",
       "std        0.619863      0.614824      0.556535      0.618017      0.595296   \n",
       "min       -2.983300     -3.513300     -2.064100     -2.806000     -2.425700   \n",
       "25%       -0.399095     -0.532658     -0.153450     -0.284793     -0.371247   \n",
       "50%        0.004114     -0.161190      0.206915      0.111390      0.000633   \n",
       "75%        0.395937      0.223070      0.556218      0.493260      0.384662   \n",
       "max        2.928100      3.349800      2.705500      4.265000      2.809600   \n",
       "\n",
       "                 49  \n",
       "count  10000.000000  \n",
       "mean       0.006322  \n",
       "std        0.611967  \n",
       "min       -2.360700  \n",
       "25%       -0.404655  \n",
       "50%       -0.009116  \n",
       "75%        0.405772  \n",
       "max        3.829600  \n",
       "\n",
       "[8 rows x 50 columns]"
      ]
     },
     "execution_count": 14,
     "metadata": {},
     "output_type": "execute_result"
    }
   ],
   "source": [
    "# Summary\n",
    "df = pd.DataFrame(samp)\n",
    "df.describe()"
   ]
  },
  {
   "cell_type": "code",
   "execution_count": 15,
   "metadata": {},
   "outputs": [
    {
     "name": "stdout",
     "output_type": "stream",
     "text": [
      "IQR: -0.3869125 0.43646\n",
      "Mean: 0.022056999884146212\n"
     ]
    }
   ],
   "source": [
    "print('IQR:', np.percentile(samp, 25), np.percentile(samp, 75))\n",
    "print('Mean:', np.mean(samp))"
   ]
  },
  {
   "cell_type": "code",
   "execution_count": null,
   "metadata": {},
   "outputs": [],
   "source": []
  }
 ],
 "metadata": {
  "kernelspec": {
   "display_name": "Python 3",
   "language": "python",
   "name": "python3"
  },
  "language_info": {
   "codemirror_mode": {
    "name": "ipython",
    "version": 3
   },
   "file_extension": ".py",
   "mimetype": "text/x-python",
   "name": "python",
   "nbconvert_exporter": "python",
   "pygments_lexer": "ipython3",
   "version": "3.7.4"
  }
 },
 "nbformat": 4,
 "nbformat_minor": 2
}
