{
 "cells": [
  {
   "cell_type": "code",
   "execution_count": 8,
   "metadata": {},
   "outputs": [],
   "source": [
    "%load_ext autoreload\n",
    "%autoreload\n",
    "\n",
    "import sys\n",
    "sys.path.append('..')\n",
    "\n",
    "import os\n",
    "import re\n",
    "import csv\n",
    "\n",
    "import numpy as np\n",
    "import pandas as pd\n",
    "import matplotlib.pyplot as plt\n",
    "\n",
    "import color.data.colors_big as dataset"
   ]
  },
  {
   "cell_type": "code",
   "execution_count": 2,
   "metadata": {},
   "outputs": [
    {
     "data": {
      "text/plain": [
       "'../datasets/embeddings/glove.6B.50d.txt'"
      ]
     },
     "execution_count": 2,
     "metadata": {},
     "output_type": "execute_result"
    }
   ],
   "source": [
    "# Choose embedding file\n",
    "datasets_path = os.path.join('..', 'datasets')\n",
    "emb_dir = os.path.join(datasets_path, 'embeddings')\n",
    "emb_files = [os.path.join(emb_dir, f) for f in os.listdir(emb_dir)]\n",
    "emb_dims = 50 # 50, 100, 200, 300\n",
    "emb_file = list(filter(lambda f: str(emb_dims) in f, emb_files))[0]\n",
    "emb_file"
   ]
  },
  {
   "cell_type": "code",
   "execution_count": 67,
   "metadata": {},
   "outputs": [],
   "source": [
    "# Parse embeddings\n",
    "emb_df = pd.read_csv(emb_file, sep=' ', engine='c', encoding='utf-8',\n",
    "                     quoting=csv.QUOTE_NONE, header=None,\n",
    "                     keep_default_na=False, na_values=['%%%&&&???@@@'])\n",
    "vocab = emb_df[0]\n",
    "emb_df.drop(0, axis=1, inplace=True)\n",
    "emb_matrix = emb_df.astype('float').values\n",
    "emb_dict = {vocab[i]: emb_matrix[i] for i in range(len(vocab))}"
   ]
  },
  {
   "cell_type": "code",
   "execution_count": 50,
   "metadata": {},
   "outputs": [
    {
     "name": "stdout",
     "output_type": "stream",
     "text": [
      "489\n"
     ]
    }
   ],
   "source": [
    "# Embedding Characters\n",
    "emb_words = set(vocab)\n",
    "emb_chars = set()\n",
    "for word in emb_words:\n",
    "    for char in word:\n",
    "        emb_chars.add(char)\n",
    "print(len(emb_chars))\n",
    "#emb_chars"
   ]
  },
  {
   "cell_type": "code",
   "execution_count": 53,
   "metadata": {},
   "outputs": [
    {
     "name": "stdout",
     "output_type": "stream",
     "text": [
      "Color map: (18081, 3)\n"
     ]
    },
    {
     "data": {
      "text/plain": [
       "9807"
      ]
     },
     "execution_count": 53,
     "metadata": {},
     "output_type": "execute_result"
    }
   ],
   "source": [
    "# Extract words from color names\n",
    "color_words = set()\n",
    "color_names, color_rgb = dataset.load_color_names()\n",
    "print('Color map:', color_rgb.shape)\n",
    "for name in color_names:\n",
    "    for comps in name.split():\n",
    "        color_words.add(comps.lower())\n",
    "len(color_words)"
   ]
  },
  {
   "cell_type": "code",
   "execution_count": 54,
   "metadata": {},
   "outputs": [
    {
     "name": "stdout",
     "output_type": "stream",
     "text": [
      "90\n"
     ]
    }
   ],
   "source": [
    "# Color names characters\n",
    "color_chars = set()\n",
    "for word in color_words:\n",
    "    for char in word:\n",
    "        color_chars.add(char)\n",
    "print(len(color_chars))\n",
    "# color_chars"
   ]
  },
  {
   "cell_type": "code",
   "execution_count": 57,
   "metadata": {},
   "outputs": [
    {
     "name": "stdout",
     "output_type": "stream",
     "text": [
      "Common Words: 8300 [84.63%]\n",
      "Common Characters: 88 [97.78%]\n",
      "Missing Words (50):\n",
      "['spiritstone', 'raftsman', \"bunny's\", 'gungeon', 'zinnwaldite', 'rurikon', 'orange-coloured', 'oakmoss', 'leever', 'rainsong', 'tetsu-kon', \"baker's\", 'kakitsubata', 'kālā', 'camaron', \"cat's\", \"zeus'temple\", \"surf'n'dive\", 'xanthous', 'kiriume', 'ashlite', 'grunervetliner', 'nasake', 'scrofulous', 'torns', 'araigaki', \"hawker's\", 'narwhale', 'champignon', 'koromiko', \"pirate's\", 'waikawa', 'freinacht', 'transtasman', 'bloedworst', 'deathworld', 'shattan', \"ragin'\", 'maine-anjou', \"newman's\", 'gretchin', 'mauvewood', 'algen', 'hanyauku', 'opale', 'fogtown', 'blockchain', 'anti-flash', 'ephren', 'horenso']\n",
      "Missing Characters:\n",
      "['ǎ', 'ǜ']\n"
     ]
    }
   ],
   "source": [
    "# Overlaps\n",
    "common_words = color_words & emb_words\n",
    "print('Common Words: {} [{:.2f}%]'.format(len(common_words), len(common_words)*100/len(color_words)))\n",
    "\n",
    "common_chars = color_chars & emb_chars\n",
    "print('Common Characters: {} [{:.2f}%]'.format(len(common_chars), len(common_chars)*100/len(color_chars)))\n",
    "\n",
    "print('Missing Words (50):')\n",
    "print(list(color_words - emb_words)[:50])\n",
    "\n",
    "print('Missing Characters:')\n",
    "print(list(color_chars - emb_chars))\n"
   ]
  },
  {
   "cell_type": "code",
   "execution_count": 58,
   "metadata": {},
   "outputs": [
    {
     "name": "stdout",
     "output_type": "stream",
     "text": [
      "Word: red, Known: False, Emb Shape: (50,)\n",
      "Embedding: [-0.42017416  0.030629   -0.12069886  0.07137363 -0.23928198 -0.14002044\n",
      " -0.18749529 -0.08711299 -0.32022308 -0.42217045  0.36405745 -0.43037562\n",
      "  0.41439147 -0.39647849  0.00874383  0.23257089 -0.44012118  0.23946008\n",
      " -0.35947214  0.37777285  0.32424528 -0.30560484 -0.23740226 -0.45247854\n",
      " -0.26398844 -0.11026177  0.32440042 -0.4967099   0.49294821  0.22678663\n",
      " -0.43815105 -0.16657003  0.14286333 -0.47225643 -0.22046569 -0.41692315\n",
      "  0.43395775 -0.32073136 -0.08131533 -0.06441965 -0.48753654  0.36865429\n",
      "  0.38284388 -0.19732075  0.3312308  -0.45690748 -0.12468667 -0.02646317\n",
      "  0.19882709  0.41707963]\n",
      "Word: black, Known: False, Emb Shape: (50,)\n",
      "Embedding: [ 0.0687237   0.39893446  0.41599469  0.10795043 -0.37799478 -0.36870995\n",
      "  0.24009928  0.32903752  0.18085487  0.41154506 -0.47762727 -0.45624384\n",
      "  0.15594397 -0.45159828 -0.29016341 -0.0061227   0.18777302 -0.47749058\n",
      "  0.08249739  0.33746245  0.24304238 -0.15282548  0.45254387  0.06279457\n",
      " -0.37945488 -0.16336305  0.12268654  0.26739024 -0.03978172  0.09379762\n",
      " -0.40284836 -0.18258232 -0.46870895  0.09175799  0.41055938  0.38578786\n",
      "  0.41193027 -0.08804126 -0.06103138  0.23823188 -0.3903544  -0.37140924\n",
      " -0.33461124  0.00731677 -0.09624329 -0.41615402 -0.11531418 -0.03901401\n",
      " -0.24247933  0.20714397]\n",
      "Word: peachy, Known: False, Emb Shape: (50,)\n",
      "Embedding: [ 0.42140267  0.12291376  0.17787289  0.38721469  0.01943217  0.34578729\n",
      " -0.2207079  -0.03060936  0.08440677 -0.30019246 -0.12379309  0.32123345\n",
      "  0.34403574 -0.07902397 -0.10257173  0.46922042 -0.07912358 -0.23997908\n",
      " -0.37865077  0.2241579   0.30582631 -0.277422    0.43205425 -0.15566383\n",
      "  0.44138593  0.05004668 -0.13192127 -0.38598095  0.08847506 -0.14980779\n",
      "  0.46876567  0.15035276  0.41411351  0.3900306   0.15991302 -0.46661296\n",
      "  0.34230706  0.16647284  0.44769513 -0.34016189 -0.2099493  -0.48380073\n",
      "  0.24114184  0.19652872 -0.21827555 -0.29267152 -0.34539233 -0.23768498\n",
      "  0.0299001  -0.41143446]\n",
      "Word: watermelon, Known: False, Emb Shape: (50,)\n",
      "Embedding: [ 0.30706092  0.11200753  0.47455424  0.48696895  0.23141764  0.04573465\n",
      " -0.25347682 -0.40879446  0.14239947 -0.22536158 -0.39618695  0.37616812\n",
      " -0.30403487 -0.34005527  0.26928308  0.32289545  0.21396487  0.43608115\n",
      "  0.28934587 -0.25385811  0.10317055 -0.41435015 -0.2129018   0.2474591\n",
      "  0.22885788  0.11296942 -0.26322836 -0.32424161 -0.43467037  0.08838221\n",
      "  0.0284998  -0.2775818   0.15316123 -0.0226786  -0.17849769 -0.02484973\n",
      "  0.37014592  0.3050221   0.31150009 -0.29729155  0.19740888 -0.15414942\n",
      "  0.34037333 -0.1135041  -0.45072217 -0.42702191 -0.42162952 -0.24579941\n",
      " -0.20993379 -0.1541018 ]\n",
      "Word: dog, Known: False, Emb Shape: (50,)\n",
      "Embedding: [ 0.35150481  0.02199921  0.09703091  0.40759862  0.29605546  0.27379552\n",
      " -0.0277553  -0.24125689  0.35221449  0.33029367  0.47610381 -0.47057758\n",
      "  0.46080399  0.31960029 -0.16354888 -0.44323472 -0.00187311  0.03572714\n",
      " -0.06139934 -0.0992673   0.41737114 -0.04882396  0.17754283 -0.38596069\n",
      "  0.1634774  -0.20833111  0.05860755  0.24657554  0.37000667  0.48920299\n",
      "  0.47070845  0.30480945  0.46341983  0.3821866   0.04999913 -0.07887006\n",
      " -0.13945043  0.21608806 -0.06684393  0.04396945 -0.23431893 -0.41104813\n",
      "  0.29563397  0.17626921  0.11683001 -0.47133694  0.40704303  0.30753737\n",
      " -0.280888   -0.21608635]\n",
      "Word: sussie, Known: False, Emb Shape: (50,)\n",
      "Embedding: [-0.2300839  -0.06916855 -0.42571843  0.4466258   0.33839014  0.11803319\n",
      "  0.46287267  0.14744987 -0.14411565 -0.0663063  -0.41835716 -0.24752055\n",
      " -0.18691721  0.26085238 -0.35603613 -0.33483349 -0.23505217 -0.4604051\n",
      " -0.36024552  0.3972771  -0.38824834 -0.40271359  0.08088745  0.395092\n",
      "  0.32762943  0.0648232   0.24205747 -0.34233921  0.33211854 -0.04162031\n",
      " -0.32073046 -0.23118007  0.16315476 -0.40140124 -0.05911155  0.19382931\n",
      "  0.20523502  0.1547879  -0.3942134  -0.43402286  0.19333356  0.0727164\n",
      " -0.39638757 -0.40172428 -0.07800823 -0.05784678 -0.16035053  0.43030517\n",
      "  0.47103125 -0.40866106]\n",
      "Word: truesky, Known: False, Emb Shape: (50,)\n",
      "Embedding: [ 0.16216634  0.00990939 -0.32803508  0.25625514  0.41174322  0.2044943\n",
      " -0.47973355 -0.12651111 -0.03017669  0.24314915  0.42626859  0.15703598\n",
      " -0.38862612  0.47397004  0.06494145 -0.48217738 -0.01148888 -0.44943045\n",
      "  0.08681713 -0.2976666   0.41524878 -0.11894376  0.47352085  0.18111321\n",
      " -0.24267371  0.34966929  0.23538305 -0.21452094 -0.23946188 -0.21164631\n",
      "  0.18502891  0.24303515 -0.11229403  0.25109591  0.20665635  0.03213824\n",
      "  0.32675543  0.48092052 -0.11452692 -0.04416865  0.45780603 -0.27463789\n",
      "  0.0189421  -0.09462027 -0.146519    0.15436729  0.33578637 -0.35640006\n",
      " -0.20378641 -0.02624808]\n",
      "Word: elmer's, Known: False, Emb Shape: (50,)\n",
      "Embedding: [-0.16394167 -0.06694584  0.10932481 -0.41897941  0.25339408  0.00183508\n",
      "  0.08674199  0.08507456  0.18914593  0.0319224  -0.01040402 -0.48471262\n",
      " -0.42117807 -0.11202277 -0.03838117  0.1051334   0.29081023  0.40469292\n",
      "  0.11626499 -0.04160338 -0.48828813 -0.45730448 -0.46423357  0.26473066\n",
      "  0.21883767 -0.36174656  0.38145587  0.43283769 -0.02120898  0.12902246\n",
      "  0.48984177 -0.43666865 -0.05761856 -0.39295799 -0.33285765  0.07629706\n",
      " -0.35776455 -0.26431463 -0.38925742  0.06870542  0.19896872  0.0765391\n",
      "  0.49751999  0.4277609  -0.05110957 -0.46534316  0.01189936 -0.03410802\n",
      " -0.34653308  0.44708757]\n",
      "Word: skavenblight, Known: False, Emb Shape: (50,)\n",
      "Embedding: [ 0.15756079  0.26129967  0.49668075 -0.02047387  0.06269367  0.33789872\n",
      "  0.37167374  0.01064982  0.34342686 -0.38726642  0.055821   -0.33145792\n",
      "  0.295452    0.25856652 -0.13325109  0.48916043  0.08403387 -0.26750929\n",
      "  0.24876994  0.47776008  0.26011984  0.33791962  0.07423877 -0.03053675\n",
      "  0.14131479 -0.28130772  0.47323923 -0.39413274  0.37304249 -0.3130357\n",
      "  0.49207378  0.47471191 -0.18599233  0.38775303  0.42280456 -0.11116219\n",
      " -0.35034199 -0.20874302  0.45336649 -0.45915064 -0.45260258  0.42260224\n",
      " -0.27810812 -0.47692151  0.24248145 -0.05892407  0.00953167  0.44296253\n",
      " -0.1418013  -0.147661  ]\n",
      "Word: bunny's, Known: False, Emb Shape: (50,)\n",
      "Embedding: [ 0.15942866 -0.04999546  0.084128    0.14502444 -0.19009252  0.05472434\n",
      "  0.07165828 -0.1385803   0.35444884 -0.20664264 -0.38377736 -0.32029833\n",
      "  0.2207954  -0.04954746  0.49424181 -0.23533067 -0.2141892  -0.06602394\n",
      " -0.36727495 -0.42797893  0.25754846 -0.43881718 -0.27950943  0.14772196\n",
      "  0.07343112  0.37306635 -0.05502553  0.34305222  0.03988486 -0.08085849\n",
      "  0.03014322  0.46278385 -0.33684557  0.48623418 -0.4762295   0.39486824\n",
      " -0.04505345  0.04692061 -0.14690937  0.17801096 -0.23250326  0.15019118\n",
      "  0.0670637  -0.34073964  0.27811157 -0.46080321 -0.15172391  0.16757381\n",
      " -0.22075527  0.0742376 ]\n"
     ]
    }
   ],
   "source": [
    "# Get embeddings for words\n",
    "# For known words (which have embeddings) just lookup the embedding\n",
    "# For any other word, generate a random embedding\n",
    "known_words = ['red', 'black', 'peachy', 'watermelon', 'dog']\n",
    "unknown_words = ['sussie', 'truesky', \"elmer's\", 'skavenblight', \"bunny's\"]\n",
    "for word in [*known_words, *unknown_words]:\n",
    "    if word in embs:\n",
    "        known = True\n",
    "        emb = np.array(embs[word])\n",
    "    else:\n",
    "        known = False\n",
    "        emb = np.random.rand(emb_dims) - 0.5  # Range (-0.5, 0.5)\n",
    "    print(\"Word: {}, Known: {}, Emb Shape: {}\\nEmbedding: {}\".format(word, known, emb.shape, emb))"
   ]
  },
  {
   "cell_type": "code",
   "execution_count": 60,
   "metadata": {},
   "outputs": [
    {
     "name": "stdout",
     "output_type": "stream",
     "text": [
      "Similarity b/w \"woman\" and \"kitchen\" is 0.4181231013837278\n",
      "Similarity b/w \"woman\" and \"object\" is 0.4139111260693676\n",
      "Similarity b/w \"woman\" and \"woman\" is 1.0000000000000002\n"
     ]
    }
   ],
   "source": [
    "# Check similarity b/w words\n",
    "def similarity(x, y):\n",
    "    return np.dot(x, y.T) / (np.sqrt(np.dot(x, x.T)) * np.sqrt(np.dot(y, y.T)))\n",
    "\n",
    "words = [\n",
    "    ['woman', 'kitchen'],\n",
    "    ['woman', 'object'],\n",
    "    ['woman', 'woman'],\n",
    "]\n",
    "for word1, word2 in words:\n",
    "    emb1, emb2 = np.array(emb_dict[word1]), np.array(emb_dict[word2])\n",
    "    print('Similarity b/w \"{}\" and \"{}\" is {}'.format(word1, word2, similarity(emb1, emb2)))"
   ]
  },
  {
   "cell_type": "code",
   "execution_count": 80,
   "metadata": {},
   "outputs": [
    {
     "name": "stdout",
     "output_type": "stream",
     "text": [
      "Most similar word: red 0.9999999999999999\n",
      "Most dissililar word esber -0.7445946751683283\n"
     ]
    }
   ],
   "source": [
    "# Get closest words for embeddings\n",
    "emb_red = np.array(['-0.12878', '0.8798', '-0.60694', '0.12934', '0.5868', '-0.038246', '-1.0408',\n",
    " '-0.52881', '-0.29563', '-0.72567', '0.21189', '0.17112', '0.19173', '0.36099',\n",
    " '0.032672', '-0.2743', '-0.19291', '-0.10909', '-1.0057', '-0.93901', '-1.0207',\n",
    " '-0.69995', '0.57182', '-0.45136', '-1.2145', '-1.1954', '-0.32758', '1.4921',\n",
    " '0.54574', '-1.0008', '2.845', '0.26479', '-0.49938', '0.34366', '-0.12574',\n",
    " '0.5905', '-0.037696', '-0.47175', '0.050825', '-0.20362', '0.13695', '0.26686',\n",
    " '-0.19461', '-0.75482', '1.0303', '-0.057467', '-0.32327', '-0.7712',\n",
    " '-0.16764', '-0.73835']).astype(np.float).reshape(50,1)\n",
    "\n",
    "emb_random = np.random.rand(50) - 0.5\n",
    "emb_curr = emb_red\n",
    "\n",
    "embs_mag = np.sqrt(np.sum(emb_matrix*emb_matrix, axis=1)).reshape(-1)\n",
    "emb_curr_mag = np.sqrt(np.dot(emb_curr.T, emb_curr)).reshape(-1)\n",
    "emb_dot = np.dot(emb_matrix, emb_curr).reshape(-1)\n",
    "\n",
    "embs_sim = emb_dot / (embs_mag * emb_curr_mag)\n",
    "\n",
    "# Most similar word\n",
    "print('Most similar word:', vocab[np.argmax(embs_sim)], embs_sim[np.argmax(embs_sim)])\n",
    "\n",
    "# Most dissimilar word\n",
    "print('Most dissililar word', vocab[np.argmin(embs_sim)], embs_sim[np.argmin(embs_sim)])"
   ]
  },
  {
   "cell_type": "code",
   "execution_count": 82,
   "metadata": {},
   "outputs": [
    {
     "data": {
      "text/plain": [
       "(10000, 50)"
      ]
     },
     "execution_count": 82,
     "metadata": {},
     "output_type": "execute_result"
    }
   ],
   "source": [
    "# Embedding Sample\n",
    "idx = np.arange(len(embs))\n",
    "np.random.shuffle(idx)\n",
    "samp_size = 10000\n",
    "samp = emb_matrix[idx[:samp_size]]\n",
    "samp.shape"
   ]
  },
  {
   "cell_type": "code",
   "execution_count": 83,
   "metadata": {},
   "outputs": [
    {
     "data": {
      "image/png": "[encoded data removed]",
      "text/plain": [
       "<Figure size 1080x360 with 1 Axes>"
      ]
     },
     "metadata": {
      "needs_background": "light"
     },
     "output_type": "display_data"
    }
   ],
   "source": [
    "# Embedding Distribution\n",
    "plt.figure(figsize=(15,5))\n",
    "plt.boxplot(samp)\n",
    "plt.show()"
   ]
  },
  {
   "cell_type": "code",
   "execution_count": 84,
   "metadata": {},
   "outputs": [
    {
     "data": {
      "text/html": [
       "<div>\n",
       "<style scoped>\n",
       "    .dataframe tbody tr th:only-of-type {\n",
       "        vertical-align: middle;\n",
       "    }\n",
       "\n",
       "    .dataframe tbody tr th {\n",
       "        vertical-align: top;\n",
       "    }\n",
       "\n",
       "    .dataframe thead th {\n",
       "        text-align: right;\n",
       "    }\n",
       "</style>\n",
       "<table border=\"1\" class=\"dataframe\">\n",
       "  <thead>\n",
       "    <tr style=\"text-align: right;\">\n",
       "      <th></th>\n",
       "      <th>0</th>\n",
       "      <th>1</th>\n",
       "      <th>2</th>\n",
       "      <th>3</th>\n",
       "      <th>4</th>\n",
       "      <th>5</th>\n",
       "      <th>6</th>\n",
       "      <th>7</th>\n",
       "      <th>8</th>\n",
       "      <th>9</th>\n",
       "      <th>...</th>\n",
       "      <th>40</th>\n",
       "      <th>41</th>\n",
       "      <th>42</th>\n",
       "      <th>43</th>\n",
       "      <th>44</th>\n",
       "      <th>45</th>\n",
       "      <th>46</th>\n",
       "      <th>47</th>\n",
       "      <th>48</th>\n",
       "      <th>49</th>\n",
       "    </tr>\n",
       "  </thead>\n",
       "  <tbody>\n",
       "    <tr>\n",
       "      <th>count</th>\n",
       "      <td>10000.000000</td>\n",
       "      <td>10000.000000</td>\n",
       "      <td>10000.000000</td>\n",
       "      <td>10000.000000</td>\n",
       "      <td>10000.000000</td>\n",
       "      <td>10000.000000</td>\n",
       "      <td>10000.000000</td>\n",
       "      <td>10000.000000</td>\n",
       "      <td>10000.000000</td>\n",
       "      <td>10000.000000</td>\n",
       "      <td>...</td>\n",
       "      <td>10000.000000</td>\n",
       "      <td>10000.000000</td>\n",
       "      <td>10000.000000</td>\n",
       "      <td>10000.000000</td>\n",
       "      <td>10000.000000</td>\n",
       "      <td>10000.000000</td>\n",
       "      <td>10000.000000</td>\n",
       "      <td>10000.000000</td>\n",
       "      <td>10000.000000</td>\n",
       "      <td>10000.000000</td>\n",
       "    </tr>\n",
       "    <tr>\n",
       "      <th>mean</th>\n",
       "      <td>-0.128913</td>\n",
       "      <td>-0.287119</td>\n",
       "      <td>-0.015982</td>\n",
       "      <td>-0.048720</td>\n",
       "      <td>-0.193887</td>\n",
       "      <td>-0.089898</td>\n",
       "      <td>0.334459</td>\n",
       "      <td>0.165265</td>\n",
       "      <td>0.034851</td>\n",
       "      <td>0.172513</td>\n",
       "      <td>...</td>\n",
       "      <td>0.130428</td>\n",
       "      <td>-0.166250</td>\n",
       "      <td>-0.083171</td>\n",
       "      <td>0.085733</td>\n",
       "      <td>-0.005858</td>\n",
       "      <td>-0.136789</td>\n",
       "      <td>0.201722</td>\n",
       "      <td>0.106205</td>\n",
       "      <td>0.011676</td>\n",
       "      <td>0.010767</td>\n",
       "    </tr>\n",
       "    <tr>\n",
       "      <th>std</th>\n",
       "      <td>0.637121</td>\n",
       "      <td>0.614280</td>\n",
       "      <td>0.606676</td>\n",
       "      <td>0.620450</td>\n",
       "      <td>0.644600</td>\n",
       "      <td>0.662514</td>\n",
       "      <td>0.623808</td>\n",
       "      <td>0.614849</td>\n",
       "      <td>0.650966</td>\n",
       "      <td>0.625752</td>\n",
       "      <td>...</td>\n",
       "      <td>0.570961</td>\n",
       "      <td>0.613174</td>\n",
       "      <td>0.611984</td>\n",
       "      <td>0.626486</td>\n",
       "      <td>0.629213</td>\n",
       "      <td>0.631906</td>\n",
       "      <td>0.561227</td>\n",
       "      <td>0.618877</td>\n",
       "      <td>0.604612</td>\n",
       "      <td>0.625285</td>\n",
       "    </tr>\n",
       "    <tr>\n",
       "      <th>min</th>\n",
       "      <td>-3.647400</td>\n",
       "      <td>-3.334700</td>\n",
       "      <td>-2.543900</td>\n",
       "      <td>-2.585100</td>\n",
       "      <td>-3.500500</td>\n",
       "      <td>-3.563700</td>\n",
       "      <td>-2.050200</td>\n",
       "      <td>-2.885200</td>\n",
       "      <td>-3.032100</td>\n",
       "      <td>-2.875800</td>\n",
       "      <td>...</td>\n",
       "      <td>-2.200300</td>\n",
       "      <td>-2.254900</td>\n",
       "      <td>-2.595500</td>\n",
       "      <td>-2.564400</td>\n",
       "      <td>-3.275500</td>\n",
       "      <td>-2.887600</td>\n",
       "      <td>-2.429200</td>\n",
       "      <td>-2.624700</td>\n",
       "      <td>-2.548300</td>\n",
       "      <td>-2.270500</td>\n",
       "    </tr>\n",
       "    <tr>\n",
       "      <th>25%</th>\n",
       "      <td>-0.527590</td>\n",
       "      <td>-0.681225</td>\n",
       "      <td>-0.412850</td>\n",
       "      <td>-0.457500</td>\n",
       "      <td>-0.599025</td>\n",
       "      <td>-0.495557</td>\n",
       "      <td>-0.055971</td>\n",
       "      <td>-0.210820</td>\n",
       "      <td>-0.375077</td>\n",
       "      <td>-0.220480</td>\n",
       "      <td>...</td>\n",
       "      <td>-0.231703</td>\n",
       "      <td>-0.574237</td>\n",
       "      <td>-0.471852</td>\n",
       "      <td>-0.314528</td>\n",
       "      <td>-0.402667</td>\n",
       "      <td>-0.531918</td>\n",
       "      <td>-0.146490</td>\n",
       "      <td>-0.285423</td>\n",
       "      <td>-0.370648</td>\n",
       "      <td>-0.400423</td>\n",
       "    </tr>\n",
       "    <tr>\n",
       "      <th>50%</th>\n",
       "      <td>-0.130305</td>\n",
       "      <td>-0.319205</td>\n",
       "      <td>-0.012799</td>\n",
       "      <td>-0.072452</td>\n",
       "      <td>-0.184370</td>\n",
       "      <td>-0.080238</td>\n",
       "      <td>0.347490</td>\n",
       "      <td>0.194300</td>\n",
       "      <td>0.043417</td>\n",
       "      <td>0.185690</td>\n",
       "      <td>...</td>\n",
       "      <td>0.124160</td>\n",
       "      <td>-0.188165</td>\n",
       "      <td>-0.093076</td>\n",
       "      <td>0.092552</td>\n",
       "      <td>-0.009706</td>\n",
       "      <td>-0.164610</td>\n",
       "      <td>0.210215</td>\n",
       "      <td>0.111255</td>\n",
       "      <td>0.002454</td>\n",
       "      <td>0.000381</td>\n",
       "    </tr>\n",
       "    <tr>\n",
       "      <th>75%</th>\n",
       "      <td>0.277413</td>\n",
       "      <td>0.080484</td>\n",
       "      <td>0.380872</td>\n",
       "      <td>0.342650</td>\n",
       "      <td>0.220960</td>\n",
       "      <td>0.322918</td>\n",
       "      <td>0.733788</td>\n",
       "      <td>0.577850</td>\n",
       "      <td>0.440562</td>\n",
       "      <td>0.579548</td>\n",
       "      <td>...</td>\n",
       "      <td>0.486860</td>\n",
       "      <td>0.214082</td>\n",
       "      <td>0.296660</td>\n",
       "      <td>0.501978</td>\n",
       "      <td>0.397930</td>\n",
       "      <td>0.245485</td>\n",
       "      <td>0.565365</td>\n",
       "      <td>0.499485</td>\n",
       "      <td>0.399182</td>\n",
       "      <td>0.411935</td>\n",
       "    </tr>\n",
       "    <tr>\n",
       "      <th>max</th>\n",
       "      <td>2.940900</td>\n",
       "      <td>3.460400</td>\n",
       "      <td>2.557200</td>\n",
       "      <td>3.366300</td>\n",
       "      <td>3.637400</td>\n",
       "      <td>2.547100</td>\n",
       "      <td>2.719200</td>\n",
       "      <td>2.591600</td>\n",
       "      <td>2.871900</td>\n",
       "      <td>3.269400</td>\n",
       "      <td>...</td>\n",
       "      <td>3.198400</td>\n",
       "      <td>3.594200</td>\n",
       "      <td>3.080700</td>\n",
       "      <td>2.518500</td>\n",
       "      <td>2.826400</td>\n",
       "      <td>3.074200</td>\n",
       "      <td>2.743400</td>\n",
       "      <td>2.998900</td>\n",
       "      <td>2.521700</td>\n",
       "      <td>2.708900</td>\n",
       "    </tr>\n",
       "  </tbody>\n",
       "</table>\n",
       "<p>8 rows × 50 columns</p>\n",
       "</div>"
      ],
      "text/plain": [
       "                 0             1             2             3             4   \\\n",
       "count  10000.000000  10000.000000  10000.000000  10000.000000  10000.000000   \n",
       "mean      -0.128913     -0.287119     -0.015982     -0.048720     -0.193887   \n",
       "std        0.637121      0.614280      0.606676      0.620450      0.644600   \n",
       "min       -3.647400     -3.334700     -2.543900     -2.585100     -3.500500   \n",
       "25%       -0.527590     -0.681225     -0.412850     -0.457500     -0.599025   \n",
       "50%       -0.130305     -0.319205     -0.012799     -0.072452     -0.184370   \n",
       "75%        0.277413      0.080484      0.380872      0.342650      0.220960   \n",
       "max        2.940900      3.460400      2.557200      3.366300      3.637400   \n",
       "\n",
       "                 5             6             7             8             9   \\\n",
       "count  10000.000000  10000.000000  10000.000000  10000.000000  10000.000000   \n",
       "mean      -0.089898      0.334459      0.165265      0.034851      0.172513   \n",
       "std        0.662514      0.623808      0.614849      0.650966      0.625752   \n",
       "min       -3.563700     -2.050200     -2.885200     -3.032100     -2.875800   \n",
       "25%       -0.495557     -0.055971     -0.210820     -0.375077     -0.220480   \n",
       "50%       -0.080238      0.347490      0.194300      0.043417      0.185690   \n",
       "75%        0.322918      0.733788      0.577850      0.440562      0.579548   \n",
       "max        2.547100      2.719200      2.591600      2.871900      3.269400   \n",
       "\n",
       "       ...            40            41            42            43  \\\n",
       "count  ...  10000.000000  10000.000000  10000.000000  10000.000000   \n",
       "mean   ...      0.130428     -0.166250     -0.083171      0.085733   \n",
       "std    ...      0.570961      0.613174      0.611984      0.626486   \n",
       "min    ...     -2.200300     -2.254900     -2.595500     -2.564400   \n",
       "25%    ...     -0.231703     -0.574237     -0.471852     -0.314528   \n",
       "50%    ...      0.124160     -0.188165     -0.093076      0.092552   \n",
       "75%    ...      0.486860      0.214082      0.296660      0.501978   \n",
       "max    ...      3.198400      3.594200      3.080700      2.518500   \n",
       "\n",
       "                 44            45            46            47            48  \\\n",
       "count  10000.000000  10000.000000  10000.000000  10000.000000  10000.000000   \n",
       "mean      -0.005858     -0.136789      0.201722      0.106205      0.011676   \n",
       "std        0.629213      0.631906      0.561227      0.618877      0.604612   \n",
       "min       -3.275500     -2.887600     -2.429200     -2.624700     -2.548300   \n",
       "25%       -0.402667     -0.531918     -0.146490     -0.285423     -0.370648   \n",
       "50%       -0.009706     -0.164610      0.210215      0.111255      0.002454   \n",
       "75%        0.397930      0.245485      0.565365      0.499485      0.399182   \n",
       "max        2.826400      3.074200      2.743400      2.998900      2.521700   \n",
       "\n",
       "                 49  \n",
       "count  10000.000000  \n",
       "mean       0.010767  \n",
       "std        0.625285  \n",
       "min       -2.270500  \n",
       "25%       -0.400423  \n",
       "50%        0.000381  \n",
       "75%        0.411935  \n",
       "max        2.708900  \n",
       "\n",
       "[8 rows x 50 columns]"
      ]
     },
     "execution_count": 84,
     "metadata": {},
     "output_type": "execute_result"
    }
   ],
   "source": [
    "# Summary\n",
    "df = pd.DataFrame(samp)\n",
    "df.describe()"
   ]
  },
  {
   "cell_type": "code",
   "execution_count": 86,
   "metadata": {},
   "outputs": [
    {
     "name": "stdout",
     "output_type": "stream",
     "text": [
      "IQR: -0.3889925 0.4374925\n",
      "Mean: 0.021097755592983436\n"
     ]
    }
   ],
   "source": [
    "print('IQR:', np.percentile(samp, 25), np.percentile(samp, 75))\n",
    "print('Mean:', np.mean(samp))"
   ]
  },
  {
   "cell_type": "code",
   "execution_count": null,
   "metadata": {},
   "outputs": [],
   "source": []
  }
 ],
 "metadata": {
  "kernelspec": {
   "display_name": "colornamer",
   "language": "python",
   "name": "colornamer"
  },
  "language_info": {
   "codemirror_mode": {
    "name": "ipython",
    "version": 3
   },
   "file_extension": ".py",
   "mimetype": "text/x-python",
   "name": "python",
   "nbconvert_exporter": "python",
   "pygments_lexer": "ipython3",
   "version": "3.7.3"
  }
 },
 "nbformat": 4,
 "nbformat_minor": 2
}
