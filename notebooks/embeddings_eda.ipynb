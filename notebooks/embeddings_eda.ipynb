{
 "cells": [
  {
   "cell_type": "code",
   "execution_count": 1,
   "metadata": {},
   "outputs": [],
   "source": [
    "%load_ext autoreload\n",
    "%autoreload"
   ]
  },
  {
   "cell_type": "code",
   "execution_count": 2,
   "metadata": {},
   "outputs": [],
   "source": [
    "import sys\n",
    "sys.path.append('..')\n",
    "\n",
    "import os\n",
    "import re\n",
    "\n",
    "import numpy as np\n",
    "import pandas as pd\n",
    "import matplotlib.pyplot as plt\n",
    "\n",
    "import color.data.colors_big as dataset"
   ]
  },
  {
   "cell_type": "code",
   "execution_count": 3,
   "metadata": {},
   "outputs": [
    {
     "data": {
      "text/plain": [
       "'../datasets/embeddings/glove.6B.50d.txt'"
      ]
     },
     "execution_count": 3,
     "metadata": {},
     "output_type": "execute_result"
    }
   ],
   "source": [
    "# Choose embedding file\n",
    "datasets_path = os.path.join('..', 'datasets')\n",
    "emb_dir = os.path.join(datasets_path, 'embeddings')\n",
    "emb_files = [os.path.join(emb_dir, f) for f in os.listdir(emb_dir)]\n",
    "emb_dims = 50 # 50, 100, 200, 300\n",
    "emb_file = list(filter(lambda f: str(emb_dims) in f, emb_files))[0]\n",
    "emb_file"
   ]
  },
  {
   "cell_type": "code",
   "execution_count": 4,
   "metadata": {},
   "outputs": [
    {
     "data": {
      "text/plain": [
       "400000"
      ]
     },
     "execution_count": 4,
     "metadata": {},
     "output_type": "execute_result"
    }
   ],
   "source": [
    "# Parse embeddings\n",
    "embs = {}\n",
    "with open(emb_file, 'r') as x:\n",
    "    for line in x:\n",
    "        comps = line.split()\n",
    "        embs[comps[0]] = comps[1:]\n",
    "len(embs)"
   ]
  },
  {
   "cell_type": "code",
   "execution_count": 9,
   "metadata": {},
   "outputs": [
    {
     "name": "stdout",
     "output_type": "stream",
     "text": [
      "489\n"
     ]
    }
   ],
   "source": [
    "# Embedding Characters\n",
    "emb_words = set(embs)\n",
    "emb_chars = set()\n",
    "for word in emb_words:\n",
    "    for char in word:\n",
    "        emb_chars.add(char)\n",
    "print(len(emb_chars))\n",
    "#emb_chars"
   ]
  },
  {
   "cell_type": "code",
   "execution_count": 10,
   "metadata": {},
   "outputs": [
    {
     "name": "stdout",
     "output_type": "stream",
     "text": [
      "Color map: (18081, 4)\n"
     ]
    },
    {
     "data": {
      "text/plain": [
       "9807"
      ]
     },
     "execution_count": 10,
     "metadata": {},
     "output_type": "execute_result"
    }
   ],
   "source": [
    "# Extract words from color names\n",
    "color_words = set()\n",
    "color_map = dataset.load_color_names()\n",
    "print('Color map:', color_map.shape)\n",
    "for name in color_map['name']:\n",
    "    for comps in name.split():\n",
    "        color_words.add(comps.lower())\n",
    "len(color_words)"
   ]
  },
  {
   "cell_type": "code",
   "execution_count": 13,
   "metadata": {},
   "outputs": [
    {
     "name": "stdout",
     "output_type": "stream",
     "text": [
      "90\n"
     ]
    }
   ],
   "source": [
    "# Color names characters\n",
    "color_chars = set()\n",
    "for word in color_words:\n",
    "    for char in word:\n",
    "        color_chars.add(char)\n",
    "print(len(color_chars))\n",
    "# color_chars"
   ]
  },
  {
   "cell_type": "code",
   "execution_count": 15,
   "metadata": {},
   "outputs": [
    {
     "name": "stdout",
     "output_type": "stream",
     "text": [
      "Common Words: 8300 [84.63%]\n",
      "Common Characters: 88 [97.78%]\n",
      "Missing Words (50):\n",
      "['lippie', 'foncé', 'âbi', 'transtasman', 'stonewash', \"robin's\", 'cervela', 'trixter', 'kaltes', 'who-dun-it', 'dobunezumi', 'celestyn', 'butterum', 'hormagaunt', 'cornsnake', 'syhar', 'benikeshinezumi', 'truesky', 'silithus', 'hopbush', 'khemri', 'kuretake', 'carissima', 'xâkestari', 'icterine', 'skrag', 'registra', 'skarsnik', 'cuit', 'sandgrass', 'lakelike', \"kelp'thar\", \"bugman's\", 'fluro', 'verditter', 'grainfield', 'calcedony', 'froly', 'figue', 'fulgurite', 'peptalk', \"cleo's\", 'villandry', 'kurumizome', 'argeotus', 'seryi', 'pinktone', 'crystalsong', 'nurgling', \"bay's\"]\n",
      "Missing Characters:\n",
      "['ǜ', 'ǎ']\n"
     ]
    }
   ],
   "source": [
    "# Overlaps\n",
    "common_words = color_words & emb_words\n",
    "print('Common Words: {} [{:.2f}%]'.format(len(common_words), len(common_words)*100/len(color_words)))\n",
    "\n",
    "common_chars = color_chars & emb_chars\n",
    "print('Common Characters: {} [{:.2f}%]'.format(len(common_chars), len(common_chars)*100/len(color_chars)))\n",
    "\n",
    "print('Missing Words (50):')\n",
    "print(list(color_words - emb_words)[:50])\n",
    "\n",
    "print('Missing Characters:')\n",
    "print(list(color_chars - emb_chars))\n"
   ]
  },
  {
   "cell_type": "code",
   "execution_count": 16,
   "metadata": {},
   "outputs": [
    {
     "name": "stdout",
     "output_type": "stream",
     "text": [
      "Word: red, Known: True, Emb Shape: (50,)\n",
      "Embedding: ['-0.12878' '0.8798' '-0.60694' '0.12934' '0.5868' '-0.038246' '-1.0408'\n",
      " '-0.52881' '-0.29563' '-0.72567' '0.21189' '0.17112' '0.19173' '0.36099'\n",
      " '0.032672' '-0.2743' '-0.19291' '-0.10909' '-1.0057' '-0.93901' '-1.0207'\n",
      " '-0.69995' '0.57182' '-0.45136' '-1.2145' '-1.1954' '-0.32758' '1.4921'\n",
      " '0.54574' '-1.0008' '2.845' '0.26479' '-0.49938' '0.34366' '-0.12574'\n",
      " '0.5905' '-0.037696' '-0.47175' '0.050825' '-0.20362' '0.13695' '0.26686'\n",
      " '-0.19461' '-0.75482' '1.0303' '-0.057467' '-0.32327' '-0.7712'\n",
      " '-0.16764' '-0.73835']\n",
      "Word: black, Known: True, Emb Shape: (50,)\n",
      "Embedding: ['-0.96256' '0.65329' '-0.55152' '-0.41065' '0.80223' '0.9833' '-0.96007'\n",
      " '-1.029' '-0.47013' '-0.6812' '0.071232' '-0.25591' '0.60577' '0.29845'\n",
      " '-0.1837' '-0.26064' '-0.038707' '0.11412' '-0.72028' '-1.2694'\n",
      " '-0.73858' '0.3357' '0.44293' '0.02566' '-0.97692' '-1.6867' '-0.88665'\n",
      " '0.75824' '0.18836' '-0.6932' '2.6144' '0.11718' '-0.45564' '-0.42953'\n",
      " '-0.052095' '0.11656' '-0.66685' '-0.86056' '-0.093886' '-0.74592'\n",
      " '-0.062858' '0.54547' '0.28987' '-0.26887' '0.71881' '-0.074307'\n",
      " '-0.18512' '-1.2621' '-0.3246' '-0.56563']\n",
      "Word: peachy, Known: True, Emb Shape: (50,)\n",
      "Embedding: ['0.0057898' '0.71833' '-0.60716' '-0.6716' '0.21509' '-0.31168'\n",
      " '-0.14487' '-0.46239' '0.2012' '0.60353' '-0.0066131' '0.74865' '0.25043'\n",
      " '-0.55828' '-0.42908' '0.40065' '0.32784' '0.20848' '0.45478' '-0.15014'\n",
      " '-0.82357' '0.68198' '0.70892' '-0.56511' '0.38907' '0.71563' '-0.64535'\n",
      " '1.4474' '0.61425' '-0.36453' '-0.93082' '0.42914' '-0.031931' '0.34834'\n",
      " '0.081016' '-0.10131' '-0.49421' '0.47761' '0.40341' '-0.56218' '0.50471'\n",
      " '-0.31629' '-0.43522' '-0.21382' '-0.18283' '-0.12188' '0.4448'\n",
      " '0.037566' '0.28995' '0.22132']\n",
      "Word: watermelon, Known: True, Emb Shape: (50,)\n",
      "Embedding: ['-0.11169' '-0.73634' '-0.87099' '0.66481' '0.8636' '-0.078829' '0.52128'\n",
      " '0.18377' '0.21471' '0.37623' '-0.46969' '-0.66462' '0.948' '-0.17327'\n",
      " '0.661' '-0.58227' '0.079968' '0.95237' '0.60184' '-0.4136' '-0.23314'\n",
      " '-1.007' '1.3132' '0.3262' '-0.65398' '0.40491' '-0.60377' '1.0947'\n",
      " '0.58395' '-1.0347' '0.54564' '0.10824' '-0.33077' '1.1553' '-0.266'\n",
      " '0.84132' '-1.0607' '0.7356' '0.84014' '-0.81504' '-0.47628' '-0.23533'\n",
      " '-0.81993' '-0.40683' '0.98664' '0.045194' '0.4074' '-0.41' '0.22201'\n",
      " '-0.25359']\n",
      "Word: dog, Known: True, Emb Shape: (50,)\n",
      "Embedding: ['0.11008' '-0.38781' '-0.57615' '-0.27714' '0.70521' '0.53994' '-1.0786'\n",
      " '-0.40146' '1.1504' '-0.5678' '0.0038977' '0.52878' '0.64561' '0.47262'\n",
      " '0.48549' '-0.18407' '0.1801' '0.91397' '-1.1979' '-0.5778' '-0.37985'\n",
      " '0.33606' '0.772' '0.75555' '0.45506' '-1.7671' '-1.0503' '0.42566'\n",
      " '0.41893' '-0.68327' '1.5673' '0.27685' '-0.61708' '0.64638' '-0.076996'\n",
      " '0.37118' '0.1308' '-0.45137' '0.25398' '-0.74392' '-0.086199' '0.24068'\n",
      " '-0.64819' '0.83549' '1.2502' '-0.51379' '0.04224' '-0.88118' '0.7158'\n",
      " '0.38519']\n",
      "Word: sussie, Known: False, Emb Shape: (50,)\n",
      "Embedding: [-0.23214323 -0.33717723 -0.11600553  0.21238501 -0.40462816  0.02688057\n",
      "  0.13695732 -0.48416024 -0.40271024  0.07339664  0.11493078 -0.19357729\n",
      " -0.02484378  0.46747851 -0.05909187 -0.32400944  0.02744382  0.14868866\n",
      "  0.31170563  0.3811825  -0.12946561  0.40602082 -0.48607055 -0.37743558\n",
      "  0.46616183 -0.23959434 -0.13736433 -0.25330402  0.15797075  0.2322963\n",
      " -0.47425084 -0.11197902  0.09024374  0.32265369  0.27746008 -0.11106486\n",
      "  0.20838509 -0.37376744 -0.06603983  0.368998   -0.27164909 -0.11068927\n",
      "  0.48470823  0.43050873  0.13454808  0.35651163  0.45442715  0.40497899\n",
      "  0.16717523 -0.28141252]\n",
      "Word: truesky, Known: False, Emb Shape: (50,)\n",
      "Embedding: [ 0.13580473 -0.30741845 -0.22878736  0.19087775  0.02887993  0.09743563\n",
      "  0.0345527  -0.33818246  0.12146946 -0.20706986  0.1375628  -0.33902948\n",
      " -0.09760761  0.2691899  -0.40299828 -0.45317276 -0.12526852 -0.1145802\n",
      "  0.02066442 -0.12517537 -0.24969622  0.01216663  0.00073949  0.40415904\n",
      " -0.0126476   0.00453262  0.3578585  -0.26271133  0.42599241 -0.08402675\n",
      " -0.22813524 -0.25763308  0.09319258  0.40225516  0.06015254  0.11164471\n",
      "  0.19928241  0.3044391   0.33574767 -0.03914085  0.27571948  0.01544815\n",
      " -0.06881465  0.18569981  0.24846825 -0.40808708  0.12710187 -0.17193913\n",
      " -0.11316203  0.29318243]\n",
      "Word: elmer's, Known: False, Emb Shape: (50,)\n",
      "Embedding: [ 0.41702792  0.48876313  0.31823895 -0.07077208  0.49535955  0.07445088\n",
      "  0.23230471  0.26644191  0.31947001 -0.30853543 -0.04700451 -0.12705249\n",
      "  0.35467899  0.14790289  0.47439382  0.21028489  0.09107892  0.02677842\n",
      " -0.40669832  0.32693885 -0.25645511 -0.2407717   0.06802746 -0.28574131\n",
      " -0.17074592  0.42948571  0.40075318  0.19269788  0.30151555  0.00451444\n",
      " -0.18444051 -0.22310061  0.14437841 -0.49915572 -0.48625672 -0.41011207\n",
      " -0.41902736  0.40052836  0.34386316 -0.01277165  0.47356642 -0.15548382\n",
      " -0.1728796  -0.02409015 -0.41257817  0.39130276  0.05952791 -0.34359138\n",
      "  0.0770644   0.13596288]\n",
      "Word: skavenblight, Known: False, Emb Shape: (50,)\n",
      "Embedding: [-0.00864166 -0.43761876  0.13387669  0.49503739  0.4510059  -0.03356658\n",
      "  0.02887671  0.0008076   0.13364439 -0.08867796 -0.27397135  0.44525445\n",
      "  0.37506232 -0.1130007  -0.39299624  0.24879168  0.09477748  0.21156691\n",
      " -0.34010744  0.48845877 -0.10145722  0.17347004  0.42264081 -0.20718804\n",
      " -0.16995547  0.14655755  0.46136494  0.4134061  -0.35075697 -0.21449113\n",
      "  0.37107553 -0.07980471 -0.07113269 -0.41278631 -0.42897934 -0.07583605\n",
      " -0.08417115 -0.06580862  0.14651355  0.49621624 -0.45603822 -0.34627283\n",
      " -0.2346997  -0.47828393  0.12024579  0.37217074  0.01185426 -0.12723507\n",
      "  0.35595906  0.2738376 ]\n",
      "Word: bunny's, Known: False, Emb Shape: (50,)\n",
      "Embedding: [ 0.2433746   0.43932032 -0.3463819  -0.48770048  0.19835647  0.22152191\n",
      "  0.2966253   0.35672467 -0.0501293   0.49869722 -0.17897283 -0.08124068\n",
      "  0.02188388  0.28065206  0.41266722 -0.39759639 -0.35222222  0.49583192\n",
      " -0.26285483 -0.40719276  0.20823596  0.0549399  -0.26778403 -0.15647128\n",
      "  0.39517724 -0.4261394  -0.08332898  0.21871426  0.44547879  0.27990465\n",
      " -0.47222125  0.23697955  0.12944858 -0.0510678  -0.46771649  0.44934166\n",
      "  0.25508432 -0.25510382 -0.04981887  0.09363309  0.37139543  0.15750817\n",
      " -0.03746693  0.41427733 -0.1292231  -0.07493649  0.34024699  0.11696194\n",
      " -0.4649106  -0.08367163]\n"
     ]
    }
   ],
   "source": [
    "# Get embeddings for words\n",
    "# For known words (which have embeddings) just lookup the embedding\n",
    "# For any other word, generate a random embedding\n",
    "known_words = ['red', 'black', 'peachy', 'watermelon', 'dog']\n",
    "unknown_words = ['sussie', 'truesky', \"elmer's\", 'skavenblight', \"bunny's\"]\n",
    "for word in [*known_words, *unknown_words]:\n",
    "    if word in embs:\n",
    "        known = True\n",
    "        emb = np.array(embs[word])\n",
    "    else:\n",
    "        known = False\n",
    "        emb = np.random.rand(emb_dims) - 0.5  # Range (-0.5, 0.5)\n",
    "    print(\"Word: {}, Known: {}, Emb Shape: {}\\nEmbedding: {}\".format(word, known, emb.shape, emb))"
   ]
  },
  {
   "cell_type": "code",
   "execution_count": 22,
   "metadata": {},
   "outputs": [
    {
     "name": "stdout",
     "output_type": "stream",
     "text": [
      "Similarity b/w \"woman\" and \"kitchen\" is 0.4181231013837278\n",
      "Similarity b/w \"woman\" and \"object\" is 0.4139111260693676\n",
      "Similarity b/w \"woman\" and \"woman\" is 0.9999999999999999\n"
     ]
    }
   ],
   "source": [
    "# Check similarity b/w words\n",
    "def similarity(x, y):\n",
    "    return np.dot(x, y.T) / (np.sqrt(np.dot(x, x.T)) * np.sqrt(np.dot(y, y.T)))\n",
    "\n",
    "words = [\n",
    "    ['woman', 'kitchen'],\n",
    "    ['woman', 'object'],\n",
    "    ['woman', 'woman'],\n",
    "]\n",
    "for word1, word2 in words:\n",
    "    emb1, emb2 = np.array(embs[word1]).astype(np.float), np.array(embs[word2]).astype(np.float)\n",
    "    print('Similarity b/w \"{}\" and \"{}\" is {}'.format(word1, word2, similarity(emb1, emb2)))"
   ]
  },
  {
   "cell_type": "code",
   "execution_count": 23,
   "metadata": {},
   "outputs": [
    {
     "data": {
      "text/plain": [
       "(400000, 50)"
      ]
     },
     "execution_count": 23,
     "metadata": {},
     "output_type": "execute_result"
    }
   ],
   "source": [
    "# Create embedding matrix\n",
    "embs_words = list(embs.keys())\n",
    "embs_matrix = np.array(list(map(lambda w: embs[w], embs_words))).astype(np.float)\n",
    "embs_matrix.shape"
   ]
  },
  {
   "cell_type": "code",
   "execution_count": 24,
   "metadata": {},
   "outputs": [
    {
     "name": "stdout",
     "output_type": "stream",
     "text": [
      "Most similar word: red 0.9999999999999999\n",
      "Most dissililar word esber -0.7445946751683282\n"
     ]
    }
   ],
   "source": [
    "# Get closest words for embeddings\n",
    "emb_red = np.array(['-0.12878', '0.8798', '-0.60694', '0.12934', '0.5868', '-0.038246', '-1.0408',\n",
    " '-0.52881', '-0.29563', '-0.72567', '0.21189', '0.17112', '0.19173', '0.36099',\n",
    " '0.032672', '-0.2743', '-0.19291', '-0.10909', '-1.0057', '-0.93901', '-1.0207',\n",
    " '-0.69995', '0.57182', '-0.45136', '-1.2145', '-1.1954', '-0.32758', '1.4921',\n",
    " '0.54574', '-1.0008', '2.845', '0.26479', '-0.49938', '0.34366', '-0.12574',\n",
    " '0.5905', '-0.037696', '-0.47175', '0.050825', '-0.20362', '0.13695', '0.26686',\n",
    " '-0.19461', '-0.75482', '1.0303', '-0.057467', '-0.32327', '-0.7712',\n",
    " '-0.16764', '-0.73835']).astype(np.float).reshape(50,1)\n",
    "\n",
    "emb_random = np.random.rand(50) - 0.5\n",
    "\n",
    "emb_curr = emb_red\n",
    "\n",
    "embs_mag = np.sqrt(np.sum(embs_matrix*embs_matrix, axis=1)).reshape(-1)\n",
    "emb_curr_mag = np.sqrt(np.dot(emb_curr.T, emb_curr)).reshape(-1)\n",
    "emb_dot = np.dot(embs_matrix, emb_curr).reshape(-1)\n",
    "\n",
    "embs_sim = emb_dot / (embs_mag * emb_curr_mag)\n",
    "\n",
    "# Most similar word\n",
    "print('Most similar word:', embs_words[np.argmax(embs_sim)], embs_sim[np.argmax(embs_sim)])\n",
    "\n",
    "# Most dissimilar word\n",
    "print('Most dissililar word', embs_words[np.argmin(embs_sim)], embs_sim[np.argmin(embs_sim)])"
   ]
  },
  {
   "cell_type": "code",
   "execution_count": 25,
   "metadata": {},
   "outputs": [
    {
     "data": {
      "text/plain": [
       "(10000, 50)"
      ]
     },
     "execution_count": 25,
     "metadata": {},
     "output_type": "execute_result"
    }
   ],
   "source": [
    "# Embedding Sample\n",
    "idx = np.arange(len(embs))\n",
    "np.random.shuffle(idx)\n",
    "samp_size = 10000\n",
    "samp = np.array(list(embs.values()))[idx[:10000]].astype(np.float)\n",
    "samp.shape"
   ]
  },
  {
   "cell_type": "code",
   "execution_count": 26,
   "metadata": {},
   "outputs": [
    {
     "data": {
      "image/png": "[encoded data removed]",
      "text/plain": [
       "<Figure size 1080x360 with 1 Axes>"
      ]
     },
     "metadata": {
      "needs_background": "light"
     },
     "output_type": "display_data"
    }
   ],
   "source": [
    "# Embedding Distribution\n",
    "plt.figure(figsize=(15,5))\n",
    "plt.boxplot(samp)\n",
    "plt.show()"
   ]
  },
  {
   "cell_type": "code",
   "execution_count": 27,
   "metadata": {},
   "outputs": [
    {
     "data": {
      "text/html": [
       "<div>\n",
       "<style scoped>\n",
       "    .dataframe tbody tr th:only-of-type {\n",
       "        vertical-align: middle;\n",
       "    }\n",
       "\n",
       "    .dataframe tbody tr th {\n",
       "        vertical-align: top;\n",
       "    }\n",
       "\n",
       "    .dataframe thead th {\n",
       "        text-align: right;\n",
       "    }\n",
       "</style>\n",
       "<table border=\"1\" class=\"dataframe\">\n",
       "  <thead>\n",
       "    <tr style=\"text-align: right;\">\n",
       "      <th></th>\n",
       "      <th>0</th>\n",
       "      <th>1</th>\n",
       "      <th>2</th>\n",
       "      <th>3</th>\n",
       "      <th>4</th>\n",
       "      <th>5</th>\n",
       "      <th>6</th>\n",
       "      <th>7</th>\n",
       "      <th>8</th>\n",
       "      <th>9</th>\n",
       "      <th>...</th>\n",
       "      <th>40</th>\n",
       "      <th>41</th>\n",
       "      <th>42</th>\n",
       "      <th>43</th>\n",
       "      <th>44</th>\n",
       "      <th>45</th>\n",
       "      <th>46</th>\n",
       "      <th>47</th>\n",
       "      <th>48</th>\n",
       "      <th>49</th>\n",
       "    </tr>\n",
       "  </thead>\n",
       "  <tbody>\n",
       "    <tr>\n",
       "      <th>count</th>\n",
       "      <td>10000.000000</td>\n",
       "      <td>10000.000000</td>\n",
       "      <td>10000.000000</td>\n",
       "      <td>10000.000000</td>\n",
       "      <td>10000.000000</td>\n",
       "      <td>10000.000000</td>\n",
       "      <td>10000.000000</td>\n",
       "      <td>10000.000000</td>\n",
       "      <td>10000.000000</td>\n",
       "      <td>10000.000000</td>\n",
       "      <td>...</td>\n",
       "      <td>10000.000000</td>\n",
       "      <td>10000.000000</td>\n",
       "      <td>10000.000000</td>\n",
       "      <td>10000.000000</td>\n",
       "      <td>10000.000000</td>\n",
       "      <td>10000.000000</td>\n",
       "      <td>10000.000000</td>\n",
       "      <td>10000.000000</td>\n",
       "      <td>10000.000000</td>\n",
       "      <td>10000.000000</td>\n",
       "    </tr>\n",
       "    <tr>\n",
       "      <th>mean</th>\n",
       "      <td>-0.138054</td>\n",
       "      <td>-0.292305</td>\n",
       "      <td>-0.016683</td>\n",
       "      <td>-0.059094</td>\n",
       "      <td>-0.198727</td>\n",
       "      <td>-0.076052</td>\n",
       "      <td>0.333985</td>\n",
       "      <td>0.161972</td>\n",
       "      <td>0.031196</td>\n",
       "      <td>0.183460</td>\n",
       "      <td>...</td>\n",
       "      <td>0.141852</td>\n",
       "      <td>-0.171824</td>\n",
       "      <td>-0.078247</td>\n",
       "      <td>0.088793</td>\n",
       "      <td>-0.004687</td>\n",
       "      <td>-0.131602</td>\n",
       "      <td>0.197604</td>\n",
       "      <td>0.106522</td>\n",
       "      <td>0.005604</td>\n",
       "      <td>0.011258</td>\n",
       "    </tr>\n",
       "    <tr>\n",
       "      <th>std</th>\n",
       "      <td>0.642208</td>\n",
       "      <td>0.609354</td>\n",
       "      <td>0.610317</td>\n",
       "      <td>0.628517</td>\n",
       "      <td>0.643187</td>\n",
       "      <td>0.666607</td>\n",
       "      <td>0.626433</td>\n",
       "      <td>0.604441</td>\n",
       "      <td>0.648686</td>\n",
       "      <td>0.614791</td>\n",
       "      <td>...</td>\n",
       "      <td>0.568546</td>\n",
       "      <td>0.608759</td>\n",
       "      <td>0.612516</td>\n",
       "      <td>0.622390</td>\n",
       "      <td>0.630908</td>\n",
       "      <td>0.624256</td>\n",
       "      <td>0.555640</td>\n",
       "      <td>0.617296</td>\n",
       "      <td>0.600100</td>\n",
       "      <td>0.628023</td>\n",
       "    </tr>\n",
       "    <tr>\n",
       "      <th>min</th>\n",
       "      <td>-3.647400</td>\n",
       "      <td>-2.799800</td>\n",
       "      <td>-2.904400</td>\n",
       "      <td>-2.264800</td>\n",
       "      <td>-3.410600</td>\n",
       "      <td>-4.486800</td>\n",
       "      <td>-2.572700</td>\n",
       "      <td>-2.566100</td>\n",
       "      <td>-3.416900</td>\n",
       "      <td>-2.660400</td>\n",
       "      <td>...</td>\n",
       "      <td>-3.910200</td>\n",
       "      <td>-2.539900</td>\n",
       "      <td>-2.588300</td>\n",
       "      <td>-2.481900</td>\n",
       "      <td>-3.854000</td>\n",
       "      <td>-3.041900</td>\n",
       "      <td>-2.095000</td>\n",
       "      <td>-2.876900</td>\n",
       "      <td>-2.937000</td>\n",
       "      <td>-3.015600</td>\n",
       "    </tr>\n",
       "    <tr>\n",
       "      <th>25%</th>\n",
       "      <td>-0.542450</td>\n",
       "      <td>-0.684808</td>\n",
       "      <td>-0.409752</td>\n",
       "      <td>-0.472715</td>\n",
       "      <td>-0.607618</td>\n",
       "      <td>-0.480152</td>\n",
       "      <td>-0.056574</td>\n",
       "      <td>-0.210663</td>\n",
       "      <td>-0.369505</td>\n",
       "      <td>-0.196430</td>\n",
       "      <td>...</td>\n",
       "      <td>-0.214670</td>\n",
       "      <td>-0.581325</td>\n",
       "      <td>-0.469445</td>\n",
       "      <td>-0.313218</td>\n",
       "      <td>-0.392848</td>\n",
       "      <td>-0.532432</td>\n",
       "      <td>-0.155707</td>\n",
       "      <td>-0.281580</td>\n",
       "      <td>-0.375945</td>\n",
       "      <td>-0.396345</td>\n",
       "    </tr>\n",
       "    <tr>\n",
       "      <th>50%</th>\n",
       "      <td>-0.141760</td>\n",
       "      <td>-0.316395</td>\n",
       "      <td>-0.008651</td>\n",
       "      <td>-0.088881</td>\n",
       "      <td>-0.206480</td>\n",
       "      <td>-0.058796</td>\n",
       "      <td>0.350245</td>\n",
       "      <td>0.195835</td>\n",
       "      <td>0.029669</td>\n",
       "      <td>0.204450</td>\n",
       "      <td>...</td>\n",
       "      <td>0.137190</td>\n",
       "      <td>-0.201155</td>\n",
       "      <td>-0.096781</td>\n",
       "      <td>0.103555</td>\n",
       "      <td>-0.005962</td>\n",
       "      <td>-0.148905</td>\n",
       "      <td>0.198395</td>\n",
       "      <td>0.114920</td>\n",
       "      <td>0.002022</td>\n",
       "      <td>-0.002842</td>\n",
       "    </tr>\n",
       "    <tr>\n",
       "      <th>75%</th>\n",
       "      <td>0.265052</td>\n",
       "      <td>0.067151</td>\n",
       "      <td>0.383660</td>\n",
       "      <td>0.329248</td>\n",
       "      <td>0.211207</td>\n",
       "      <td>0.346942</td>\n",
       "      <td>0.740123</td>\n",
       "      <td>0.557335</td>\n",
       "      <td>0.431920</td>\n",
       "      <td>0.581925</td>\n",
       "      <td>...</td>\n",
       "      <td>0.495223</td>\n",
       "      <td>0.197960</td>\n",
       "      <td>0.310578</td>\n",
       "      <td>0.509625</td>\n",
       "      <td>0.393985</td>\n",
       "      <td>0.242735</td>\n",
       "      <td>0.549260</td>\n",
       "      <td>0.495063</td>\n",
       "      <td>0.384310</td>\n",
       "      <td>0.411355</td>\n",
       "    </tr>\n",
       "    <tr>\n",
       "      <th>max</th>\n",
       "      <td>2.686200</td>\n",
       "      <td>2.970300</td>\n",
       "      <td>2.730100</td>\n",
       "      <td>2.966600</td>\n",
       "      <td>3.005900</td>\n",
       "      <td>3.185800</td>\n",
       "      <td>3.039400</td>\n",
       "      <td>2.634300</td>\n",
       "      <td>2.840500</td>\n",
       "      <td>2.837700</td>\n",
       "      <td>...</td>\n",
       "      <td>3.102900</td>\n",
       "      <td>3.120100</td>\n",
       "      <td>2.750200</td>\n",
       "      <td>3.294500</td>\n",
       "      <td>3.079700</td>\n",
       "      <td>3.305600</td>\n",
       "      <td>2.906900</td>\n",
       "      <td>3.644400</td>\n",
       "      <td>2.847400</td>\n",
       "      <td>3.180000</td>\n",
       "    </tr>\n",
       "  </tbody>\n",
       "</table>\n",
       "<p>8 rows × 50 columns</p>\n",
       "</div>"
      ],
      "text/plain": [
       "                 0             1             2             3             4   \\\n",
       "count  10000.000000  10000.000000  10000.000000  10000.000000  10000.000000   \n",
       "mean      -0.138054     -0.292305     -0.016683     -0.059094     -0.198727   \n",
       "std        0.642208      0.609354      0.610317      0.628517      0.643187   \n",
       "min       -3.647400     -2.799800     -2.904400     -2.264800     -3.410600   \n",
       "25%       -0.542450     -0.684808     -0.409752     -0.472715     -0.607618   \n",
       "50%       -0.141760     -0.316395     -0.008651     -0.088881     -0.206480   \n",
       "75%        0.265052      0.067151      0.383660      0.329248      0.211207   \n",
       "max        2.686200      2.970300      2.730100      2.966600      3.005900   \n",
       "\n",
       "                 5             6             7             8             9   \\\n",
       "count  10000.000000  10000.000000  10000.000000  10000.000000  10000.000000   \n",
       "mean      -0.076052      0.333985      0.161972      0.031196      0.183460   \n",
       "std        0.666607      0.626433      0.604441      0.648686      0.614791   \n",
       "min       -4.486800     -2.572700     -2.566100     -3.416900     -2.660400   \n",
       "25%       -0.480152     -0.056574     -0.210663     -0.369505     -0.196430   \n",
       "50%       -0.058796      0.350245      0.195835      0.029669      0.204450   \n",
       "75%        0.346942      0.740123      0.557335      0.431920      0.581925   \n",
       "max        3.185800      3.039400      2.634300      2.840500      2.837700   \n",
       "\n",
       "       ...            40            41            42            43  \\\n",
       "count  ...  10000.000000  10000.000000  10000.000000  10000.000000   \n",
       "mean   ...      0.141852     -0.171824     -0.078247      0.088793   \n",
       "std    ...      0.568546      0.608759      0.612516      0.622390   \n",
       "min    ...     -3.910200     -2.539900     -2.588300     -2.481900   \n",
       "25%    ...     -0.214670     -0.581325     -0.469445     -0.313218   \n",
       "50%    ...      0.137190     -0.201155     -0.096781      0.103555   \n",
       "75%    ...      0.495223      0.197960      0.310578      0.509625   \n",
       "max    ...      3.102900      3.120100      2.750200      3.294500   \n",
       "\n",
       "                 44            45            46            47            48  \\\n",
       "count  10000.000000  10000.000000  10000.000000  10000.000000  10000.000000   \n",
       "mean      -0.004687     -0.131602      0.197604      0.106522      0.005604   \n",
       "std        0.630908      0.624256      0.555640      0.617296      0.600100   \n",
       "min       -3.854000     -3.041900     -2.095000     -2.876900     -2.937000   \n",
       "25%       -0.392848     -0.532432     -0.155707     -0.281580     -0.375945   \n",
       "50%       -0.005962     -0.148905      0.198395      0.114920      0.002022   \n",
       "75%        0.393985      0.242735      0.549260      0.495063      0.384310   \n",
       "max        3.079700      3.305600      2.906900      3.644400      2.847400   \n",
       "\n",
       "                 49  \n",
       "count  10000.000000  \n",
       "mean       0.011258  \n",
       "std        0.628023  \n",
       "min       -3.015600  \n",
       "25%       -0.396345  \n",
       "50%       -0.002842  \n",
       "75%        0.411355  \n",
       "max        3.180000  \n",
       "\n",
       "[8 rows x 50 columns]"
      ]
     },
     "execution_count": 27,
     "metadata": {},
     "output_type": "execute_result"
    }
   ],
   "source": [
    "# Summary\n",
    "df = pd.DataFrame(samp)\n",
    "df.describe()"
   ]
  },
  {
   "cell_type": "code",
   "execution_count": 28,
   "metadata": {},
   "outputs": [
    {
     "name": "stdout",
     "output_type": "stream",
     "text": [
      "IQR: -0.38842 0.43659249999999994\n",
      "Mean: 0.0209337838810184\n"
     ]
    }
   ],
   "source": [
    "print('IQR:', np.percentile(samp, 25), np.percentile(samp, 75))\n",
    "print('Mean:', np.mean(samp))"
   ]
  },
  {
   "cell_type": "code",
   "execution_count": null,
   "metadata": {},
   "outputs": [],
   "source": []
  }
 ],
 "metadata": {
  "kernelspec": {
   "display_name": "colornamer",
   "language": "python",
   "name": "colornamer"
  },
  "language_info": {
   "codemirror_mode": {
    "name": "ipython",
    "version": 3
   },
   "file_extension": ".py",
   "mimetype": "text/x-python",
   "name": "python",
   "nbconvert_exporter": "python",
   "pygments_lexer": "ipython3",
   "version": "3.7.3"
  }
 },
 "nbformat": 4,
 "nbformat_minor": 2
}
