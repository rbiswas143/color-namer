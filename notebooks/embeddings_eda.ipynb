{
 "cells": [
  {
   "cell_type": "code",
   "execution_count": 1,
   "metadata": {},
   "outputs": [],
   "source": [
    "%load_ext autoreload"
   ]
  },
  {
   "cell_type": "code",
   "execution_count": 2,
   "metadata": {},
   "outputs": [],
   "source": [
    "%autoreload\n",
    "\n",
    "import sys\n",
    "sys.path.append('..')\n",
    "\n",
    "import os\n",
    "import re\n",
    "import csv\n",
    "\n",
    "import numpy as np\n",
    "import pandas as pd\n",
    "import matplotlib.pyplot as plt\n",
    "\n",
    "import color.data.colors_big as dataset"
   ]
  },
  {
   "cell_type": "code",
   "execution_count": 3,
   "metadata": {},
   "outputs": [
    {
     "data": {
      "text/plain": [
       "'../datasets/embeddings/glove.6B.50d.txt'"
      ]
     },
     "execution_count": 3,
     "metadata": {},
     "output_type": "execute_result"
    }
   ],
   "source": [
    "# Choose embedding file\n",
    "datasets_path = os.path.join('..', 'datasets')\n",
    "emb_dir = os.path.join(datasets_path, 'embeddings')\n",
    "emb_files = [os.path.join(emb_dir, f) for f in os.listdir(emb_dir)]\n",
    "emb_dims = 50 # 50, 100, 200, 300\n",
    "emb_file = list(filter(lambda f: str(emb_dims) in f, emb_files))[0]\n",
    "emb_file"
   ]
  },
  {
   "cell_type": "code",
   "execution_count": 16,
   "metadata": {},
   "outputs": [
    {
     "data": {
      "text/plain": [
       "(400000, 50)"
      ]
     },
     "execution_count": 16,
     "metadata": {},
     "output_type": "execute_result"
    }
   ],
   "source": [
    "# Parse embeddings\n",
    "emb_df = pd.read_csv(emb_file, sep=' ', engine='c', encoding='utf-8',\n",
    "                     quoting=csv.QUOTE_NONE, header=None,\n",
    "                     keep_default_na=False, na_values=['%%%&&&???@@@'])\n",
    "vocab = emb_df[0]\n",
    "emb_df.drop(0, axis=1, inplace=True)\n",
    "emb_matrix = emb_df.astype('float').values\n",
    "emb_dict = {vocab[i]: emb_matrix[i] for i in range(len(vocab))}\n",
    "\n",
    "emb_matrix.shape"
   ]
  },
  {
   "cell_type": "code",
   "execution_count": 7,
   "metadata": {},
   "outputs": [
    {
     "data": {
      "text/plain": [
       "(400000, 489)"
      ]
     },
     "execution_count": 7,
     "metadata": {},
     "output_type": "execute_result"
    }
   ],
   "source": [
    "# Embedding Characters\n",
    "emb_words = set(vocab)\n",
    "emb_chars = set()\n",
    "for word in emb_words:\n",
    "    for char in word:\n",
    "        emb_chars.add(char)\n",
    "len(emb_words), len(emb_chars)"
   ]
  },
  {
   "cell_type": "code",
   "execution_count": 8,
   "metadata": {},
   "outputs": [
    {
     "name": "stdout",
     "output_type": "stream",
     "text": [
      "Color map: (18081, 3)\n"
     ]
    },
    {
     "data": {
      "text/plain": [
       "9807"
      ]
     },
     "execution_count": 8,
     "metadata": {},
     "output_type": "execute_result"
    }
   ],
   "source": [
    "# Extract words from color names\n",
    "color_words = set()\n",
    "color_names, color_rgb = dataset.load_color_names()\n",
    "print('Color map:', color_rgb.shape)\n",
    "for name in color_names:\n",
    "    for comps in name.split():\n",
    "        color_words.add(comps.lower())\n",
    "len(color_words)"
   ]
  },
  {
   "cell_type": "code",
   "execution_count": 10,
   "metadata": {},
   "outputs": [
    {
     "data": {
      "text/plain": [
       "90"
      ]
     },
     "execution_count": 10,
     "metadata": {},
     "output_type": "execute_result"
    }
   ],
   "source": [
    "# Color names characters\n",
    "color_chars = set()\n",
    "for word in color_words:\n",
    "    for char in word:\n",
    "        color_chars.add(char)\n",
    "len(color_chars)"
   ]
  },
  {
   "cell_type": "code",
   "execution_count": 11,
   "metadata": {},
   "outputs": [
    {
     "name": "stdout",
     "output_type": "stream",
     "text": [
      "Common Words: 8300 [84.63%]\n",
      "Common Characters: 88 [97.78%]\n",
      "Missing Words (50):\n",
      "['apium', 'greenday', \"bugman's\", \"o'doon\", 'earthshade', 'aijiro', 'imayou', 'duqqa', 'funkie', \"duck's\", 'peachade', 'juneberry', \"cow's\", 'supermint', 'scarabœus', 'tainoi', 'brick-a-brack', 'kōbai', 'myoga', 'mizuasagi', 'tambua', 'so-sari', 'uguisu', 'dechala', 'grauzone', 'sylvaneth', 'kincha', \"dhalsim's\", 'indocile', 'fioletowyi', \"mary's\", 'greyed', 'jabłoński', 'goldspar', 'sugar-candied', 'amphystine', 'porcellana', 'sauterne', 'rapakivi', 'jadesheen', 'xereus', 'windflower', \"gentleman's\", 'hygge', 'cadian', 'mindaro', 'feldgrau', 'pipitschah', 'nymphaeaceae', 'ōtan']\n",
      "Missing Characters:\n",
      "['ǎ', 'ǜ']\n"
     ]
    }
   ],
   "source": [
    "# Overlaps\n",
    "common_words = color_words & emb_words\n",
    "print('Common Words: {} [{:.2f}%]'.format(len(common_words), len(common_words)*100/len(color_words)))\n",
    "\n",
    "common_chars = color_chars & emb_chars\n",
    "print('Common Characters: {} [{:.2f}%]'.format(len(common_chars), len(common_chars)*100/len(color_chars)))\n",
    "\n",
    "print('Missing Words (50):')\n",
    "print(list(color_words - emb_words)[:50])\n",
    "\n",
    "print('Missing Characters:')\n",
    "print(list(color_chars - emb_chars))\n"
   ]
  },
  {
   "cell_type": "code",
   "execution_count": 13,
   "metadata": {},
   "outputs": [
    {
     "name": "stdout",
     "output_type": "stream",
     "text": [
      "Word: red, Known: True, Emb Shape: (50,)\n",
      "Embedding: [-0.12878  0.8798  -0.60694  0.12934  0.5868 ]\n",
      "Word: black, Known: True, Emb Shape: (50,)\n",
      "Embedding: [-0.96256  0.65329 -0.55152 -0.41065  0.80223]\n",
      "Word: peachy, Known: True, Emb Shape: (50,)\n",
      "Embedding: [ 0.0057898  0.71833   -0.60716   -0.6716     0.21509  ]\n",
      "Word: watermelon, Known: True, Emb Shape: (50,)\n",
      "Embedding: [-0.11169 -0.73634 -0.87099  0.66481  0.8636 ]\n",
      "Word: dog, Known: True, Emb Shape: (50,)\n",
      "Embedding: [ 0.11008 -0.38781 -0.57615 -0.27714  0.70521]\n",
      "Word: sussie, Known: False, Emb Shape: (50,)\n",
      "Embedding: [ 0.24505987  0.39123723 -0.1576074   0.26635856  0.21380343]\n",
      "Word: truesky, Known: False, Emb Shape: (50,)\n",
      "Embedding: [ 0.13598183  0.17251403  0.41539373 -0.4778686  -0.38185282]\n",
      "Word: elmer's, Known: False, Emb Shape: (50,)\n",
      "Embedding: [ 0.07774902 -0.14148335 -0.13175237 -0.21816798  0.14840148]\n",
      "Word: skavenblight, Known: False, Emb Shape: (50,)\n",
      "Embedding: [ 0.04454235 -0.42066435 -0.07984776 -0.43807223 -0.27561507]\n",
      "Word: bunny's, Known: False, Emb Shape: (50,)\n",
      "Embedding: [ 0.45760497 -0.23026659  0.47295923 -0.19182031  0.03222299]\n"
     ]
    }
   ],
   "source": [
    "# Get embeddings for words\n",
    "# For known words (which have embeddings) just lookup the embedding\n",
    "# For any other word, generate a random embedding\n",
    "known_words = ['red', 'black', 'peachy', 'watermelon', 'dog']\n",
    "unknown_words = ['sussie', 'truesky', \"elmer's\", 'skavenblight', \"bunny's\"]\n",
    "for word in [*known_words, *unknown_words]:\n",
    "    if word in emb_dict:\n",
    "        known = True\n",
    "        emb = np.array(emb_dict[word])\n",
    "    else:\n",
    "        known = False\n",
    "        emb = np.random.rand(emb_dims) - 0.5  # Range (-0.5, 0.5)\n",
    "    print(\"Word: {}, Known: {}, Emb Shape: {}\\nEmbedding: {}\".format(word, known, emb.shape, emb[:5]))"
   ]
  },
  {
   "cell_type": "code",
   "execution_count": 19,
   "metadata": {},
   "outputs": [
    {
     "name": "stdout",
     "output_type": "stream",
     "text": [
      "Similarity b/w \"woman\" and \"kitchen\" is 0.4181231013837278\n",
      "Similarity b/w \"woman\" and \"object\" is 0.4139111260693676\n",
      "Similarity b/w \"woman\" and \"woman\" is 1.0000000000000002\n"
     ]
    }
   ],
   "source": [
    "# Check similarity b/w words\n",
    "def similarity(x, y):\n",
    "    return np.dot(x, y.T) / (np.sqrt(np.dot(x, x.T)) * np.sqrt(np.dot(y, y.T)))\n",
    "\n",
    "words = [\n",
    "    ['woman', 'kitchen'],\n",
    "    ['woman', 'object'],\n",
    "    ['woman', 'woman'],\n",
    "]\n",
    "for word1, word2 in words:\n",
    "    emb1, emb2 = np.array(emb_dict[word1]), np.array(emb_dict[word2])\n",
    "    print('Similarity b/w \"{}\" and \"{}\" is {}'.format(word1, word2, similarity(emb1, emb2)))"
   ]
  },
  {
   "cell_type": "code",
   "execution_count": 25,
   "metadata": {},
   "outputs": [
    {
     "name": "stdout",
     "output_type": "stream",
     "text": [
      "Most similar word: red 0.9999999999999999\n",
      "Most dissililar word esber -0.7445946751683283\n"
     ]
    }
   ],
   "source": [
    "# Get closest words for embeddings\n",
    "\n",
    "emb_red = np.array(['-0.12878', '0.8798', '-0.60694', '0.12934', '0.5868', '-0.038246', '-1.0408',\n",
    " '-0.52881', '-0.29563', '-0.72567', '0.21189', '0.17112', '0.19173', '0.36099',\n",
    " '0.032672', '-0.2743', '-0.19291', '-0.10909', '-1.0057', '-0.93901', '-1.0207',\n",
    " '-0.69995', '0.57182', '-0.45136', '-1.2145', '-1.1954', '-0.32758', '1.4921',\n",
    " '0.54574', '-1.0008', '2.845', '0.26479', '-0.49938', '0.34366', '-0.12574',\n",
    " '0.5905', '-0.037696', '-0.47175', '0.050825', '-0.20362', '0.13695', '0.26686',\n",
    " '-0.19461', '-0.75482', '1.0303', '-0.057467', '-0.32327', '-0.7712',\n",
    " '-0.16764', '-0.73835']).astype(np.float).reshape(50,1)  # Embedding for the word \"red\"\n",
    "\n",
    "emb_random = np.random.rand(50) - 0.5  # Candidate for out of vocab words\n",
    "emb_ones = np.ones_like(emb_red)  # Candidate for stop word\n",
    "\n",
    "# Choose an embedding to compare\n",
    "emb_curr = emb_red\n",
    "\n",
    "# Similary score\n",
    "embs_mag = np.sqrt(np.sum(emb_matrix*emb_matrix, axis=1)).reshape(-1)  # Norm of all word embeddings\n",
    "emb_curr_mag = np.sqrt(np.dot(emb_curr.T, emb_curr)).reshape(-1)  # Norm of current word embedding\n",
    "emb_dot = np.dot(emb_matrix, emb_curr).reshape(-1)  # Dot product of current embedding with all other embeddings\n",
    "embs_sim = emb_dot / (embs_mag * emb_curr_mag)  # Cosine similary scores\n",
    "\n",
    "# Most similar word\n",
    "print('Most similar word:', vocab[np.argmax(embs_sim)], embs_sim[np.argmax(embs_sim)])\n",
    "\n",
    "# Most dissimilar word\n",
    "print('Most dissililar word', vocab[np.argmin(embs_sim)], embs_sim[np.argmin(embs_sim)])"
   ]
  },
  {
   "cell_type": "code",
   "execution_count": 26,
   "metadata": {},
   "outputs": [
    {
     "data": {
      "text/plain": [
       "(10000, 50)"
      ]
     },
     "execution_count": 26,
     "metadata": {},
     "output_type": "execute_result"
    }
   ],
   "source": [
    "# Lets sample out some words embeddings for the purpose of EDA\n",
    "idx = np.arange(len(emb_dict))\n",
    "np.random.shuffle(idx)\n",
    "samp_size = 10000\n",
    "samp = emb_matrix[idx[:samp_size]]\n",
    "samp.shape"
   ]
  },
  {
   "cell_type": "code",
   "execution_count": 27,
   "metadata": {},
   "outputs": [
    {
     "data": {
      "image/png": "[encoded data removed]",
      "text/plain": [
       "<Figure size 1080x360 with 1 Axes>"
      ]
     },
     "metadata": {
      "needs_background": "light"
     },
     "output_type": "display_data"
    }
   ],
   "source": [
    "# Embedding Distribution\n",
    "plt.figure(figsize=(15,5))\n",
    "plt.boxplot(samp)\n",
    "plt.show()"
   ]
  },
  {
   "cell_type": "code",
   "execution_count": 28,
   "metadata": {},
   "outputs": [
    {
     "data": {
      "text/html": [
       "<div>\n",
       "<style scoped>\n",
       "    .dataframe tbody tr th:only-of-type {\n",
       "        vertical-align: middle;\n",
       "    }\n",
       "\n",
       "    .dataframe tbody tr th {\n",
       "        vertical-align: top;\n",
       "    }\n",
       "\n",
       "    .dataframe thead th {\n",
       "        text-align: right;\n",
       "    }\n",
       "</style>\n",
       "<table border=\"1\" class=\"dataframe\">\n",
       "  <thead>\n",
       "    <tr style=\"text-align: right;\">\n",
       "      <th></th>\n",
       "      <th>0</th>\n",
       "      <th>1</th>\n",
       "      <th>2</th>\n",
       "      <th>3</th>\n",
       "      <th>4</th>\n",
       "      <th>5</th>\n",
       "      <th>6</th>\n",
       "      <th>7</th>\n",
       "      <th>8</th>\n",
       "      <th>9</th>\n",
       "      <th>...</th>\n",
       "      <th>40</th>\n",
       "      <th>41</th>\n",
       "      <th>42</th>\n",
       "      <th>43</th>\n",
       "      <th>44</th>\n",
       "      <th>45</th>\n",
       "      <th>46</th>\n",
       "      <th>47</th>\n",
       "      <th>48</th>\n",
       "      <th>49</th>\n",
       "    </tr>\n",
       "  </thead>\n",
       "  <tbody>\n",
       "    <tr>\n",
       "      <th>count</th>\n",
       "      <td>10000.000000</td>\n",
       "      <td>10000.000000</td>\n",
       "      <td>10000.000000</td>\n",
       "      <td>10000.000000</td>\n",
       "      <td>10000.000000</td>\n",
       "      <td>10000.000000</td>\n",
       "      <td>10000.000000</td>\n",
       "      <td>10000.000000</td>\n",
       "      <td>10000.000000</td>\n",
       "      <td>10000.000000</td>\n",
       "      <td>...</td>\n",
       "      <td>10000.000000</td>\n",
       "      <td>10000.000000</td>\n",
       "      <td>10000.000000</td>\n",
       "      <td>10000.000000</td>\n",
       "      <td>10000.000000</td>\n",
       "      <td>10000.000000</td>\n",
       "      <td>10000.000000</td>\n",
       "      <td>10000.000000</td>\n",
       "      <td>10000.000000</td>\n",
       "      <td>10000.000000</td>\n",
       "    </tr>\n",
       "    <tr>\n",
       "      <th>mean</th>\n",
       "      <td>-0.134635</td>\n",
       "      <td>-0.299095</td>\n",
       "      <td>-0.000327</td>\n",
       "      <td>-0.053555</td>\n",
       "      <td>-0.190095</td>\n",
       "      <td>-0.081062</td>\n",
       "      <td>0.335491</td>\n",
       "      <td>0.158653</td>\n",
       "      <td>0.025852</td>\n",
       "      <td>0.169038</td>\n",
       "      <td>...</td>\n",
       "      <td>0.142787</td>\n",
       "      <td>-0.166992</td>\n",
       "      <td>-0.082603</td>\n",
       "      <td>0.076394</td>\n",
       "      <td>-0.001873</td>\n",
       "      <td>-0.136881</td>\n",
       "      <td>0.196144</td>\n",
       "      <td>0.112554</td>\n",
       "      <td>-0.000577</td>\n",
       "      <td>0.034321</td>\n",
       "    </tr>\n",
       "    <tr>\n",
       "      <th>std</th>\n",
       "      <td>0.635910</td>\n",
       "      <td>0.608739</td>\n",
       "      <td>0.613441</td>\n",
       "      <td>0.623570</td>\n",
       "      <td>0.641249</td>\n",
       "      <td>0.654232</td>\n",
       "      <td>0.621314</td>\n",
       "      <td>0.603905</td>\n",
       "      <td>0.645452</td>\n",
       "      <td>0.617290</td>\n",
       "      <td>...</td>\n",
       "      <td>0.573647</td>\n",
       "      <td>0.605136</td>\n",
       "      <td>0.613565</td>\n",
       "      <td>0.622578</td>\n",
       "      <td>0.624127</td>\n",
       "      <td>0.632823</td>\n",
       "      <td>0.554713</td>\n",
       "      <td>0.614274</td>\n",
       "      <td>0.596142</td>\n",
       "      <td>0.623750</td>\n",
       "    </tr>\n",
       "    <tr>\n",
       "      <th>min</th>\n",
       "      <td>-2.699000</td>\n",
       "      <td>-2.709900</td>\n",
       "      <td>-3.249300</td>\n",
       "      <td>-2.955300</td>\n",
       "      <td>-3.753500</td>\n",
       "      <td>-3.695100</td>\n",
       "      <td>-2.354100</td>\n",
       "      <td>-2.873400</td>\n",
       "      <td>-3.075300</td>\n",
       "      <td>-3.647500</td>\n",
       "      <td>...</td>\n",
       "      <td>-2.796900</td>\n",
       "      <td>-2.288500</td>\n",
       "      <td>-2.731600</td>\n",
       "      <td>-3.008400</td>\n",
       "      <td>-2.547600</td>\n",
       "      <td>-3.377200</td>\n",
       "      <td>-2.728200</td>\n",
       "      <td>-4.723100</td>\n",
       "      <td>-2.605800</td>\n",
       "      <td>-2.297100</td>\n",
       "    </tr>\n",
       "    <tr>\n",
       "      <th>25%</th>\n",
       "      <td>-0.547473</td>\n",
       "      <td>-0.687795</td>\n",
       "      <td>-0.395942</td>\n",
       "      <td>-0.464255</td>\n",
       "      <td>-0.604840</td>\n",
       "      <td>-0.484195</td>\n",
       "      <td>-0.056260</td>\n",
       "      <td>-0.215930</td>\n",
       "      <td>-0.372120</td>\n",
       "      <td>-0.217858</td>\n",
       "      <td>...</td>\n",
       "      <td>-0.219455</td>\n",
       "      <td>-0.561090</td>\n",
       "      <td>-0.476685</td>\n",
       "      <td>-0.317035</td>\n",
       "      <td>-0.392948</td>\n",
       "      <td>-0.529400</td>\n",
       "      <td>-0.153005</td>\n",
       "      <td>-0.274097</td>\n",
       "      <td>-0.374720</td>\n",
       "      <td>-0.377687</td>\n",
       "    </tr>\n",
       "    <tr>\n",
       "      <th>50%</th>\n",
       "      <td>-0.143585</td>\n",
       "      <td>-0.328445</td>\n",
       "      <td>0.002131</td>\n",
       "      <td>-0.078585</td>\n",
       "      <td>-0.191000</td>\n",
       "      <td>-0.074201</td>\n",
       "      <td>0.343465</td>\n",
       "      <td>0.186090</td>\n",
       "      <td>0.038492</td>\n",
       "      <td>0.188140</td>\n",
       "      <td>...</td>\n",
       "      <td>0.140805</td>\n",
       "      <td>-0.197585</td>\n",
       "      <td>-0.090257</td>\n",
       "      <td>0.084636</td>\n",
       "      <td>-0.006320</td>\n",
       "      <td>-0.157735</td>\n",
       "      <td>0.200245</td>\n",
       "      <td>0.123245</td>\n",
       "      <td>-0.011223</td>\n",
       "      <td>0.020276</td>\n",
       "    </tr>\n",
       "    <tr>\n",
       "      <th>75%</th>\n",
       "      <td>0.279998</td>\n",
       "      <td>0.065015</td>\n",
       "      <td>0.400280</td>\n",
       "      <td>0.333742</td>\n",
       "      <td>0.214948</td>\n",
       "      <td>0.339702</td>\n",
       "      <td>0.730032</td>\n",
       "      <td>0.565990</td>\n",
       "      <td>0.437415</td>\n",
       "      <td>0.572185</td>\n",
       "      <td>...</td>\n",
       "      <td>0.496792</td>\n",
       "      <td>0.203187</td>\n",
       "      <td>0.304060</td>\n",
       "      <td>0.488125</td>\n",
       "      <td>0.389962</td>\n",
       "      <td>0.232900</td>\n",
       "      <td>0.556870</td>\n",
       "      <td>0.489743</td>\n",
       "      <td>0.382083</td>\n",
       "      <td>0.438950</td>\n",
       "    </tr>\n",
       "    <tr>\n",
       "      <th>max</th>\n",
       "      <td>2.540200</td>\n",
       "      <td>3.034400</td>\n",
       "      <td>3.122400</td>\n",
       "      <td>3.397000</td>\n",
       "      <td>3.965200</td>\n",
       "      <td>3.632300</td>\n",
       "      <td>3.184600</td>\n",
       "      <td>2.242400</td>\n",
       "      <td>2.720200</td>\n",
       "      <td>2.759700</td>\n",
       "      <td>...</td>\n",
       "      <td>2.483200</td>\n",
       "      <td>2.927000</td>\n",
       "      <td>3.948300</td>\n",
       "      <td>2.550600</td>\n",
       "      <td>3.169600</td>\n",
       "      <td>3.579700</td>\n",
       "      <td>3.292700</td>\n",
       "      <td>3.644400</td>\n",
       "      <td>2.464800</td>\n",
       "      <td>3.118000</td>\n",
       "    </tr>\n",
       "  </tbody>\n",
       "</table>\n",
       "<p>8 rows × 50 columns</p>\n",
       "</div>"
      ],
      "text/plain": [
       "                 0             1             2             3             4   \\\n",
       "count  10000.000000  10000.000000  10000.000000  10000.000000  10000.000000   \n",
       "mean      -0.134635     -0.299095     -0.000327     -0.053555     -0.190095   \n",
       "std        0.635910      0.608739      0.613441      0.623570      0.641249   \n",
       "min       -2.699000     -2.709900     -3.249300     -2.955300     -3.753500   \n",
       "25%       -0.547473     -0.687795     -0.395942     -0.464255     -0.604840   \n",
       "50%       -0.143585     -0.328445      0.002131     -0.078585     -0.191000   \n",
       "75%        0.279998      0.065015      0.400280      0.333742      0.214948   \n",
       "max        2.540200      3.034400      3.122400      3.397000      3.965200   \n",
       "\n",
       "                 5             6             7             8             9   \\\n",
       "count  10000.000000  10000.000000  10000.000000  10000.000000  10000.000000   \n",
       "mean      -0.081062      0.335491      0.158653      0.025852      0.169038   \n",
       "std        0.654232      0.621314      0.603905      0.645452      0.617290   \n",
       "min       -3.695100     -2.354100     -2.873400     -3.075300     -3.647500   \n",
       "25%       -0.484195     -0.056260     -0.215930     -0.372120     -0.217858   \n",
       "50%       -0.074201      0.343465      0.186090      0.038492      0.188140   \n",
       "75%        0.339702      0.730032      0.565990      0.437415      0.572185   \n",
       "max        3.632300      3.184600      2.242400      2.720200      2.759700   \n",
       "\n",
       "       ...            40            41            42            43  \\\n",
       "count  ...  10000.000000  10000.000000  10000.000000  10000.000000   \n",
       "mean   ...      0.142787     -0.166992     -0.082603      0.076394   \n",
       "std    ...      0.573647      0.605136      0.613565      0.622578   \n",
       "min    ...     -2.796900     -2.288500     -2.731600     -3.008400   \n",
       "25%    ...     -0.219455     -0.561090     -0.476685     -0.317035   \n",
       "50%    ...      0.140805     -0.197585     -0.090257      0.084636   \n",
       "75%    ...      0.496792      0.203187      0.304060      0.488125   \n",
       "max    ...      2.483200      2.927000      3.948300      2.550600   \n",
       "\n",
       "                 44            45            46            47            48  \\\n",
       "count  10000.000000  10000.000000  10000.000000  10000.000000  10000.000000   \n",
       "mean      -0.001873     -0.136881      0.196144      0.112554     -0.000577   \n",
       "std        0.624127      0.632823      0.554713      0.614274      0.596142   \n",
       "min       -2.547600     -3.377200     -2.728200     -4.723100     -2.605800   \n",
       "25%       -0.392948     -0.529400     -0.153005     -0.274097     -0.374720   \n",
       "50%       -0.006320     -0.157735      0.200245      0.123245     -0.011223   \n",
       "75%        0.389962      0.232900      0.556870      0.489743      0.382083   \n",
       "max        3.169600      3.579700      3.292700      3.644400      2.464800   \n",
       "\n",
       "                 49  \n",
       "count  10000.000000  \n",
       "mean       0.034321  \n",
       "std        0.623750  \n",
       "min       -2.297100  \n",
       "25%       -0.377687  \n",
       "50%        0.020276  \n",
       "75%        0.438950  \n",
       "max        3.118000  \n",
       "\n",
       "[8 rows x 50 columns]"
      ]
     },
     "execution_count": 28,
     "metadata": {},
     "output_type": "execute_result"
    }
   ],
   "source": [
    "# Summary\n",
    "df = pd.DataFrame(samp)\n",
    "df.describe()"
   ]
  },
  {
   "cell_type": "code",
   "execution_count": 29,
   "metadata": {},
   "outputs": [
    {
     "name": "stdout",
     "output_type": "stream",
     "text": [
      "IQR: -0.38755 0.4376625\n",
      "Mean: 0.0216438756894786\n"
     ]
    }
   ],
   "source": [
    "print('IQR:', np.percentile(samp, 25), np.percentile(samp, 75))\n",
    "print('Mean:', np.mean(samp))"
   ]
  },
  {
   "cell_type": "code",
   "execution_count": null,
   "metadata": {},
   "outputs": [],
   "source": []
  }
 ],
 "metadata": {
  "kernelspec": {
   "display_name": "colornamer",
   "language": "python",
   "name": "colornamer"
  },
  "language_info": {
   "codemirror_mode": {
    "name": "ipython",
    "version": 3
   },
   "file_extension": ".py",
   "mimetype": "text/x-python",
   "name": "python",
   "nbconvert_exporter": "python",
   "pygments_lexer": "ipython3",
   "version": "3.7.4"
  }
 },
 "nbformat": 4,
 "nbformat_minor": 2
}
