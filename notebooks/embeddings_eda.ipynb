{
 "cells": [
  {
   "cell_type": "code",
   "execution_count": 18,
   "metadata": {},
   "outputs": [
    {
     "name": "stdout",
     "output_type": "stream",
     "text": [
      "The autoreload extension is already loaded. To reload it, use:\n",
      "  %reload_ext autoreload\n"
     ]
    }
   ],
   "source": [
    "%load_ext autoreload\n",
    "%autoreload\n",
    "\n",
    "import sys\n",
    "sys.path.append('..')\n",
    "\n",
    "import os\n",
    "import re\n",
    "import csv\n",
    "\n",
    "import numpy as np\n",
    "import pandas as pd\n",
    "import matplotlib.pyplot as plt\n",
    "\n",
    "import color.data.colors_big as dataset"
   ]
  },
  {
   "cell_type": "code",
   "execution_count": 19,
   "metadata": {},
   "outputs": [
    {
     "data": {
      "text/plain": [
       "'../datasets/embeddings/glove.6B.50d.txt'"
      ]
     },
     "execution_count": 19,
     "metadata": {},
     "output_type": "execute_result"
    }
   ],
   "source": [
    "# Choose embedding file\n",
    "datasets_path = os.path.join('..', 'datasets')\n",
    "emb_dir = os.path.join(datasets_path, 'embeddings')\n",
    "emb_files = [os.path.join(emb_dir, f) for f in os.listdir(emb_dir)]\n",
    "emb_dims = 50 # 50, 100, 200, 300\n",
    "emb_file = list(filter(lambda f: str(emb_dims) in f, emb_files))[0]\n",
    "emb_file"
   ]
  },
  {
   "cell_type": "code",
   "execution_count": 20,
   "metadata": {},
   "outputs": [],
   "source": [
    "# Parse embeddings\n",
    "emb_df = pd.read_csv(emb_file, sep=' ', engine='c', encoding='utf-8',\n",
    "                     quoting=csv.QUOTE_NONE, header=None,\n",
    "                     keep_default_na=False, na_values=['%%%&&&???@@@'])\n",
    "vocab = emb_df[0]\n",
    "emb_df.drop(0, axis=1, inplace=True)\n",
    "emb_matrix = emb_df.astype('float').values\n",
    "emb_dict = {vocab[i]: emb_matrix[i] for i in range(len(vocab))}"
   ]
  },
  {
   "cell_type": "code",
   "execution_count": 21,
   "metadata": {},
   "outputs": [
    {
     "name": "stdout",
     "output_type": "stream",
     "text": [
      "489\n"
     ]
    }
   ],
   "source": [
    "# Embedding Characters\n",
    "emb_words = set(vocab)\n",
    "emb_chars = set()\n",
    "for word in emb_words:\n",
    "    for char in word:\n",
    "        emb_chars.add(char)\n",
    "print(len(emb_chars))\n",
    "#emb_chars"
   ]
  },
  {
   "cell_type": "code",
   "execution_count": 22,
   "metadata": {},
   "outputs": [
    {
     "name": "stdout",
     "output_type": "stream",
     "text": [
      "Color map: (18081, 3)\n"
     ]
    },
    {
     "data": {
      "text/plain": [
       "9807"
      ]
     },
     "execution_count": 22,
     "metadata": {},
     "output_type": "execute_result"
    }
   ],
   "source": [
    "# Extract words from color names\n",
    "color_words = set()\n",
    "color_names, color_rgb = dataset.load_color_names()\n",
    "print('Color map:', color_rgb.shape)\n",
    "for name in color_names:\n",
    "    for comps in name.split():\n",
    "        color_words.add(comps.lower())\n",
    "len(color_words)"
   ]
  },
  {
   "cell_type": "code",
   "execution_count": 23,
   "metadata": {},
   "outputs": [
    {
     "name": "stdout",
     "output_type": "stream",
     "text": [
      "90\n"
     ]
    }
   ],
   "source": [
    "# Color names characters\n",
    "color_chars = set()\n",
    "for word in color_words:\n",
    "    for char in word:\n",
    "        color_chars.add(char)\n",
    "print(len(color_chars))\n",
    "# color_chars"
   ]
  },
  {
   "cell_type": "code",
   "execution_count": 24,
   "metadata": {},
   "outputs": [
    {
     "name": "stdout",
     "output_type": "stream",
     "text": [
      "Common Words: 8300 [84.63%]\n",
      "Common Characters: 88 [97.78%]\n",
      "Missing Words (50):\n",
      "['caperata', 'casandora', 'sōdenkaracha', 'taxite', 'fairy-nuff', 'masuhana', 'dépaysement', \"nature's\", 'mukluks', 'dawnstone', 'moired', 'squig', 'futaai', 'anti-flash', 'rivergrass', 'melmac', 'moelleux', 'selago', 'benimidori', 'dragée', 'kuwazome', 'golgfag', \"midsummer's\", 'amurense', 'breonne', 'keshizumi', '5-masted', 'amourette', 'cornsilk', 'budōnezumi', \"davy's\", 'daemonette', 'mandys', 'gloze', 'aureolin', 'peahen', 'y7k', 'iron-ic', \"dad's\", 'sigmarite', 'commandes', 'surfie', 'red-tailed-hawk', \"maggie's\", 'amaranthine', \"bay's\", 'sabiseiji', 'arragonite', 'porcellana', 'stomy']\n",
      "Missing Characters:\n",
      "['ǜ', 'ǎ']\n"
     ]
    }
   ],
   "source": [
    "# Overlaps\n",
    "common_words = color_words & emb_words\n",
    "print('Common Words: {} [{:.2f}%]'.format(len(common_words), len(common_words)*100/len(color_words)))\n",
    "\n",
    "common_chars = color_chars & emb_chars\n",
    "print('Common Characters: {} [{:.2f}%]'.format(len(common_chars), len(common_chars)*100/len(color_chars)))\n",
    "\n",
    "print('Missing Words (50):')\n",
    "print(list(color_words - emb_words)[:50])\n",
    "\n",
    "print('Missing Characters:')\n",
    "print(list(color_chars - emb_chars))\n"
   ]
  },
  {
   "cell_type": "code",
   "execution_count": 28,
   "metadata": {},
   "outputs": [
    {
     "name": "stdout",
     "output_type": "stream",
     "text": [
      "Word: red, Known: True, Emb Shape: (50,)\n",
      "Embedding: [-0.12878   0.8798   -0.60694   0.12934   0.5868   -0.038246 -1.0408\n",
      " -0.52881  -0.29563  -0.72567   0.21189   0.17112   0.19173   0.36099\n",
      "  0.032672 -0.2743   -0.19291  -0.10909  -1.0057   -0.93901  -1.0207\n",
      " -0.69995   0.57182  -0.45136  -1.2145   -1.1954   -0.32758   1.4921\n",
      "  0.54574  -1.0008    2.845     0.26479  -0.49938   0.34366  -0.12574\n",
      "  0.5905   -0.037696 -0.47175   0.050825 -0.20362   0.13695   0.26686\n",
      " -0.19461  -0.75482   1.0303   -0.057467 -0.32327  -0.7712   -0.16764\n",
      " -0.73835 ]\n",
      "Word: black, Known: True, Emb Shape: (50,)\n",
      "Embedding: [-0.96256   0.65329  -0.55152  -0.41065   0.80223   0.9833   -0.96007\n",
      " -1.029    -0.47013  -0.6812    0.071232 -0.25591   0.60577   0.29845\n",
      " -0.1837   -0.26064  -0.038707  0.11412  -0.72028  -1.2694   -0.73858\n",
      "  0.3357    0.44293   0.02566  -0.97692  -1.6867   -0.88665   0.75824\n",
      "  0.18836  -0.6932    2.6144    0.11718  -0.45564  -0.42953  -0.052095\n",
      "  0.11656  -0.66685  -0.86056  -0.093886 -0.74592  -0.062858  0.54547\n",
      "  0.28987  -0.26887   0.71881  -0.074307 -0.18512  -1.2621   -0.3246\n",
      " -0.56563 ]\n",
      "Word: peachy, Known: True, Emb Shape: (50,)\n",
      "Embedding: [ 0.0057898  0.71833   -0.60716   -0.6716     0.21509   -0.31168\n",
      " -0.14487   -0.46239    0.2012     0.60353   -0.0066131  0.74865\n",
      "  0.25043   -0.55828   -0.42908    0.40065    0.32784    0.20848\n",
      "  0.45478   -0.15014   -0.82357    0.68198    0.70892   -0.56511\n",
      "  0.38907    0.71563   -0.64535    1.4474     0.61425   -0.36453\n",
      " -0.93082    0.42914   -0.031931   0.34834    0.081016  -0.10131\n",
      " -0.49421    0.47761    0.40341   -0.56218    0.50471   -0.31629\n",
      " -0.43522   -0.21382   -0.18283   -0.12188    0.4448     0.037566\n",
      "  0.28995    0.22132  ]\n",
      "Word: watermelon, Known: True, Emb Shape: (50,)\n",
      "Embedding: [-0.11169  -0.73634  -0.87099   0.66481   0.8636   -0.078829  0.52128\n",
      "  0.18377   0.21471   0.37623  -0.46969  -0.66462   0.948    -0.17327\n",
      "  0.661    -0.58227   0.079968  0.95237   0.60184  -0.4136   -0.23314\n",
      " -1.007     1.3132    0.3262   -0.65398   0.40491  -0.60377   1.0947\n",
      "  0.58395  -1.0347    0.54564   0.10824  -0.33077   1.1553   -0.266\n",
      "  0.84132  -1.0607    0.7356    0.84014  -0.81504  -0.47628  -0.23533\n",
      " -0.81993  -0.40683   0.98664   0.045194  0.4074   -0.41      0.22201\n",
      " -0.25359 ]\n",
      "Word: dog, Known: True, Emb Shape: (50,)\n",
      "Embedding: [ 0.11008   -0.38781   -0.57615   -0.27714    0.70521    0.53994\n",
      " -1.0786    -0.40146    1.1504    -0.5678     0.0038977  0.52878\n",
      "  0.64561    0.47262    0.48549   -0.18407    0.1801     0.91397\n",
      " -1.1979    -0.5778    -0.37985    0.33606    0.772      0.75555\n",
      "  0.45506   -1.7671    -1.0503     0.42566    0.41893   -0.68327\n",
      "  1.5673     0.27685   -0.61708    0.64638   -0.076996   0.37118\n",
      "  0.1308    -0.45137    0.25398   -0.74392   -0.086199   0.24068\n",
      " -0.64819    0.83549    1.2502    -0.51379    0.04224   -0.88118\n",
      "  0.7158     0.38519  ]\n",
      "Word: sussie, Known: False, Emb Shape: (50,)\n",
      "Embedding: [ 0.21142976  0.24966993 -0.10244083 -0.40882861 -0.26136587  0.38266665\n",
      "  0.41266272 -0.35964835 -0.18597643  0.49658459 -0.26261022  0.12133009\n",
      "  0.13879347 -0.09001629  0.19526989  0.08238538 -0.0203243  -0.46107193\n",
      "  0.40876227 -0.29072924 -0.2225563  -0.08128524  0.32127515 -0.35195964\n",
      " -0.24559154  0.22737387 -0.40943802 -0.38991061  0.01487616 -0.43515672\n",
      " -0.31274834  0.11281762  0.19025707 -0.21529284 -0.34420835 -0.12506564\n",
      "  0.29944314 -0.23083823 -0.32109592 -0.28432749  0.33502002 -0.27640724\n",
      " -0.31694007  0.09206395  0.03872153 -0.36253006  0.3977835  -0.14493769\n",
      "  0.3293189   0.4809975 ]\n",
      "Word: truesky, Known: False, Emb Shape: (50,)\n",
      "Embedding: [-0.12762937 -0.04945524 -0.29249102  0.49763793  0.39491266 -0.16446672\n",
      " -0.33861794  0.01128752 -0.07841292  0.11664363  0.47244258  0.34283438\n",
      "  0.27919178  0.01112075  0.38385526  0.0231783  -0.47119041 -0.31751143\n",
      " -0.4299001  -0.47027098  0.40751124 -0.25831463 -0.36695875  0.32015351\n",
      " -0.08225808 -0.48737978 -0.4789031  -0.2495611   0.16074432  0.3040829\n",
      "  0.45699893 -0.26676243 -0.29322606 -0.07403206  0.27835737 -0.07943633\n",
      " -0.456734    0.03130252 -0.47886978 -0.43570967 -0.4419404   0.12157152\n",
      " -0.19370872 -0.21022588 -0.381116   -0.13271521  0.08953124  0.34327846\n",
      "  0.17144436 -0.29551843]\n",
      "Word: elmer's, Known: False, Emb Shape: (50,)\n",
      "Embedding: [-0.21606712  0.12662184  0.15270397 -0.11410574 -0.43449827 -0.4488545\n",
      "  0.03026166 -0.21628362 -0.1085879   0.11149643 -0.16859686 -0.33647276\n",
      " -0.31537004  0.11801263 -0.23481843  0.40274389 -0.15652408 -0.03842996\n",
      " -0.37712981 -0.20136081  0.16546364 -0.27229025  0.24685633  0.13287476\n",
      " -0.08777199  0.23235162  0.22517578  0.19185298  0.00074243 -0.46840412\n",
      "  0.3365928   0.08723069  0.20668516  0.28229516  0.19663248  0.25299042\n",
      " -0.26801064  0.20417373 -0.01840603 -0.26591601  0.34103536 -0.36356511\n",
      " -0.2929624   0.48877514 -0.07394401  0.0163963  -0.05990391  0.35918734\n",
      " -0.43416054  0.34579557]\n",
      "Word: skavenblight, Known: False, Emb Shape: (50,)\n",
      "Embedding: [-0.00478068 -0.063793   -0.21481167  0.43760313  0.3872714   0.21244232\n",
      " -0.29203777 -0.00808513 -0.06302957 -0.33328311  0.00247219 -0.33987313\n",
      "  0.20721705 -0.42254828  0.27726502  0.34362932  0.138062   -0.09315753\n",
      " -0.43980452  0.31837014  0.14920247  0.2872613  -0.19254187 -0.42147046\n",
      " -0.4497746  -0.22424871 -0.34096928  0.29610928 -0.04565562  0.43956112\n",
      " -0.23325981  0.41978675 -0.43303117  0.19935919 -0.25209586  0.13923887\n",
      "  0.02356421  0.40413397 -0.41982492 -0.28652442 -0.46761658  0.40713282\n",
      " -0.12521927 -0.39682792 -0.00182252 -0.30034321  0.34289556 -0.1226725\n",
      " -0.15812086 -0.00744348]\n",
      "Word: bunny's, Known: False, Emb Shape: (50,)\n",
      "Embedding: [ 0.12766115  0.21796992  0.08508255 -0.37970904 -0.17661278 -0.46668839\n",
      " -0.44684356  0.15056812 -0.30107851 -0.08648187  0.25335705  0.24781872\n",
      "  0.11269604  0.36659803  0.3562905  -0.08831313  0.46985266 -0.17020303\n",
      "  0.05597027  0.44240376  0.08659051 -0.36450496 -0.16208969 -0.08043505\n",
      "  0.09448478  0.36413476  0.24767409 -0.24477594  0.02871913 -0.21162521\n",
      "  0.33596145  0.2889248   0.40728306 -0.1592615  -0.37951778  0.3688437\n",
      "  0.0481321  -0.27200106 -0.34640412  0.43827117  0.42952358  0.08873923\n",
      " -0.08751068  0.3238503  -0.14166364 -0.2221411   0.06699272 -0.25849213\n",
      "  0.25438081  0.05999552]\n"
     ]
    }
   ],
   "source": [
    "# Get embeddings for words\n",
    "# For known words (which have embeddings) just lookup the embedding\n",
    "# For any other word, generate a random embedding\n",
    "known_words = ['red', 'black', 'peachy', 'watermelon', 'dog']\n",
    "unknown_words = ['sussie', 'truesky', \"elmer's\", 'skavenblight', \"bunny's\"]\n",
    "for word in [*known_words, *unknown_words]:\n",
    "    if word in emb_dict:\n",
    "        known = True\n",
    "        emb = np.array(emb_dict[word])\n",
    "    else:\n",
    "        known = False\n",
    "        emb = np.random.rand(emb_dims) - 0.5  # Range (-0.5, 0.5)\n",
    "    print(\"Word: {}, Known: {}, Emb Shape: {}\\nEmbedding: {}\".format(word, known, emb.shape, emb))"
   ]
  },
  {
   "cell_type": "code",
   "execution_count": 29,
   "metadata": {},
   "outputs": [
    {
     "name": "stdout",
     "output_type": "stream",
     "text": [
      "Similarity b/w \"woman\" and \"kitchen\" is 0.4181231013837278\n",
      "Similarity b/w \"woman\" and \"object\" is 0.4139111260693676\n",
      "Similarity b/w \"woman\" and \"woman\" is 1.0000000000000002\n"
     ]
    }
   ],
   "source": [
    "# Check similarity b/w words\n",
    "def similarity(x, y):\n",
    "    return np.dot(x, y.T) / (np.sqrt(np.dot(x, x.T)) * np.sqrt(np.dot(y, y.T)))\n",
    "\n",
    "words = [\n",
    "    ['woman', 'kitchen'],\n",
    "    ['woman', 'object'],\n",
    "    ['woman', 'woman'],\n",
    "]\n",
    "for word1, word2 in words:\n",
    "    emb1, emb2 = np.array(emb_dict[word1]), np.array(emb_dict[word2])\n",
    "    print('Similarity b/w \"{}\" and \"{}\" is {}'.format(word1, word2, similarity(emb1, emb2)))"
   ]
  },
  {
   "cell_type": "code",
   "execution_count": 41,
   "metadata": {},
   "outputs": [
    {
     "data": {
      "text/plain": [
       "(400000, 50)"
      ]
     },
     "execution_count": 41,
     "metadata": {},
     "output_type": "execute_result"
    }
   ],
   "source": [
    "emb_matrix.shape"
   ]
  },
  {
   "cell_type": "code",
   "execution_count": 44,
   "metadata": {},
   "outputs": [
    {
     "name": "stdout",
     "output_type": "stream",
     "text": [
      "Most similar word: red 0.9999999999999999\n",
      "Most dissililar word esber -0.7445946751683283\n"
     ]
    }
   ],
   "source": [
    "# Get closest words for embeddings\n",
    "emb_red = np.array(['-0.12878', '0.8798', '-0.60694', '0.12934', '0.5868', '-0.038246', '-1.0408',\n",
    " '-0.52881', '-0.29563', '-0.72567', '0.21189', '0.17112', '0.19173', '0.36099',\n",
    " '0.032672', '-0.2743', '-0.19291', '-0.10909', '-1.0057', '-0.93901', '-1.0207',\n",
    " '-0.69995', '0.57182', '-0.45136', '-1.2145', '-1.1954', '-0.32758', '1.4921',\n",
    " '0.54574', '-1.0008', '2.845', '0.26479', '-0.49938', '0.34366', '-0.12574',\n",
    " '0.5905', '-0.037696', '-0.47175', '0.050825', '-0.20362', '0.13695', '0.26686',\n",
    " '-0.19461', '-0.75482', '1.0303', '-0.057467', '-0.32327', '-0.7712',\n",
    " '-0.16764', '-0.73835']).astype(np.float).reshape(50,1)\n",
    "\n",
    "emb_random = np.random.rand(50) - 0.5  # Candidate for out of vocab words\n",
    "emb_ones = np.ones_like(emb_red)  # Candidate for stop word\n",
    "emb_curr = emb_red\n",
    "\n",
    "embs_mag = np.sqrt(np.sum(emb_matrix*emb_matrix, axis=1)).reshape(-1)\n",
    "emb_curr_mag = np.sqrt(np.dot(emb_curr.T, emb_curr)).reshape(-1)\n",
    "emb_dot = np.dot(emb_matrix, emb_curr).reshape(-1)\n",
    "\n",
    "embs_sim = emb_dot / (embs_mag * emb_curr_mag)\n",
    "\n",
    "# Most similar word\n",
    "print('Most similar word:', vocab[np.argmax(embs_sim)], embs_sim[np.argmax(embs_sim)])\n",
    "\n",
    "# Most dissimilar word\n",
    "print('Most dissililar word', vocab[np.argmin(embs_sim)], embs_sim[np.argmin(embs_sim)])"
   ]
  },
  {
   "cell_type": "code",
   "execution_count": 32,
   "metadata": {},
   "outputs": [
    {
     "data": {
      "text/plain": [
       "(10000, 50)"
      ]
     },
     "execution_count": 32,
     "metadata": {},
     "output_type": "execute_result"
    }
   ],
   "source": [
    "# Embedding Sample\n",
    "idx = np.arange(len(emb_dict))\n",
    "np.random.shuffle(idx)\n",
    "samp_size = 10000\n",
    "samp = emb_matrix[idx[:samp_size]]\n",
    "samp.shape"
   ]
  },
  {
   "cell_type": "code",
   "execution_count": 33,
   "metadata": {},
   "outputs": [
    {
     "data": {
      "image/png": "[encoded data removed]",
      "text/plain": [
       "<Figure size 1080x360 with 1 Axes>"
      ]
     },
     "metadata": {
      "needs_background": "light"
     },
     "output_type": "display_data"
    }
   ],
   "source": [
    "# Embedding Distribution\n",
    "plt.figure(figsize=(15,5))\n",
    "plt.boxplot(samp)\n",
    "plt.show()"
   ]
  },
  {
   "cell_type": "code",
   "execution_count": 34,
   "metadata": {},
   "outputs": [
    {
     "data": {
      "text/html": [
       "<div>\n",
       "<style scoped>\n",
       "    .dataframe tbody tr th:only-of-type {\n",
       "        vertical-align: middle;\n",
       "    }\n",
       "\n",
       "    .dataframe tbody tr th {\n",
       "        vertical-align: top;\n",
       "    }\n",
       "\n",
       "    .dataframe thead th {\n",
       "        text-align: right;\n",
       "    }\n",
       "</style>\n",
       "<table border=\"1\" class=\"dataframe\">\n",
       "  <thead>\n",
       "    <tr style=\"text-align: right;\">\n",
       "      <th></th>\n",
       "      <th>0</th>\n",
       "      <th>1</th>\n",
       "      <th>2</th>\n",
       "      <th>3</th>\n",
       "      <th>4</th>\n",
       "      <th>5</th>\n",
       "      <th>6</th>\n",
       "      <th>7</th>\n",
       "      <th>8</th>\n",
       "      <th>9</th>\n",
       "      <th>...</th>\n",
       "      <th>40</th>\n",
       "      <th>41</th>\n",
       "      <th>42</th>\n",
       "      <th>43</th>\n",
       "      <th>44</th>\n",
       "      <th>45</th>\n",
       "      <th>46</th>\n",
       "      <th>47</th>\n",
       "      <th>48</th>\n",
       "      <th>49</th>\n",
       "    </tr>\n",
       "  </thead>\n",
       "  <tbody>\n",
       "    <tr>\n",
       "      <th>count</th>\n",
       "      <td>10000.000000</td>\n",
       "      <td>10000.000000</td>\n",
       "      <td>10000.000000</td>\n",
       "      <td>10000.000000</td>\n",
       "      <td>10000.000000</td>\n",
       "      <td>10000.000000</td>\n",
       "      <td>10000.000000</td>\n",
       "      <td>10000.000000</td>\n",
       "      <td>10000.000000</td>\n",
       "      <td>10000.000000</td>\n",
       "      <td>...</td>\n",
       "      <td>10000.000000</td>\n",
       "      <td>10000.000000</td>\n",
       "      <td>10000.000000</td>\n",
       "      <td>10000.000000</td>\n",
       "      <td>10000.000000</td>\n",
       "      <td>10000.000000</td>\n",
       "      <td>10000.000000</td>\n",
       "      <td>10000.000000</td>\n",
       "      <td>10000.000000</td>\n",
       "      <td>10000.000000</td>\n",
       "    </tr>\n",
       "    <tr>\n",
       "      <th>mean</th>\n",
       "      <td>-0.133432</td>\n",
       "      <td>-0.282503</td>\n",
       "      <td>-0.003135</td>\n",
       "      <td>-0.058787</td>\n",
       "      <td>-0.196563</td>\n",
       "      <td>-0.089407</td>\n",
       "      <td>0.340074</td>\n",
       "      <td>0.171033</td>\n",
       "      <td>0.029996</td>\n",
       "      <td>0.173814</td>\n",
       "      <td>...</td>\n",
       "      <td>0.138563</td>\n",
       "      <td>-0.178343</td>\n",
       "      <td>-0.080396</td>\n",
       "      <td>0.084269</td>\n",
       "      <td>-0.018429</td>\n",
       "      <td>-0.138917</td>\n",
       "      <td>0.208033</td>\n",
       "      <td>0.103079</td>\n",
       "      <td>0.005544</td>\n",
       "      <td>0.016672</td>\n",
       "    </tr>\n",
       "    <tr>\n",
       "      <th>std</th>\n",
       "      <td>0.636808</td>\n",
       "      <td>0.609669</td>\n",
       "      <td>0.616341</td>\n",
       "      <td>0.627237</td>\n",
       "      <td>0.639316</td>\n",
       "      <td>0.666038</td>\n",
       "      <td>0.618415</td>\n",
       "      <td>0.607102</td>\n",
       "      <td>0.651614</td>\n",
       "      <td>0.617522</td>\n",
       "      <td>...</td>\n",
       "      <td>0.570207</td>\n",
       "      <td>0.599361</td>\n",
       "      <td>0.616180</td>\n",
       "      <td>0.641655</td>\n",
       "      <td>0.635511</td>\n",
       "      <td>0.620848</td>\n",
       "      <td>0.561869</td>\n",
       "      <td>0.609057</td>\n",
       "      <td>0.598462</td>\n",
       "      <td>0.632886</td>\n",
       "    </tr>\n",
       "    <tr>\n",
       "      <th>min</th>\n",
       "      <td>-3.462900</td>\n",
       "      <td>-2.781300</td>\n",
       "      <td>-2.830200</td>\n",
       "      <td>-2.560300</td>\n",
       "      <td>-3.826300</td>\n",
       "      <td>-2.882300</td>\n",
       "      <td>-2.335500</td>\n",
       "      <td>-2.901100</td>\n",
       "      <td>-2.770900</td>\n",
       "      <td>-3.140000</td>\n",
       "      <td>...</td>\n",
       "      <td>-2.515800</td>\n",
       "      <td>-2.764300</td>\n",
       "      <td>-2.913100</td>\n",
       "      <td>-2.698600</td>\n",
       "      <td>-3.947600</td>\n",
       "      <td>-2.826300</td>\n",
       "      <td>-3.077500</td>\n",
       "      <td>-2.741200</td>\n",
       "      <td>-3.516600</td>\n",
       "      <td>-3.415300</td>\n",
       "    </tr>\n",
       "    <tr>\n",
       "      <th>25%</th>\n",
       "      <td>-0.544965</td>\n",
       "      <td>-0.677438</td>\n",
       "      <td>-0.402357</td>\n",
       "      <td>-0.462342</td>\n",
       "      <td>-0.601665</td>\n",
       "      <td>-0.499713</td>\n",
       "      <td>-0.048276</td>\n",
       "      <td>-0.196128</td>\n",
       "      <td>-0.368227</td>\n",
       "      <td>-0.212317</td>\n",
       "      <td>...</td>\n",
       "      <td>-0.222745</td>\n",
       "      <td>-0.576198</td>\n",
       "      <td>-0.483497</td>\n",
       "      <td>-0.327450</td>\n",
       "      <td>-0.420593</td>\n",
       "      <td>-0.531717</td>\n",
       "      <td>-0.147257</td>\n",
       "      <td>-0.277050</td>\n",
       "      <td>-0.372987</td>\n",
       "      <td>-0.394295</td>\n",
       "    </tr>\n",
       "    <tr>\n",
       "      <th>50%</th>\n",
       "      <td>-0.139855</td>\n",
       "      <td>-0.304150</td>\n",
       "      <td>0.006129</td>\n",
       "      <td>-0.085865</td>\n",
       "      <td>-0.204530</td>\n",
       "      <td>-0.084393</td>\n",
       "      <td>0.356210</td>\n",
       "      <td>0.193590</td>\n",
       "      <td>0.042591</td>\n",
       "      <td>0.193415</td>\n",
       "      <td>...</td>\n",
       "      <td>0.130180</td>\n",
       "      <td>-0.205825</td>\n",
       "      <td>-0.093599</td>\n",
       "      <td>0.088252</td>\n",
       "      <td>-0.024719</td>\n",
       "      <td>-0.163365</td>\n",
       "      <td>0.205905</td>\n",
       "      <td>0.101950</td>\n",
       "      <td>-0.006402</td>\n",
       "      <td>0.009402</td>\n",
       "    </tr>\n",
       "    <tr>\n",
       "      <th>75%</th>\n",
       "      <td>0.272452</td>\n",
       "      <td>0.077754</td>\n",
       "      <td>0.396945</td>\n",
       "      <td>0.322980</td>\n",
       "      <td>0.199610</td>\n",
       "      <td>0.327077</td>\n",
       "      <td>0.740035</td>\n",
       "      <td>0.565277</td>\n",
       "      <td>0.444148</td>\n",
       "      <td>0.564667</td>\n",
       "      <td>...</td>\n",
       "      <td>0.486557</td>\n",
       "      <td>0.185525</td>\n",
       "      <td>0.317283</td>\n",
       "      <td>0.506415</td>\n",
       "      <td>0.384140</td>\n",
       "      <td>0.239455</td>\n",
       "      <td>0.562638</td>\n",
       "      <td>0.484035</td>\n",
       "      <td>0.376380</td>\n",
       "      <td>0.421215</td>\n",
       "    </tr>\n",
       "    <tr>\n",
       "      <th>max</th>\n",
       "      <td>2.310700</td>\n",
       "      <td>3.034400</td>\n",
       "      <td>2.735500</td>\n",
       "      <td>3.122300</td>\n",
       "      <td>3.725400</td>\n",
       "      <td>4.050900</td>\n",
       "      <td>2.646000</td>\n",
       "      <td>2.591600</td>\n",
       "      <td>2.977500</td>\n",
       "      <td>3.182400</td>\n",
       "      <td>...</td>\n",
       "      <td>3.075800</td>\n",
       "      <td>3.163600</td>\n",
       "      <td>2.905300</td>\n",
       "      <td>3.476400</td>\n",
       "      <td>3.019200</td>\n",
       "      <td>2.892100</td>\n",
       "      <td>3.557100</td>\n",
       "      <td>3.093800</td>\n",
       "      <td>3.505900</td>\n",
       "      <td>3.131700</td>\n",
       "    </tr>\n",
       "  </tbody>\n",
       "</table>\n",
       "<p>8 rows × 50 columns</p>\n",
       "</div>"
      ],
      "text/plain": [
       "                 0             1             2             3             4   \\\n",
       "count  10000.000000  10000.000000  10000.000000  10000.000000  10000.000000   \n",
       "mean      -0.133432     -0.282503     -0.003135     -0.058787     -0.196563   \n",
       "std        0.636808      0.609669      0.616341      0.627237      0.639316   \n",
       "min       -3.462900     -2.781300     -2.830200     -2.560300     -3.826300   \n",
       "25%       -0.544965     -0.677438     -0.402357     -0.462342     -0.601665   \n",
       "50%       -0.139855     -0.304150      0.006129     -0.085865     -0.204530   \n",
       "75%        0.272452      0.077754      0.396945      0.322980      0.199610   \n",
       "max        2.310700      3.034400      2.735500      3.122300      3.725400   \n",
       "\n",
       "                 5             6             7             8             9   \\\n",
       "count  10000.000000  10000.000000  10000.000000  10000.000000  10000.000000   \n",
       "mean      -0.089407      0.340074      0.171033      0.029996      0.173814   \n",
       "std        0.666038      0.618415      0.607102      0.651614      0.617522   \n",
       "min       -2.882300     -2.335500     -2.901100     -2.770900     -3.140000   \n",
       "25%       -0.499713     -0.048276     -0.196128     -0.368227     -0.212317   \n",
       "50%       -0.084393      0.356210      0.193590      0.042591      0.193415   \n",
       "75%        0.327077      0.740035      0.565277      0.444148      0.564667   \n",
       "max        4.050900      2.646000      2.591600      2.977500      3.182400   \n",
       "\n",
       "       ...            40            41            42            43  \\\n",
       "count  ...  10000.000000  10000.000000  10000.000000  10000.000000   \n",
       "mean   ...      0.138563     -0.178343     -0.080396      0.084269   \n",
       "std    ...      0.570207      0.599361      0.616180      0.641655   \n",
       "min    ...     -2.515800     -2.764300     -2.913100     -2.698600   \n",
       "25%    ...     -0.222745     -0.576198     -0.483497     -0.327450   \n",
       "50%    ...      0.130180     -0.205825     -0.093599      0.088252   \n",
       "75%    ...      0.486557      0.185525      0.317283      0.506415   \n",
       "max    ...      3.075800      3.163600      2.905300      3.476400   \n",
       "\n",
       "                 44            45            46            47            48  \\\n",
       "count  10000.000000  10000.000000  10000.000000  10000.000000  10000.000000   \n",
       "mean      -0.018429     -0.138917      0.208033      0.103079      0.005544   \n",
       "std        0.635511      0.620848      0.561869      0.609057      0.598462   \n",
       "min       -3.947600     -2.826300     -3.077500     -2.741200     -3.516600   \n",
       "25%       -0.420593     -0.531717     -0.147257     -0.277050     -0.372987   \n",
       "50%       -0.024719     -0.163365      0.205905      0.101950     -0.006402   \n",
       "75%        0.384140      0.239455      0.562638      0.484035      0.376380   \n",
       "max        3.019200      2.892100      3.557100      3.093800      3.505900   \n",
       "\n",
       "                 49  \n",
       "count  10000.000000  \n",
       "mean       0.016672  \n",
       "std        0.632886  \n",
       "min       -3.415300  \n",
       "25%       -0.394295  \n",
       "50%        0.009402  \n",
       "75%        0.421215  \n",
       "max        3.131700  \n",
       "\n",
       "[8 rows x 50 columns]"
      ]
     },
     "execution_count": 34,
     "metadata": {},
     "output_type": "execute_result"
    }
   ],
   "source": [
    "# Summary\n",
    "df = pd.DataFrame(samp)\n",
    "df.describe()"
   ]
  },
  {
   "cell_type": "code",
   "execution_count": 35,
   "metadata": {},
   "outputs": [
    {
     "name": "stdout",
     "output_type": "stream",
     "text": [
      "IQR: -0.38896 0.43795\n",
      "Mean: 0.021335809803594633\n"
     ]
    }
   ],
   "source": [
    "print('IQR:', np.percentile(samp, 25), np.percentile(samp, 75))\n",
    "print('Mean:', np.mean(samp))"
   ]
  },
  {
   "cell_type": "code",
   "execution_count": null,
   "metadata": {},
   "outputs": [],
   "source": []
  },
  {
   "cell_type": "code",
   "execution_count": null,
   "metadata": {},
   "outputs": [],
   "source": []
  }
 ],
 "metadata": {
  "kernelspec": {
   "display_name": "colornamer",
   "language": "python",
   "name": "colornamer"
  },
  "language_info": {
   "codemirror_mode": {
    "name": "ipython",
    "version": 3
   },
   "file_extension": ".py",
   "mimetype": "text/x-python",
   "name": "python",
   "nbconvert_exporter": "python",
   "pygments_lexer": "ipython3",
   "version": "3.7.4"
  }
 },
 "nbformat": 4,
 "nbformat_minor": 2
}
