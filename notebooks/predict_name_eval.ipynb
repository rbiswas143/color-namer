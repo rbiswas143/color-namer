{
 "cells": [
  {
   "cell_type": "code",
   "execution_count": 1,
   "metadata": {},
   "outputs": [],
   "source": [
    "%load_ext autoreload"
   ]
  },
  {
   "cell_type": "code",
   "execution_count": 2,
   "metadata": {},
   "outputs": [],
   "source": [
    "%autoreload\n",
    "\n",
    "import sys\n",
    "sys.path.append('..')\n",
    "\n",
    "import torch\n",
    "import torch.utils.data as D\n",
    "\n",
    "import os\n",
    "import pprint\n",
    "import matplotlib.pyplot as plt\n",
    "import matplotlib.patches as patches\n",
    "import numpy as np\n",
    "\n",
    "import color.models.predict_name as pred_name_models\n",
    "import color.data.dataset as color_dataset\n",
    "import color.training as training\n",
    "import color.utils.utils as utils"
   ]
  },
  {
   "cell_type": "code",
   "execution_count": 3,
   "metadata": {},
   "outputs": [],
   "source": [
    "save_dir = '../trained_models/hp/predict_name_rnn_r3_grid/rnn_base'\n",
    "assert os.path.isdir(save_dir)"
   ]
  },
  {
   "cell_type": "code",
   "execution_count": 4,
   "metadata": {},
   "outputs": [
    {
     "name": "stdout",
     "output_type": "stream",
     "text": [
      "{'curr_epoch': 1,\n",
      " 'do_cv': True,\n",
      " 'draw_plots': True,\n",
      " 'epoch_cv_losses': [0.16623204999265417,\n",
      "                     0.16565741479924295,\n",
      "                     0.1629130101836888,\n",
      "                     0.16191619265395985,\n",
      "                     0.16062822595106818,\n",
      "                     0.16160090623703677,\n",
      "                     0.15907331483553996,\n",
      "                     0.15942843614426333,\n",
      "                     0.15890084325739767,\n",
      "                     0.15876268707545457],\n",
      " 'epoch_durations': [41.76962757110596,\n",
      "                     40.77054166793823,\n",
      "                     40.919513463974,\n",
      "                     41.18310570716858,\n",
      "                     42.378578662872314,\n",
      "                     42.06674671173096,\n",
      "                     41.40788984298706,\n",
      "                     41.12403988838196,\n",
      "                     41.59677815437317,\n",
      "                     41.250587701797485],\n",
      " 'epoch_train_losses': [0.1828087883063587,\n",
      "                        0.16563212333120814,\n",
      "                        0.1635172981126713,\n",
      "                        0.16195174054127234,\n",
      "                        0.160823559706838,\n",
      "                        0.15975752048542832,\n",
      "                        0.15858098561459166,\n",
      "                        0.15774748985090334,\n",
      "                        0.15712488849916273,\n",
      "                        0.1563929017054707],\n",
      " 'num_epochs': 10,\n",
      " 'save_dir': '/home/rb/pub/projects/color-namer/trained_models/hp/predict_name_rnn_r3_grid/rnn_base',\n",
      " 'show_progress': True,\n",
      " 'use_cuda': True}\n"
     ]
    }
   ],
   "source": [
    "# Training params and losses\n",
    "training_params = training.load_training_params(save_dir)\n",
    "pprint.pprint(training_params)"
   ]
  },
  {
   "cell_type": "code",
   "execution_count": 5,
   "metadata": {},
   "outputs": [
    {
     "name": "stdout",
     "output_type": "stream",
     "text": [
      "{'add_stop_word': True,\n",
      " 'batch_size': 1,\n",
      " 'cv_split': 0.1,\n",
      " 'dataset': 'big',\n",
      " 'emb_len': 300,\n",
      " 'max_words': None,\n",
      " 'normalize_rgb': True,\n",
      " 'num_workers': 0,\n",
      " 'pad_len': None,\n",
      " 'test_split': 0,\n",
      " 'use_cuda': True,\n",
      " 'var_seq_len': True}\n",
      "16273 1808 0\n"
     ]
    }
   ],
   "source": [
    "# Dataset params and partitions\n",
    "dataset_params, (color_names_train, color_names_cv, color_names_test) = color_dataset.load_dataset_params(save_dir)\n",
    "pprint.pprint(dataset_params)\n",
    "print(len(color_names_train), len(color_names_cv), len(color_names_test))"
   ]
  },
  {
   "cell_type": "code",
   "execution_count": 7,
   "metadata": {},
   "outputs": [
    {
     "name": "stdout",
     "output_type": "stream",
     "text": [
      "{'name': 'rnn_base', 'emb_dim': 300, 'color_dim': 3, 'lr': 0.001, 'momentum': 0.91, 'weight_decay': 1e-05, 'lr_decay': (1, 0.9), 'hidden_dim': 300, 'num_layers': 3, 'dropout': 0, 'nonlinearity': 'relu'}\n",
      "16\n"
     ]
    }
   ],
   "source": [
    "# Model params and weights\n",
    "model_weights, model_params = pred_name_models.load_model_params(save_dir)\n",
    "print(model_params)\n",
    "print(len(model_weights))"
   ]
  },
  {
   "cell_type": "code",
   "execution_count": 8,
   "metadata": {},
   "outputs": [
    {
     "name": "stdout",
     "output_type": "stream",
     "text": [
      "NamePredictorRNN(\n",
      "  (rgb2emb): Linear(in_features=3, out_features=300, bias=True)\n",
      "  (rnn): RNN(300, 300, num_layers=3)\n",
      "  (hidden2emb): Linear(in_features=300, out_features=300, bias=True)\n",
      ")\n",
      "Trainable Params: 633300\n"
     ]
    }
   ],
   "source": [
    "# Load model and pre-trained weights\n",
    "# model = pred_name_models.NamePredictorLSTM(**model_params)\n",
    "model = pred_name_models.NamePredictorRNN(**model_params)\n",
    "model.load_state_dict(model_weights)\n",
    "print(model)\n",
    "print('Trainable Params:', utils.get_trainable_params(model))"
   ]
  },
  {
   "cell_type": "code",
   "execution_count": 9,
   "metadata": {},
   "outputs": [
    {
     "name": "stdout",
     "output_type": "stream",
     "text": [
      "Loading colors dataset\n",
      "Loading embeddings\n",
      "Splitting dataset\n",
      "18080\n",
      "['candyman' list([0.99609375, 0.6171875, 0.4609375])] 16273 1808\n"
     ]
    }
   ],
   "source": [
    "# Re-create partitions\n",
    "dataset = color_dataset.Dataset(**dataset_params)\n",
    "color_name_dict = {color_name: color_rgb for color_rgb, _, color_name in dataset}\n",
    "print(len(color_name_dict))\n",
    "train_set = np.array([(name, torch.Tensor.tolist(color_name_dict[name])) for name in color_names_train])\n",
    "cv_set = np.array([(name, torch.Tensor.tolist(color_name_dict[name])) for name in color_names_cv])\n",
    "print(train_set[0],len(train_set), len(cv_set))"
   ]
  },
  {
   "cell_type": "code",
   "execution_count": 10,
   "metadata": {},
   "outputs": [],
   "source": [
    "# Runs a new color name throught the model to predict its color\n",
    "def predict_name(model, dataset, rgb, max_len=3, stop_word=False):\n",
    "    rgb = torch.FloatTensor(rgb).view(1, 3)\n",
    "    rgb = rgb / 256\n",
    "    \n",
    "    embs = torch.FloatTensor(dataset.embeddings)\n",
    "    embs_mag = torch.sqrt(torch.sum(embs*embs, dim=1)).reshape(-1)\n",
    "    \n",
    "    name = []\n",
    "    sims = []\n",
    "    \n",
    "    with torch.no_grad():\n",
    "        name_generator = model.gen_name(rgb)\n",
    "        next_emb = None\n",
    "        for i in range(max_len):\n",
    "            emb_pred = name_generator.send(next_emb).view(-1,1)\n",
    "            emb_pred_mag = torch.sqrt(torch.sum(emb_pred*emb_pred))\n",
    "            emb_dot = torch.mm(embs, emb_pred).view(-1)\n",
    "            embs_sim = emb_dot / (embs_mag * emb_pred_mag)\n",
    "        \n",
    "            nearest_idx = int(torch.argmax(embs_sim))\n",
    "            word, sim = dataset.vocab[nearest_idx], float(embs_sim[nearest_idx])\n",
    "            if stop_word and word == 'STOP_WORD':\n",
    "                print('Stop Word', i+1)\n",
    "                break\n",
    "            name.append(word)\n",
    "            sims.append(sim)\n",
    "            next_emb = dataset.embeddings[nearest_idx]\n",
    "            next_emb = torch.FloatTensor(next_emb).view(1,1,-1)\n",
    "        \n",
    "    return name, sims"
   ]
  },
  {
   "cell_type": "code",
   "execution_count": 25,
   "metadata": {},
   "outputs": [
    {
     "name": "stdout",
     "output_type": "stream",
     "text": [
      "Stop Word 3\n"
     ]
    },
    {
     "data": {
      "text/plain": [
       "(['pink', 'pink'], [0.6771054863929749, 0.700982928276062])"
      ]
     },
     "execution_count": 25,
     "metadata": {},
     "output_type": "execute_result"
    }
   ],
   "source": [
    "predict_name(model, dataset, (255, 255, 255), stop_word=True)"
   ]
  },
  {
   "cell_type": "code",
   "execution_count": null,
   "metadata": {},
   "outputs": [],
   "source": []
  }
 ],
 "metadata": {
  "kernelspec": {
   "display_name": "colornamer",
   "language": "python",
   "name": "colornamer"
  },
  "language_info": {
   "codemirror_mode": {
    "name": "ipython",
    "version": 3
   },
   "file_extension": ".py",
   "mimetype": "text/x-python",
   "name": "python",
   "nbconvert_exporter": "python",
   "pygments_lexer": "ipython3",
   "version": "3.7.4"
  }
 },
 "nbformat": 4,
 "nbformat_minor": 2
}
