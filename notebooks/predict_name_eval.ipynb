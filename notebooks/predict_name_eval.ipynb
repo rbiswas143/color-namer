{
 "cells": [
  {
   "cell_type": "code",
   "execution_count": null,
   "metadata": {},
   "outputs": [],
   "source": [
    "%load_ext autoreload"
   ]
  },
  {
   "cell_type": "code",
   "execution_count": null,
   "metadata": {},
   "outputs": [],
   "source": [
    "%autoreload\n",
    "\n",
    "import sys\n",
    "sys.path.append('..')\n",
    "\n",
    "import torch\n",
    "import torch.utils.data as D\n",
    "\n",
    "import os\n",
    "import pprint\n",
    "import matplotlib.pyplot as plt\n",
    "import matplotlib.patches as patches\n",
    "import numpy as np\n",
    "\n",
    "import color.models as models\n",
    "import color.models.model_utils as model_utils\n",
    "import color.models.predict_name as predict_name_models\n",
    "import color.data.dataset as color_dataset\n",
    "import color.training as training\n",
    "import color.utils.utils as utils"
   ]
  },
  {
   "cell_type": "code",
   "execution_count": null,
   "metadata": {},
   "outputs": [],
   "source": [
    "save_dir = '../trained_models/hp/predict_name_seq_hp2_stop_word/rnn_003'\n",
    "model_class, _ = models.get_model('predict_name_rnn')\n",
    "assert os.path.isdir(save_dir)"
   ]
  },
  {
   "cell_type": "code",
   "execution_count": null,
   "metadata": {},
   "outputs": [],
   "source": [
    "# Training params and losses\n",
    "training_params = training.load_training_params(save_dir)\n",
    "pprint.pprint(training_params)"
   ]
  },
  {
   "cell_type": "code",
   "execution_count": null,
   "metadata": {},
   "outputs": [],
   "source": [
    "# Plot learning curves\n",
    "epochs = np.arange(len(training_params['epoch_train_losses'])) + 1\n",
    "plt.plot(epochs, training_params['epoch_train_losses'], label='Training Loss')\n",
    "plt.plot(epochs, training_params['epoch_cv_losses'], label='CV Loss')\n",
    "plt.legend(loc='upper right')\n",
    "plt.xlabel('Epochs')\n",
    "plt.ylabel('Losses')\n",
    "plt.show()"
   ]
  },
  {
   "cell_type": "code",
   "execution_count": null,
   "metadata": {},
   "outputs": [],
   "source": [
    "# Re-create dataset\n",
    "dataset = color_dataset.Dataset.load(save_dir)\n",
    "print(dataset.params)\n",
    "print('Dataset Size:', len(dataset))"
   ]
  },
  {
   "cell_type": "code",
   "execution_count": null,
   "metadata": {},
   "outputs": [],
   "source": [
    "# Load model params and weights\n",
    "model_weights, model_params = model_utils.load_model_params(save_dir)\n",
    "print(model_params)\n",
    "print(len(model_weights))"
   ]
  },
  {
   "cell_type": "code",
   "execution_count": null,
   "metadata": {},
   "outputs": [],
   "source": [
    "# Initialize trained model\n",
    "model = model_class(**model_params).double()\n",
    "model.load_state_dict(model_weights)\n",
    "print(model)\n",
    "print('Trainable Params:', utils.get_trainable_params(model))"
   ]
  },
  {
   "cell_type": "code",
   "execution_count": null,
   "metadata": {},
   "outputs": [],
   "source": [
    "# Convenience wrapper around the predict names function\n",
    "predict_names = lambda rgb: predict_name_models.predict_names(model, dataset, rgb, num_names=5, max_len=3)"
   ]
  },
  {
   "cell_type": "code",
   "execution_count": null,
   "metadata": {},
   "outputs": [],
   "source": [
    "def predict_and_plot(color_rgbs, actual_color_names=None):\n",
    "    '''\n",
    "    Predict names for a list of colors\n",
    "    Plot the actual and predict names alongside the color\n",
    "    '''\n",
    "    \n",
    "    for i in range(len(color_rgbs)):\n",
    "            \n",
    "        fig = plt.figure(figsize=(2, 2))\n",
    "        ax = fig.add_subplot(111)\n",
    "        size = 100\n",
    "        plt.xlim([0, size])\n",
    "        plt.xticks([])\n",
    "        plt.ylim([0, size])\n",
    "        plt.yticks([])\n",
    "        p = patches.Rectangle((0,0), size, size, color=color_rgbs[i])\n",
    "        ax.add_patch(p)\n",
    "        plt.show()\n",
    "        \n",
    "        if actual_color_names is not None:\n",
    "            print('Actual Color:', actual_color_names[i])\n",
    "            \n",
    "        color_names = predict_names(color_rgbs[i])\n",
    "        print('Predicted colors:')\n",
    "        for pred in color_names:\n",
    "            print('{}\\tScore:{}'.format(' '.join(pred.words), pred.similarity))"
   ]
  },
  {
   "cell_type": "code",
   "execution_count": null,
   "metadata": {},
   "outputs": [],
   "source": [
    "# Plot some training samples\n",
    "select = 3\n",
    "idx = np.arange(len(dataset.train_set))\n",
    "np.random.shuffle(idx)\n",
    "train_loader = iter(color_dataset.DataLoader(dataset.train_set, shuffle=True, seq_len_first=True))\n",
    "colors_selected = [(color_rgb, color_name) for color_rgb, _, color_name in [next(train_loader) for _ in range(select)]]\n",
    "color_rgb_selected = list(map(lambda x: x[0].view(-1).tolist(), colors_selected))\n",
    "color_names_selected = list(map(lambda x: x[1][0], colors_selected))\n",
    "predict_and_plot(color_rgb_selected, color_names_selected)"
   ]
  },
  {
   "cell_type": "code",
   "execution_count": null,
   "metadata": {},
   "outputs": [],
   "source": [
    "# Plot some cross-validation samples\n",
    "select = 3\n",
    "idx = np.arange(len(dataset.cv_set))\n",
    "np.random.shuffle(idx)\n",
    "train_loader = iter(color_dataset.DataLoader(dataset.train_set, shuffle=True, seq_len_first=True))\n",
    "colors_selected = [(color_rgb, color_name) for color_rgb, _, color_name in [next(train_loader) for _ in range(select)]]\n",
    "color_rgb_selected = list(map(lambda x: x[0].view(-1).tolist(), colors_selected))\n",
    "color_names_selected = list(map(lambda x: x[1][0], colors_selected))\n",
    "predict_and_plot(color_rgb_selected, color_names_selected)"
   ]
  },
  {
   "cell_type": "code",
   "execution_count": null,
   "metadata": {},
   "outputs": [],
   "source": []
  }
 ],
 "metadata": {
  "kernelspec": {
   "display_name": "Python 3",
   "language": "python",
   "name": "python3"
  },
  "language_info": {
   "codemirror_mode": {
    "name": "ipython",
    "version": 3
   },
   "file_extension": ".py",
   "mimetype": "text/x-python",
   "name": "python",
   "nbconvert_exporter": "python",
   "pygments_lexer": "ipython3",
   "version": "3.7.4"
  }
 },
 "nbformat": 4,
 "nbformat_minor": 2
}
