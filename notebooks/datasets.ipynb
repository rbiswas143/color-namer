{
 "cells": [
  {
   "cell_type": "code",
   "execution_count": 2,
   "metadata": {},
   "outputs": [
    {
     "name": "stdout",
     "output_type": "stream",
     "text": [
      "The autoreload extension is already loaded. To reload it, use:\n",
      "  %reload_ext autoreload\n"
     ]
    }
   ],
   "source": [
    "%load_ext autoreload\n",
    "%autoreload"
   ]
  },
  {
   "cell_type": "code",
   "execution_count": 19,
   "metadata": {},
   "outputs": [],
   "source": [
    "import sys\n",
    "sys.path.append('..')\n",
    "\n",
    "import os\n",
    "import json\n",
    "\n",
    "import pandas as pd\n",
    "import numpy as np\n",
    "import math\n",
    "from colormath.color_objects import XYZColor, sRGBColor\n",
    "from colormath.color_conversions import convert_color\n",
    "from colormath.color_objects import LabColor\n",
    "from colormath.color_diff import delta_e_cie1976"
   ]
  },
  {
   "cell_type": "code",
   "execution_count": 20,
   "metadata": {},
   "outputs": [],
   "source": [
    "datasets_path = os.path.join('..', 'datasets')"
   ]
  },
  {
   "cell_type": "code",
   "execution_count": 21,
   "metadata": {},
   "outputs": [],
   "source": [
    "# Big color dataset\n",
    "dpath_big = os.path.join(datasets_path, 'color-dict-big.json')\n",
    "with open(dpath_big, 'r') as x:\n",
    "    big = json.load(x)"
   ]
  },
  {
   "cell_type": "code",
   "execution_count": 22,
   "metadata": {},
   "outputs": [],
   "source": [
    "# Standardize big color dataset\n",
    "big_colors = pd.io.json.json_normalize(list(big['colors']))\n",
    "big_colors = big_colors.drop(columns=['luminance'])\n",
    "big_colors = big_colors.rename(columns={'rgb.r': 'r', 'rgb.g': 'g', 'rgb.b': 'b'})"
   ]
  },
  {
   "cell_type": "code",
   "execution_count": 23,
   "metadata": {},
   "outputs": [],
   "source": [
    "# Set base colors\n",
    "# Use the first 17 standard CSS1 colours\n",
    "dpath_base = os.path.join(datasets_path, 'html-colors.json')\n",
    "with open(dpath_base, 'r') as hc:\n",
    "    base_col = json.load(hc)"
   ]
  },
  {
   "cell_type": "code",
   "execution_count": 27,
   "metadata": {},
   "outputs": [
    {
     "name": "stdout",
     "output_type": "stream",
     "text": [
      "        hex                         name    b    g    r basename\n",
      "0   #a59344           18th Century Green   68  147  165    olive\n",
      "1   #7b463b               1975 Earth Red   59   70  123   maroon\n",
      "2   #191970  20000 Leagues Under the Sea  112   25   25     navy\n",
      "3   #d2d2c0                   400XT Film  192  210  210   silver\n",
      "4   #9bafad             5-Masted Preußen  173  175  155   silver\n",
      "5   #990066                8Bit Eggplant  102    0  153   purple\n",
      "6   #3d1c02                    90% Cocoa    2   28   61   maroon\n",
      "7   #d1edee     A Certain Shade Of Green  238  237  209    white\n",
      "8   #d3dde4               A Dime a Dozen  228  221  211   silver\n",
      "9   #456789   A Hint of Incremental Blue  137  103   69     gray\n",
      "10  #bfaf92         A Pair of Brown Eyes  146  175  191   silver\n",
      "11  #88ffcc              A State of Mint  204  255  136     aqua\n",
      "12  #00b89f                   Aare River  159  184    0     teal\n",
      "13  #05a3ad            Aare River Brienz  173  163    5     teal\n",
      "14  #231f20                Abaddon Black   32   31   35    black\n",
      "15  #f2f1e6                 Abaidh White  230  241  242    white\n",
      "16  #f8f3f6                      Abalone  246  243  248    white\n",
      "17  #4c4f56                        Abbey   86   79   76     gray\n"
     ]
    }
   ],
   "source": [
    "def hex2cie(hexcolor):\n",
    "    \"Convert hex color to yuv\"\n",
    "    r = int(hexcolor[1:3], 16)\n",
    "    g = int(hexcolor[3:5], 16)\n",
    "    b = int(hexcolor[5:], 16)\n",
    "    \n",
    "    rgb = sRGBColor(r,g,b)\n",
    "    lab = convert_color(rgb, LabColor, target_illuminant='d50')\n",
    "    \n",
    "    return lab\n",
    "\n",
    "# Convert base_col rgb vals to yuv\n",
    "base_col_cie = {}\n",
    "for key, val in base_col.items():\n",
    "    base_col_cie[key] = hex2cie(val)\n",
    "    \n",
    "# L1 distance between two YUV colors (not the best way)\n",
    "# perhaps need to convert it to Lab* space before calculating similarity\n",
    "def min_distance_colorname(x):\n",
    "    min_delta = 3000000\n",
    "    min_color = 'black'\n",
    "    x_cie = hex2cie(x)\n",
    "    for key, val_cie in base_col_cie.items():\n",
    "        delta_e = delta_e_cie1976(x_cie, val_cie)\n",
    "        if delta_e < min_delta:\n",
    "            min_delta = delta_e\n",
    "            min_color = key\n",
    "            \n",
    "    return min_color\n",
    "\n",
    "# Try to get base color name based on default list\n",
    "big_colors['basename'] = big_colors['hex'].apply(min_distance_colorname)\n",
    "print(big_colors[0:18])"
   ]
  },
  {
   "cell_type": "code",
   "execution_count": null,
   "metadata": {},
   "outputs": [],
   "source": [
    "# Small color dataset\n",
    "dpath_small = os.path.join(datasets_path, 'color-dict-small.json')\n",
    "with open(dpath_small, 'r') as x:\n",
    "    small = json.load(x)"
   ]
  },
  {
   "cell_type": "code",
   "execution_count": null,
   "metadata": {},
   "outputs": [],
   "source": [
    "# Standardize small color dataset\n",
    "small_colors = []\n",
    "for colorPage in small['colorPage']:\n",
    "    for entry in colorPage['colorEntry']:\n",
    "        small_colors.append(entry)\n",
    "small_colors = pd.io.json.json_normalize(list(small_colors))\n",
    "small_colors = small_colors.rename(columns={\n",
    "    'colorName': 'name', 'RGB8.red': 'r', \n",
    "    'RGB8.green': 'g', 'RGB8.blue': 'b'})\n",
    "small_colors['name'] = small_colors['name'].apply(lambda n: re.sub('\\(SW.*\\)', '', n).strip())"
   ]
  }
 ],
 "metadata": {
  "kernelspec": {
   "display_name": "colornamer",
   "language": "python",
   "name": "colornamer"
  },
  "language_info": {
   "codemirror_mode": {
    "name": "ipython",
    "version": 3
   },
   "file_extension": ".py",
   "mimetype": "text/x-python",
   "name": "python",
   "nbconvert_exporter": "python",
   "pygments_lexer": "ipython3",
   "version": "3.6.8"
  }
 },
 "nbformat": 4,
 "nbformat_minor": 1
}
