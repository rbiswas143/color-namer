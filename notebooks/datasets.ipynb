{
 "cells": [
  {
   "cell_type": "code",
   "execution_count": 42,
   "metadata": {
    "collapsed": true
   },
   "outputs": [],
   "source": [
    "%load_ext autoreload\n",
    "%autoreload"
   ]
  },
  {
   "cell_type": "code",
   "execution_count": 43,
   "metadata": {
    "collapsed": true
   },
   "outputs": [],
   "source": [
    "import sys\n",
    "sys.path.append('..')\n",
    "\n",
    "import os\n",
    "import json\n",
    "\n",
    "import pandas as pd"
   ]
  },
  {
   "cell_type": "code",
   "execution_count": 44,
   "metadata": {
    "collapsed": true
   },
   "outputs": [],
   "source": [
    "datasets_path = os.path.join('..', 'datasets')"
   ]
  },
  {
   "cell_type": "code",
   "execution_count": 45,
   "metadata": {
    "collapsed": true
   },
   "outputs": [],
   "source": [
    "# Big color dataset\n",
    "dpath_big = os.path.join(datasets_path, 'color-dict-big.json')\n",
    "with open(dpath_big, 'r') as x:\n",
    "    big = json.load(x)"
   ]
  },
  {
   "cell_type": "code",
   "execution_count": 46,
   "metadata": {
    "collapsed": false
   },
   "outputs": [],
   "source": [
    "# Standardize big color dataset\n",
    "big_colors = pd.io.json.json_normalize(list(big['colors']))\n",
    "big_colors = big_colors.drop(columns=['luminance'])\n",
    "big_colors = big_colors.rename(columns={'rgb.r': 'r', 'rgb.g': 'g', 'rgb.b': 'b'})"
   ]
  },
  {
   "cell_type": "code",
   "execution_count": 48,
   "metadata": {
    "collapsed": false
   },
   "outputs": [
    {
     "name": "stdout",
     "output_type": "stream",
     "text": [
      "           hex               name    b    g    r basename\n",
      "13330  #5d1f1e          Red Oxide   30   31   93   maroon\n",
      "13331  #bb0044  Red Paracentrotus   68    0  187   silver\n",
      "13332  #7b3539           Red Pear   57   53  123   maroon\n",
      "13333  #dd0000        Red Pegasus    0    0  221   silver\n",
      "13334  #f6b894        Red Perfume  148  184  246      red\n",
      "13335  #ed1c24        Red Pigment   36   28  237      red\n",
      "13336  #fa2a55           Red Pink   85   42  250      red\n",
      "13337  #7c2946           Red Plum   70   41  124   maroon\n"
     ]
    }
   ],
   "source": [
    "# Set base colors\n",
    "# Use the first 17 standard CSS1 colours\n",
    "dpath_base = os.path.join(datasets_path, 'html-colors.json')\n",
    "with open(dpath_base, 'r') as hc:\n",
    "    base_col = json.load(hc)\n",
    "\n",
    "# L1 distance between two hex colors (not the best way)\n",
    "# perhaps need to convert it to Lab* space before calculating similarity\n",
    "def min_distance_colorname(x):\n",
    "    min_dist = 3000000\n",
    "    min_color = 'black'\n",
    "    x_int = int(x[1:], 16)\n",
    "    for key, val in base_col.items():\n",
    "        dist = abs(int(val[1:], 16) - x_int)\n",
    "        if dist < min_dist:\n",
    "            min_dist = dist\n",
    "            min_color = key\n",
    "            \n",
    "    return min_color\n",
    "\n",
    "# Try to get base color name based on default list\n",
    "big_colors['basename'] = big_colors['hex'].apply(min_distance_colorname)\n",
    "print(big_colors[13330:13338])"
   ]
  },
  {
   "cell_type": "code",
   "execution_count": 79,
   "metadata": {
    "collapsed": true
   },
   "outputs": [],
   "source": [
    "# Small color dataset\n",
    "dpath_small = os.path.join(datasets_path, 'color-dict-small.json')\n",
    "with open(dpath_small, 'r') as x:\n",
    "    small = json.load(x)"
   ]
  },
  {
   "cell_type": "code",
   "execution_count": 103,
   "metadata": {
    "collapsed": true
   },
   "outputs": [],
   "source": [
    "# Standardize small color dataset\n",
    "small_colors = []\n",
    "for colorPage in small['colorPage']:\n",
    "    for entry in colorPage['colorEntry']:\n",
    "        small_colors.append(entry)\n",
    "small_colors = pd.io.json.json_normalize(list(small_colors))\n",
    "small_colors = small_colors.rename(columns={\n",
    "    'colorName': 'name', 'RGB8.red': 'r', \n",
    "    'RGB8.green': 'g', 'RGB8.blue': 'b'})\n",
    "small_colors['name'] = small_colors['name'].apply(lambda n: re.sub('\\(SW.*\\)', '', n).strip())"
   ]
  }
 ],
 "metadata": {
  "kernelspec": {
   "display_name": "colornamer",
   "language": "python",
   "name": "colornamer"
  },
  "language_info": {
   "codemirror_mode": {
    "name": "ipython",
    "version": 3
   },
   "file_extension": ".py",
   "mimetype": "text/x-python",
   "name": "python",
   "nbconvert_exporter": "python",
   "pygments_lexer": "ipython3",
   "version": "3.6.8"
  }
 },
 "nbformat": 4,
 "nbformat_minor": 1
}
