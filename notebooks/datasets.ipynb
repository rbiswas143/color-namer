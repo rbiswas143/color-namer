{
 "cells": [
  {
   "cell_type": "code",
   "execution_count": 42,
   "metadata": {
    "collapsed": true
   },
   "outputs": [],
   "source": [
    "%load_ext autoreload\n",
    "%autoreload"
   ]
  },
  {
   "cell_type": "code",
   "execution_count": 11,
   "metadata": {},
   "outputs": [],
   "source": [
    "import sys\n",
    "sys.path.append('..')\n",
    "\n",
    "import os\n",
    "import json\n",
    "\n",
    "import pandas as pd\n",
    "import numpy as np\n",
    "import math"
   ]
  },
  {
   "cell_type": "code",
   "execution_count": 12,
   "metadata": {},
   "outputs": [],
   "source": [
    "datasets_path = os.path.join('..', 'datasets')"
   ]
  },
  {
   "cell_type": "code",
   "execution_count": 13,
   "metadata": {},
   "outputs": [],
   "source": [
    "# Big color dataset\n",
    "dpath_big = os.path.join(datasets_path, 'color-dict-big.json')\n",
    "with open(dpath_big, 'r') as x:\n",
    "    big = json.load(x)"
   ]
  },
  {
   "cell_type": "code",
   "execution_count": 14,
   "metadata": {},
   "outputs": [],
   "source": [
    "# Standardize big color dataset\n",
    "big_colors = pd.io.json.json_normalize(list(big['colors']))\n",
    "big_colors = big_colors.drop(columns=['luminance'])\n",
    "big_colors = big_colors.rename(columns={'rgb.r': 'r', 'rgb.g': 'g', 'rgb.b': 'b'})"
   ]
  },
  {
   "cell_type": "code",
   "execution_count": 15,
   "metadata": {},
   "outputs": [],
   "source": [
    "# Set base colors\n",
    "# Use the first 17 standard CSS1 colours\n",
    "dpath_base = os.path.join(datasets_path, 'html-colors.json')\n",
    "with open(dpath_base, 'r') as hc:\n",
    "    base_col = json.load(hc)"
   ]
  },
  {
   "cell_type": "code",
   "execution_count": 22,
   "metadata": {},
   "outputs": [
    {
     "name": "stdout",
     "output_type": "stream",
     "text": [
      "        hex                         name    b    g    r basename\n",
      "0   #a59344           18th Century Green   68  147  165    olive\n",
      "1   #7b463b               1975 Earth Red   59   70  123    olive\n",
      "2   #191970  20000 Leagues Under the Sea  112   25   25     navy\n",
      "3   #d2d2c0                   400XT Film  192  210  210   silver\n",
      "4   #9bafad             5-Masted Preußen  173  175  155   silver\n",
      "5   #990066                8Bit Eggplant  102    0  153   purple\n",
      "6   #3d1c02                    90% Cocoa    2   28   61    black\n",
      "7   #d1edee     A Certain Shade Of Green  238  237  209    white\n",
      "8   #d3dde4               A Dime a Dozen  228  221  211   silver\n",
      "9   #456789   A Hint of Incremental Blue  137  103   69     gray\n",
      "10  #bfaf92         A Pair of Brown Eyes  146  175  191   silver\n",
      "11  #88ffcc              A State of Mint  204  255  136   silver\n",
      "12  #00b89f                   Aare River  159  184    0     teal\n",
      "13  #05a3ad            Aare River Brienz  173  163    5     teal\n",
      "14  #231f20                Abaddon Black   32   31   35    black\n",
      "15  #f2f1e6                 Abaidh White  230  241  242    white\n",
      "16  #f8f3f6                      Abalone  246  243  248    white\n",
      "17  #4c4f56                        Abbey   86   79   76     gray\n"
     ]
    }
   ],
   "source": [
    "def hex2yuv(hexcolor):\n",
    "    \"Convert hex colpr to yuv\"\n",
    "    r = int(hexcolor[1:3], 16)\n",
    "    g = int(hexcolor[3:5], 16)\n",
    "    b = int(hexcolor[5:], 16)\n",
    "    \n",
    "    conv_mat = np.array([[ 0.29900, -0.16874,  0.50000],\n",
    "                 [0.58700, -0.33126, -0.41869],\n",
    "                 [ 0.11400, 0.50000, -0.08131]])\n",
    "    yuv = np.dot(conv_mat, np.array([r,g,b]))\n",
    "    return yuv\n",
    "\n",
    "# Convert base_col rgb vals to yuv\n",
    "base_col_yuv = {}\n",
    "for key, val in base_col.items():\n",
    "    base_col_yuv[key] = hex2yuv(val)\n",
    "    \n",
    "# L1 distance between two YUV colors (not the best way)\n",
    "# perhaps need to convert it to Lab* space before calculating similarity\n",
    "def min_distance_colorname(x):\n",
    "    min_dist = 3000000\n",
    "    min_color = 'black'\n",
    "    x_yuv = hex2yuv(x)\n",
    "    for key, val_yuv in base_col_yuv.items():\n",
    "        dist = np.linalg.norm(val_yuv - x_yuv)\n",
    "        if dist < min_dist:\n",
    "            min_dist = dist\n",
    "            min_color = key\n",
    "            \n",
    "    return min_color\n",
    "\n",
    "# Try to get base color name based on default list\n",
    "big_colors['basename'] = big_colors['hex'].apply(min_distance_colorname)\n",
    "print(big_colors[0:18])"
   ]
  },
  {
   "cell_type": "code",
   "execution_count": 79,
   "metadata": {
    "collapsed": true
   },
   "outputs": [],
   "source": [
    "# Small color dataset\n",
    "dpath_small = os.path.join(datasets_path, 'color-dict-small.json')\n",
    "with open(dpath_small, 'r') as x:\n",
    "    small = json.load(x)"
   ]
  },
  {
   "cell_type": "code",
   "execution_count": 103,
   "metadata": {
    "collapsed": true
   },
   "outputs": [],
   "source": [
    "# Standardize small color dataset\n",
    "small_colors = []\n",
    "for colorPage in small['colorPage']:\n",
    "    for entry in colorPage['colorEntry']:\n",
    "        small_colors.append(entry)\n",
    "small_colors = pd.io.json.json_normalize(list(small_colors))\n",
    "small_colors = small_colors.rename(columns={\n",
    "    'colorName': 'name', 'RGB8.red': 'r', \n",
    "    'RGB8.green': 'g', 'RGB8.blue': 'b'})\n",
    "small_colors['name'] = small_colors['name'].apply(lambda n: re.sub('\\(SW.*\\)', '', n).strip())"
   ]
  }
 ],
 "metadata": {
  "kernelspec": {
   "display_name": "colornamer",
   "language": "python",
   "name": "colornamer"
  },
  "language_info": {
   "codemirror_mode": {
    "name": "ipython",
    "version": 3
   },
   "file_extension": ".py",
   "mimetype": "text/x-python",
   "name": "python",
   "nbconvert_exporter": "python",
   "pygments_lexer": "ipython3",
   "version": "3.6.8"
  }
 },
 "nbformat": 4,
 "nbformat_minor": 1
}
