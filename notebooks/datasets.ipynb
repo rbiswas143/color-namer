{
 "cells": [
  {
   "cell_type": "code",
   "execution_count": 8,
   "metadata": {},
   "outputs": [],
   "source": [
    "import sys\n",
    "sys.path.append('..')\n",
    "\n",
    "import os\n",
    "import json\n",
    "import re\n",
    "\n",
    "import pandas as pd"
   ]
  },
  {
   "cell_type": "code",
   "execution_count": 9,
   "metadata": {},
   "outputs": [],
   "source": [
    "datasets_path = os.path.join('..', 'datasets')"
   ]
  },
  {
   "cell_type": "code",
   "execution_count": 10,
   "metadata": {},
   "outputs": [],
   "source": [
    "# Big color dataset\n",
    "dpath_big = os.path.join(datasets_path, 'color-dict-big.json')\n",
    "with open(dpath_big, 'r') as x:\n",
    "    big = json.load(x)"
   ]
  },
  {
   "cell_type": "code",
   "execution_count": 11,
   "metadata": {},
   "outputs": [],
   "source": [
    "# Standardize big color dataset\n",
    "big_colors = pd.io.json.json_normalize(list(big['colors']))\n",
    "big_colors = big_colors.drop(columns=['hex', 'luminance'])\n",
    "big_colors = big_colors.rename(columns={'rgb.r': 'r', 'rgb.g': 'g', 'rgb.b': 'b'})"
   ]
  },
  {
   "cell_type": "code",
   "execution_count": 12,
   "metadata": {},
   "outputs": [],
   "source": [
    "# Small color dataset\n",
    "dpath_small = os.path.join(datasets_path, 'color-dict-small.json')\n",
    "with open(dpath_small, 'r') as x:\n",
    "    small = json.load(x)"
   ]
  },
  {
   "cell_type": "code",
   "execution_count": 13,
   "metadata": {},
   "outputs": [],
   "source": [
    "# Standardize small color dataset\n",
    "small_colors = []\n",
    "for colorPage in small['colorPage']:\n",
    "    for entry in colorPage['colorEntry']:\n",
    "        small_colors.append(entry)\n",
    "small_colors = pd.io.json.json_normalize(list(small_colors))\n",
    "small_colors = small_colors.rename(columns={\n",
    "    'colorName': 'name', 'RGB8.red': 'r', \n",
    "    'RGB8.green': 'g', 'RGB8.blue': 'b'})\n",
    "small_colors['name'] = small_colors['name'].apply(lambda n: re.sub('\\(SW.*\\)', '', n).strip())"
   ]
  },
  {
   "cell_type": "code",
   "execution_count": 56,
   "metadata": {},
   "outputs": [
    {
     "data": {
      "text/plain": [
       "2    982\n",
       "1    473\n",
       "3     69\n",
       "4      2\n",
       "Name: num_words, dtype: int64"
      ]
     },
     "execution_count": 56,
     "metadata": {},
     "output_type": "execute_result"
    }
   ],
   "source": [
    "# Small Colors EDA\n",
    "small_colors['num_words'] = small_colors['name'].apply(lambda c: len(c.split()))\n",
    "small_colors['num_words'].value_counts()"
   ]
  },
  {
   "cell_type": "code",
   "execution_count": 58,
   "metadata": {},
   "outputs": [
    {
     "data": {
      "text/html": [
       "<div>\n",
       "<style scoped>\n",
       "    .dataframe tbody tr th:only-of-type {\n",
       "        vertical-align: middle;\n",
       "    }\n",
       "\n",
       "    .dataframe tbody tr th {\n",
       "        vertical-align: top;\n",
       "    }\n",
       "\n",
       "    .dataframe thead th {\n",
       "        text-align: right;\n",
       "    }\n",
       "</style>\n",
       "<table border=\"1\" class=\"dataframe\">\n",
       "  <thead>\n",
       "    <tr style=\"text-align: right;\">\n",
       "      <th></th>\n",
       "      <th>b</th>\n",
       "      <th>g</th>\n",
       "      <th>r</th>\n",
       "      <th>name</th>\n",
       "      <th>num_words</th>\n",
       "    </tr>\n",
       "  </thead>\n",
       "  <tbody>\n",
       "    <tr>\n",
       "      <th>14</th>\n",
       "      <td>209</td>\n",
       "      <td>196</td>\n",
       "      <td>139</td>\n",
       "      <td>After the Rain</td>\n",
       "      <td>3</td>\n",
       "    </tr>\n",
       "    <tr>\n",
       "      <th>71</th>\n",
       "      <td>133</td>\n",
       "      <td>153</td>\n",
       "      <td>158</td>\n",
       "      <td>At Ease Soldier</td>\n",
       "      <td>3</td>\n",
       "    </tr>\n",
       "    <tr>\n",
       "      <th>88</th>\n",
       "      <td>180</td>\n",
       "      <td>162</td>\n",
       "      <td>131</td>\n",
       "      <td>Baby Blue Eyes</td>\n",
       "      <td>3</td>\n",
       "    </tr>\n",
       "    <tr>\n",
       "      <th>89</th>\n",
       "      <td>138</td>\n",
       "      <td>185</td>\n",
       "      <td>187</td>\n",
       "      <td>Baby Bok Choy</td>\n",
       "      <td>3</td>\n",
       "    </tr>\n",
       "    <tr>\n",
       "      <th>138</th>\n",
       "      <td>57</td>\n",
       "      <td>54</td>\n",
       "      <td>50</td>\n",
       "      <td>Black of Night</td>\n",
       "      <td>3</td>\n",
       "    </tr>\n",
       "  </tbody>\n",
       "</table>\n",
       "</div>"
      ],
      "text/plain": [
       "       b    g    r             name  num_words\n",
       "14   209  196  139   After the Rain          3\n",
       "71   133  153  158  At Ease Soldier          3\n",
       "88   180  162  131   Baby Blue Eyes          3\n",
       "89   138  185  187    Baby Bok Choy          3\n",
       "138   57   54   50   Black of Night          3"
      ]
     },
     "execution_count": 58,
     "metadata": {},
     "output_type": "execute_result"
    }
   ],
   "source": [
    "# Some long color names\n",
    "small_colors[small_colors['num_words'] >= 3].head()"
   ]
  },
  {
   "cell_type": "code",
   "execution_count": 59,
   "metadata": {},
   "outputs": [
    {
     "data": {
      "text/plain": [
       "2    12795\n",
       "1     3728\n",
       "3     1422\n",
       "4      125\n",
       "5       10\n",
       "6        1\n",
       "Name: num_words, dtype: int64"
      ]
     },
     "execution_count": 59,
     "metadata": {},
     "output_type": "execute_result"
    }
   ],
   "source": [
    "# Big colors EDA\n",
    "big_colors['num_words'] = big_colors['name'].apply(lambda c: len(c.split()))\n",
    "big_colors['num_words'].value_counts()"
   ]
  },
  {
   "cell_type": "code",
   "execution_count": 61,
   "metadata": {},
   "outputs": [
    {
     "data": {
      "text/html": [
       "<div>\n",
       "<style scoped>\n",
       "    .dataframe tbody tr th:only-of-type {\n",
       "        vertical-align: middle;\n",
       "    }\n",
       "\n",
       "    .dataframe tbody tr th {\n",
       "        vertical-align: top;\n",
       "    }\n",
       "\n",
       "    .dataframe thead th {\n",
       "        text-align: right;\n",
       "    }\n",
       "</style>\n",
       "<table border=\"1\" class=\"dataframe\">\n",
       "  <thead>\n",
       "    <tr style=\"text-align: right;\">\n",
       "      <th></th>\n",
       "      <th>name</th>\n",
       "      <th>b</th>\n",
       "      <th>g</th>\n",
       "      <th>r</th>\n",
       "      <th>num_words</th>\n",
       "    </tr>\n",
       "  </thead>\n",
       "  <tbody>\n",
       "    <tr>\n",
       "      <th>2</th>\n",
       "      <td>20000 Leagues Under the Sea</td>\n",
       "      <td>112</td>\n",
       "      <td>25</td>\n",
       "      <td>25</td>\n",
       "      <td>5</td>\n",
       "    </tr>\n",
       "    <tr>\n",
       "      <th>7</th>\n",
       "      <td>A Certain Shade Of Green</td>\n",
       "      <td>238</td>\n",
       "      <td>237</td>\n",
       "      <td>209</td>\n",
       "      <td>5</td>\n",
       "    </tr>\n",
       "    <tr>\n",
       "      <th>8</th>\n",
       "      <td>A Dime a Dozen</td>\n",
       "      <td>228</td>\n",
       "      <td>221</td>\n",
       "      <td>211</td>\n",
       "      <td>4</td>\n",
       "    </tr>\n",
       "    <tr>\n",
       "      <th>9</th>\n",
       "      <td>A Hint of Incremental Blue</td>\n",
       "      <td>137</td>\n",
       "      <td>103</td>\n",
       "      <td>69</td>\n",
       "      <td>5</td>\n",
       "    </tr>\n",
       "    <tr>\n",
       "      <th>10</th>\n",
       "      <td>A Pair of Brown Eyes</td>\n",
       "      <td>146</td>\n",
       "      <td>175</td>\n",
       "      <td>191</td>\n",
       "      <td>5</td>\n",
       "    </tr>\n",
       "  </tbody>\n",
       "</table>\n",
       "</div>"
      ],
      "text/plain": [
       "                           name    b    g    r  num_words\n",
       "2   20000 Leagues Under the Sea  112   25   25          5\n",
       "7      A Certain Shade Of Green  238  237  209          5\n",
       "8                A Dime a Dozen  228  221  211          4\n",
       "9    A Hint of Incremental Blue  137  103   69          5\n",
       "10         A Pair of Brown Eyes  146  175  191          5"
      ]
     },
     "execution_count": 61,
     "metadata": {},
     "output_type": "execute_result"
    }
   ],
   "source": [
    "# Some long color names\n",
    "big_colors[big_colors['num_words'] >= 4].head()"
   ]
  },
  {
   "cell_type": "code",
   "execution_count": null,
   "metadata": {},
   "outputs": [],
   "source": []
  }
 ],
 "metadata": {
  "kernelspec": {
   "display_name": "colornamer",
   "language": "python",
   "name": "colornamer"
  },
  "language_info": {
   "codemirror_mode": {
    "name": "ipython",
    "version": 3
   },
   "file_extension": ".py",
   "mimetype": "text/x-python",
   "name": "python",
   "nbconvert_exporter": "python",
   "pygments_lexer": "ipython3",
   "version": "3.7.3"
  }
 },
 "nbformat": 4,
 "nbformat_minor": 1
}
