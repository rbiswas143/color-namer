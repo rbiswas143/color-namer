{
 "cells": [
  {
   "cell_type": "code",
   "execution_count": 13,
   "metadata": {},
   "outputs": [],
   "source": [
    "import sys\n",
    "sys.path.append('..')\n",
    "\n",
    "import os\n",
    "import json\n",
    "\n",
    "import pandas as pd"
   ]
  },
  {
   "cell_type": "code",
   "execution_count": 14,
   "metadata": {},
   "outputs": [],
   "source": [
    "datasets_path = os.path.join('..', 'datasets')"
   ]
  },
  {
   "cell_type": "code",
   "execution_count": 77,
   "metadata": {},
   "outputs": [],
   "source": [
    "# Big color dataset\n",
    "dpath_big = os.path.join(datasets_path, 'color-dict-big.json')\n",
    "with open(dpath_big, 'r') as x:\n",
    "    big = json.load(x)"
   ]
  },
  {
   "cell_type": "code",
   "execution_count": 78,
   "metadata": {},
   "outputs": [],
   "source": [
    "# Standardize big color dataset\n",
    "big_colors = pd.io.json.json_normalize(list(big['colors']))\n",
    "big_colors = big_colors.drop(columns=['hex', 'luminance'])\n",
    "big_colors = big_colors.rename(columns={'rgb.r': 'r', 'rgb.g': 'g', 'rgb.b': 'b'})"
   ]
  },
  {
   "cell_type": "code",
   "execution_count": 79,
   "metadata": {},
   "outputs": [],
   "source": [
    "# Small color dataset\n",
    "dpath_small = os.path.join(datasets_path, 'color-dict-small.json')\n",
    "with open(dpath_small, 'r') as x:\n",
    "    small = json.load(x)"
   ]
  },
  {
   "cell_type": "code",
   "execution_count": 103,
   "metadata": {},
   "outputs": [],
   "source": [
    "# Standardize small color dataset\n",
    "small_colors = []\n",
    "for colorPage in small['colorPage']:\n",
    "    for entry in colorPage['colorEntry']:\n",
    "        small_colors.append(entry)\n",
    "small_colors = pd.io.json.json_normalize(list(small_colors))\n",
    "small_colors = small_colors.rename(columns={\n",
    "    'colorName': 'name', 'RGB8.red': 'r', \n",
    "    'RGB8.green': 'g', 'RGB8.blue': 'b'})\n",
    "small_colors['name'] = small_colors['name'].apply(lambda n: re.sub('\\(SW.*\\)', '', n).strip())"
   ]
  },
  {
   "cell_type": "code",
   "execution_count": null,
   "metadata": {},
   "outputs": [],
   "source": []
  }
 ],
 "metadata": {
  "kernelspec": {
   "display_name": "colornamer",
   "language": "python",
   "name": "colornamer"
  },
  "language_info": {
   "codemirror_mode": {
    "name": "ipython",
    "version": 3
   },
   "file_extension": ".py",
   "mimetype": "text/x-python",
   "name": "python",
   "nbconvert_exporter": "python",
   "pygments_lexer": "ipython3",
   "version": "3.7.3"
  }
 },
 "nbformat": 4,
 "nbformat_minor": 1
}
