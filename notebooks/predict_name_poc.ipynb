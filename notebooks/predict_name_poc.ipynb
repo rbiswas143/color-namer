{
 "cells": [
  {
   "cell_type": "code",
   "execution_count": 1,
   "metadata": {},
   "outputs": [],
   "source": [
    "%load_ext autoreload"
   ]
  },
  {
   "cell_type": "code",
   "execution_count": 2,
   "metadata": {},
   "outputs": [],
   "source": [
    "%autoreload\n",
    "\n",
    "import sys\n",
    "sys.path.append('..')\n",
    "\n",
    "import torch\n",
    "import torch.nn as nn\n",
    "import torch.nn.functional as F\n",
    "import torch.utils.data as D\n",
    "\n",
    "import numpy as np\n",
    "import matplotlib.pyplot as plt\n",
    "import matplotlib.patches as patches\n",
    "\n",
    "import color.data.dataset as color_dataset\n",
    "import color.utils.utils as utils"
   ]
  },
  {
   "cell_type": "code",
   "execution_count": 6,
   "metadata": {},
   "outputs": [
    {
     "name": "stdout",
     "output_type": "stream",
     "text": [
      "Loading colors dataset\n",
      "Loading embeddings\n",
      "Splitting dataset\n"
     ]
    }
   ],
   "source": [
    "# Get colors dataset\n",
    "dataset = color_dataset.Dataset(dataset='small', emb_len=50, normalize_rgb=True, var_seq_len=True, add_stop_word=True)"
   ]
  },
  {
   "cell_type": "code",
   "execution_count": 7,
   "metadata": {},
   "outputs": [],
   "source": [
    "class LSTMColorNamer(nn.Module):\n",
    "    \n",
    "    def __init__(self, **kwargs):\n",
    "        super(LSTMColorNamer, self).__init__()\n",
    "        self.params = {\n",
    "            'emb_dim': 50,\n",
    "            'hidden_dim': 50,\n",
    "            'num_layers': 1,\n",
    "            'dropout': 0,\n",
    "            'color_dim': 3,  # But don't change\n",
    "        }\n",
    "        self.params.update(kwargs)\n",
    "        \n",
    "        self.rgb2emb = nn.Linear(self.params['color_dim'], self.params['emb_dim'])\n",
    "        self.lstm = nn.LSTM(self.params['emb_dim'], self.params['hidden_dim'],\n",
    "                            num_layers=self.params['num_layers'], dropout=self.params['dropout'])\n",
    "        self.hidden2emb = nn.Linear(self.params['hidden_dim'], self.params['emb_dim'])\n",
    "        \n",
    "        \n",
    "    def forward(self, rgb, emb):\n",
    "        rgb2emb_out = self.rgb2emb(rgb)\n",
    "        rgb2emb_out = rgb2emb_out.reshape(1, *rgb2emb_out.shape)\n",
    "       \n",
    "        emb = torch.cat((rgb2emb_out, emb[:-1]), dim=0)     \n",
    "        lstm_out = self.lstm(emb)\n",
    "        \n",
    "        return self.hidden2emb(lstm_out[0])\n",
    "        \n",
    "    def gen_name(self, rgb):\n",
    "        rgb2emb_out = self.rgb2emb(rgb)\n",
    "        rgb2emb_out = rgb2emb_out.reshape(1, *rgb2emb_out.shape)\n",
    "        lstm_out, lstm_state = self.lstm(rgb2emb_out)\n",
    "        \n",
    "        while True:\n",
    "            emb = yield self.hidden2emb(lstm_out[0])\n",
    "            lstm_out, lstm_state = self.lstm(emb, lstm_state)"
   ]
  },
  {
   "cell_type": "code",
   "execution_count": 8,
   "metadata": {},
   "outputs": [
    {
     "name": "stdout",
     "output_type": "stream",
     "text": [
      "23150\n"
     ]
    },
    {
     "data": {
      "text/plain": [
       "torch.Size([4, 32, 50])"
      ]
     },
     "execution_count": 8,
     "metadata": {},
     "output_type": "execute_result"
    }
   ],
   "source": [
    "m = LSTMColorNamer()\n",
    "print(utils.get_trainable_params(m))\n",
    "rgb = torch.Tensor(32, 3)\n",
    "emb = torch.Tensor(4, 32, 50)\n",
    "m(rgb, emb).shape"
   ]
  },
  {
   "cell_type": "code",
   "execution_count": 9,
   "metadata": {},
   "outputs": [
    {
     "name": "stdout",
     "output_type": "stream",
     "text": [
      "Epoch Complete : 1\n",
      "Epoch Complete : 2\n",
      "Epoch Complete : 3\n",
      "Epoch Complete : 4\n",
      "Epoch Complete : 5\n",
      "Epoch Complete : 6\n",
      "Epoch Complete : 7\n",
      "Epoch Complete : 8\n",
      "Epoch Complete : 9\n",
      "Epoch Complete : 10\n",
      "Epoch Complete : 11\n",
      "Epoch Complete : 12\n",
      "Epoch Complete : 13\n",
      "Epoch Complete : 14\n",
      "Epoch Complete : 15\n",
      "Epoch Complete : 16\n",
      "Epoch Complete : 17\n",
      "Epoch Complete : 18\n",
      "Epoch Complete : 19\n",
      "Epoch Complete : 20\n",
      "Epoch Complete : 21\n",
      "Epoch Complete : 22\n",
      "Epoch Complete : 23\n",
      "Epoch Complete : 24\n",
      "Epoch Complete : 25\n",
      "Epoch Complete : 26\n",
      "Epoch Complete : 27\n",
      "Epoch Complete : 28\n",
      "Epoch Complete : 29\n",
      "Epoch Complete : 30\n"
     ]
    }
   ],
   "source": [
    "# Train\n",
    "num_epochs = 30\n",
    "model = LSTMColorNamer()\n",
    "optimizer = torch.optim.SGD(model.parameters(), lr=0.07)\n",
    "loss_fn = nn.MSELoss()\n",
    "losses = []\n",
    "\n",
    "for epoch in range(num_epochs):\n",
    "    tot_loss = 0\n",
    "    for i, (rgb, embedding, _) in enumerate(dataset.train_loader):\n",
    "        model.zero_grad()\n",
    "        embedding_preds = model(rgb, embedding)\n",
    "        loss = loss_fn(embedding, embedding_preds)\n",
    "        loss.backward()\n",
    "        tot_loss += loss.detach().numpy()\n",
    "        optimizer.step()\n",
    "    print('Epoch Complete : {}'.format(epoch+1))\n",
    "    losses.append(tot_loss)"
   ]
  },
  {
   "cell_type": "code",
   "execution_count": 10,
   "metadata": {},
   "outputs": [
    {
     "data": {
      "text/plain": [
       "[<matplotlib.lines.Line2D at 0x7f648236ef10>]"
      ]
     },
     "execution_count": 10,
     "metadata": {},
     "output_type": "execute_result"
    },
    {
     "data": {
      "image/png": "[encoded data removed]",
      "text/plain": [
       "<Figure size 432x288 with 1 Axes>"
      ]
     },
     "metadata": {
      "needs_background": "light"
     },
     "output_type": "display_data"
    }
   ],
   "source": [
    "# Plot loss per epoch (should be going down)\n",
    "losses = np.array(losses)\n",
    "plt.plot(np.arange(len(losses)), losses)"
   ]
  },
  {
   "cell_type": "code",
   "execution_count": 26,
   "metadata": {},
   "outputs": [],
   "source": [
    "# # Runs a new color name throught the model to predict its color\n",
    "# def predict(model, dataset, color_names):\n",
    "#     color_name_embs = [\n",
    "#         torch.tensor(color_dataset.to_embeddings(name, dataset.vocab_dict, dataset.embeddings)).float()\n",
    "#         for name in color_names\n",
    "#     ]\n",
    "#     with torch.no_grad():\n",
    "#         preds = []\n",
    "#         for emb in color_name_embs:\n",
    "#             pred_rgb = model(emb.view(1, emb.shape[0], -1))\n",
    "#             preds.append(torch.Tensor.tolist(pred_rgb.view(-1)))\n",
    "#         return preds\n",
    "# color_preds = predict(model, dataset, ['red'])\n",
    "# print(color_preds)\n",
    "# p = patches.Rectangle((0,0), 5, 5, color=color_preds[0])\n",
    "# fig,ax = plt.subplots(1)\n",
    "# ax.add_patch(p)"
   ]
  },
  {
   "cell_type": "code",
   "execution_count": null,
   "metadata": {},
   "outputs": [],
   "source": []
  },
  {
   "cell_type": "code",
   "execution_count": 11,
   "metadata": {},
   "outputs": [],
   "source": [
    "def predict_name(model, dataset, rgb, max_len=3, stop_word=False):\n",
    "    rgb = torch.FloatTensor(rgb).view(1, 3)\n",
    "    rgb = rgb / 256\n",
    "    \n",
    "    embs = torch.FloatTensor(dataset.embeddings)\n",
    "    embs_mag = torch.sqrt(torch.sum(embs*embs, dim=1)).reshape(-1)\n",
    "    \n",
    "    name = []\n",
    "    sims = []\n",
    "    \n",
    "    with torch.no_grad():\n",
    "        name_generator = model.gen_name(rgb)\n",
    "        next_emb = None\n",
    "        for i in range(max_len):\n",
    "            emb_pred = name_generator.send(next_emb).view(-1,1)\n",
    "            emb_pred_mag = torch.sqrt(torch.sum(emb_pred*emb_pred))\n",
    "            emb_dot = torch.mm(embs, emb_pred).view(-1)\n",
    "            embs_sim = emb_dot / (embs_mag * emb_pred_mag)\n",
    "        \n",
    "            nearest_idx = int(torch.argmax(embs_sim))\n",
    "            word, sim = dataset.vocab[nearest_idx], float(embs_sim[nearest_idx])\n",
    "            if stop_word and word == 'STOP_WORD':\n",
    "                print('Stop Word', i+1)\n",
    "                break\n",
    "            name.append(word)\n",
    "            sims.append(sim)\n",
    "            next_emb = dataset.embeddings[nearest_idx]\n",
    "            next_emb = torch.FloatTensor(next_emb).view(1,1,-1)\n",
    "        \n",
    "    return name, sims\n",
    "        \n",
    "        "
   ]
  },
  {
   "cell_type": "code",
   "execution_count": 21,
   "metadata": {},
   "outputs": [
    {
     "name": "stdout",
     "output_type": "stream",
     "text": [
      "Stop Word 3\n"
     ]
    },
    {
     "data": {
      "text/plain": [
       "(['pink', 'fruit'], [0.8256202936172485, 0.7854865193367004])"
      ]
     },
     "execution_count": 21,
     "metadata": {},
     "output_type": "execute_result"
    }
   ],
   "source": [
    "predict_name(model, dataset, (222, 10, 200), stop_word=True) # red"
   ]
  },
  {
   "cell_type": "code",
   "execution_count": null,
   "metadata": {},
   "outputs": [],
   "source": []
  }
 ],
 "metadata": {
  "kernelspec": {
   "display_name": "colornamer",
   "language": "python",
   "name": "colornamer"
  },
  "language_info": {
   "codemirror_mode": {
    "name": "ipython",
    "version": 3
   },
   "file_extension": ".py",
   "mimetype": "text/x-python",
   "name": "python",
   "nbconvert_exporter": "python",
   "pygments_lexer": "ipython3",
   "version": "3.7.4"
  }
 },
 "nbformat": 4,
 "nbformat_minor": 2
}
