{
 "cells": [
  {
   "cell_type": "code",
   "execution_count": 1,
   "metadata": {},
   "outputs": [],
   "source": [
    "%load_ext autoreload"
   ]
  },
  {
   "cell_type": "code",
   "execution_count": 2,
   "metadata": {},
   "outputs": [],
   "source": [
    "%autoreload\n",
    "\n",
    "import sys\n",
    "sys.path.append('..')\n",
    "\n",
    "import torch\n",
    "import torch.nn as nn\n",
    "import torch.nn.functional as F\n",
    "import torch.utils.data as D\n",
    "\n",
    "import numpy as np\n",
    "import matplotlib.pyplot as plt\n",
    "import matplotlib.patches as patches\n",
    "\n",
    "import color.data.dataset as color_dataset\n",
    "import color.utils.utils as utils"
   ]
  },
  {
   "cell_type": "code",
   "execution_count": 3,
   "metadata": {},
   "outputs": [
    {
     "name": "stdout",
     "output_type": "stream",
     "text": [
      "Loading colors dataset\n",
      "Loading embeddings\n",
      "Splitting dataset\n"
     ]
    }
   ],
   "source": [
    "# Get colors dataset\n",
    "dataset = color_dataset.Dataset(dataset='small', emb_len=50, add_stop_word=False, normalize_rgb=True)"
   ]
  },
  {
   "cell_type": "code",
   "execution_count": 6,
   "metadata": {},
   "outputs": [],
   "source": [
    "class NamePredictorSequenceModel(nn.Module):\n",
    "    \n",
    "    def __init__(self, **kwargs):\n",
    "        super(NamePredictorSequenceModel, self).__init__()\n",
    "        \n",
    "        # RNN model defaults\n",
    "        self.params = {\n",
    "            'name': 'rnn-name-predictor',  # Model name\n",
    "            'model_type': 'RNN',  # One of (RNN, LSTM)\n",
    "            'emb_dim': 50,  # Embedding dimensions\n",
    "            'color_dim': 3,  # Color space dimensions, But don't change\n",
    "            'hidden_dim': 50,  # No of neurons in each hidden layer\n",
    "            'num_layers': 2,  # No of hidden layers\n",
    "            'dropout': 0,  # Dropout factor\n",
    "            'nonlinearity': 'relu'  # Only for RNN: Activation function: tanh, relu\n",
    "        }\n",
    "        utils.dict_update_existing(self.params, kwargs)\n",
    "\n",
    "        # A linear layer converts RGB value to a vector of the same length as the embeddings\n",
    "        self.rgb2emb = nn.Linear(self.params['color_dim'], self.params['emb_dim'])\n",
    "\n",
    "        # RNN Layer\n",
    "        if self.params['model_type'] == 'RNN':\n",
    "            self.rnn = nn.RNN(\n",
    "                self.params['emb_dim'], self.params['hidden_dim'], num_layers=self.params['num_layers'],\n",
    "                dropout=self.params['dropout'], nonlinearity=self.params['nonlinearity']\n",
    "            )\n",
    "        else:\n",
    "            self.rnn = nn.LSTM(\n",
    "                self.params['emb_dim'], self.params['hidden_dim'],\n",
    "                num_layers=self.params['num_layers'], dropout=self.params['dropout']\n",
    "            )\n",
    "\n",
    "        # Final linear layer converts RNN output to output embeddings\n",
    "        self.hidden2emb = nn.Linear(self.params['hidden_dim'], self.params['emb_dim'])\n",
    "\n",
    "    def forward(self, rgb, emb):\n",
    "        # Linear layer resizes rgb vector\n",
    "        rgb2emb_out = self.rgb2emb(rgb)\n",
    "        rgb2emb_out = rgb2emb_out.reshape(1, *rgb2emb_out.shape)  # Reshape to a single sequence embedding\n",
    "\n",
    "        # Prepare LSTM inputs\n",
    "        # First time step input is the resized RGB vector, wheras the last word's embedding is not fed as input\n",
    "        emb = torch.cat((rgb2emb_out, emb[:-1]), dim=0)\n",
    "\n",
    "        # Process color name with RNN\n",
    "        rnn_out, _ = self.rnn(emb)\n",
    "\n",
    "        # Convert RNN output to output embedding\n",
    "        return self.hidden2emb(rnn_out)\n",
    "\n",
    "    def gen_name(self, rgb):\n",
    "        \"\"\"This function can be used as a co-routine to generate color name predictions\"\"\"\n",
    "\n",
    "        # Linear layer resizes RGB vector\n",
    "        rgb2emb_out = self.rgb2emb(rgb)\n",
    "        rgb2emb_out = rgb2emb_out.reshape(1, *rgb2emb_out.shape)  # Reshape to a single sequence embedding\n",
    "\n",
    "        # First time step - process transformed RGB vector\n",
    "        rnn_out, rnn_state = self.rnn(rgb2emb_out)\n",
    "\n",
    "        # The following co-routine works towards generating color names\n",
    "        # At each iteration a new approximate word embedding is predicted and returned\n",
    "        # An exact word embedding is received and the sequence processing continues\n",
    "        while True:\n",
    "            # Process RNN output with final linear layer and return the output embedding and RNN state\n",
    "            # The received input is a tuples of computed word embedding and RNN state\n",
    "            emb, rnn_state = yield self.hidden2emb(rnn_out), rnn_state\n",
    "\n",
    "            # Process embedding with RNN\n",
    "            rnn_out, rnn_state = self.rnn(emb, rnn_state)"
   ]
  },
  {
   "cell_type": "code",
   "execution_count": 7,
   "metadata": {},
   "outputs": [
    {
     "name": "stdout",
     "output_type": "stream",
     "text": [
      "12950\n"
     ]
    },
    {
     "data": {
      "text/plain": [
       "torch.Size([4, 32, 50])"
      ]
     },
     "execution_count": 7,
     "metadata": {},
     "output_type": "execute_result"
    }
   ],
   "source": [
    "m = NamePredictorSequenceModel()\n",
    "print(utils.get_trainable_params(m))\n",
    "rgb = torch.Tensor(32, 3)\n",
    "emb = torch.Tensor(4, 32, 50)\n",
    "m(rgb, emb).shape"
   ]
  },
  {
   "cell_type": "code",
   "execution_count": 8,
   "metadata": {},
   "outputs": [
    {
     "name": "stdout",
     "output_type": "stream",
     "text": [
      "Epoch Complete : 1\n",
      "Epoch Complete : 2\n",
      "Epoch Complete : 3\n",
      "Epoch Complete : 4\n",
      "Epoch Complete : 5\n"
     ]
    }
   ],
   "source": [
    "# Model Training\n",
    "num_epochs = 5\n",
    "model = NamePredictorSequenceModel().double()\n",
    "optimizer = torch.optim.SGD(model.parameters(), lr=0.07)\n",
    "loss_fn = nn.MSELoss()\n",
    "losses = []\n",
    "\n",
    "# Initialize train loader\n",
    "train_loader = color_dataset.DataLoader(\n",
    "    dataset.train_set,\n",
    "    seq_len_first=True,\n",
    "    use_cuda = False\n",
    ")\n",
    "\n",
    "# Train\n",
    "for epoch in range(num_epochs):\n",
    "    tot_loss = 0\n",
    "    for i, (rgb, embedding, _) in enumerate(train_loader):\n",
    "        model.zero_grad()\n",
    "        embedding_preds = model(rgb, embedding)\n",
    "        loss = loss_fn(embedding, embedding_preds)\n",
    "        loss.backward()\n",
    "        tot_loss += loss.detach().numpy()\n",
    "        optimizer.step()\n",
    "    print('Epoch Complete : {}'.format(epoch+1))\n",
    "    losses.append(tot_loss)"
   ]
  },
  {
   "cell_type": "code",
   "execution_count": 9,
   "metadata": {},
   "outputs": [
    {
     "data": {
      "text/plain": [
       "[<matplotlib.lines.Line2D at 0xba1e39ab48>]"
      ]
     },
     "execution_count": 9,
     "metadata": {},
     "output_type": "execute_result"
    },
    {
     "data": {
      "image/png": "[encoded data removed]",
      "text/plain": [
       "<Figure size 432x288 with 1 Axes>"
      ]
     },
     "metadata": {
      "needs_background": "light"
     },
     "output_type": "display_data"
    }
   ],
   "source": [
    "# Plot loss per epoch (should be going down)\n",
    "losses = np.array(losses)\n",
    "plt.plot(np.arange(len(losses)), losses)"
   ]
  },
  {
   "cell_type": "code",
   "execution_count": 11,
   "metadata": {},
   "outputs": [],
   "source": [
    "# Compute norm of each embedding vector\n",
    "embs = torch.DoubleTensor(dataset.embeddings)\n",
    "embs_mag = torch.sqrt(torch.sum(embs*embs, dim=1)).reshape(-1)"
   ]
  },
  {
   "cell_type": "code",
   "execution_count": 12,
   "metadata": {},
   "outputs": [
    {
     "name": "stdout",
     "output_type": "stream",
     "text": [
      "Rank : 1\t-\tgreen small green small green small\t-\tSimilarity : 0.8139081753249036\n",
      "Rank : 2\t-\tgreen small green small green water\t-\tSimilarity : 0.8119619799905703\n",
      "Rank : 3\t-\tgreen small green small green little\t-\tSimilarity : 0.8078149606886339\n"
     ]
    }
   ],
   "source": [
    "class NamePrediction:\n",
    "    \n",
    "    def __init__(self, words, last_emb, similarity):\n",
    "        self.words = words\n",
    "        self.last_emb = last_emb\n",
    "        self.similarity = similarity\n",
    "        self.emb_pred = None\n",
    "        self.nn_state = None\n",
    "\n",
    "def predict_names(model, dataset, rgb, num_names=3, max_len=6, stop_word=False, normalize_rgb=True):\n",
    "    \"\"\"Predicts a number of names for the specified color RGB value\"\"\"\n",
    "    \n",
    "    # Covert RGB value to to input tensor and optionally normalize it\n",
    "    rgb = torch.DoubleTensor(rgb).view(1, 3)\n",
    "    if normalize_rgb:\n",
    "        rgb = rgb / 256\n",
    "    \n",
    "    with torch.no_grad():\n",
    "        \n",
    "        # Create a generator instance\n",
    "        name_generator = model.gen_name(rgb)\n",
    "        \n",
    "        # A list of selected word embeddings that will be sent to the generator\n",
    "        # Before the first time step, no predictions exist\n",
    "        predictions = [NamePrediction([], None, 0)]\n",
    "        predictions[0].emb_pred, predictions[0].nn_state = next(name_generator)\n",
    "        \n",
    "        for i in range(max_len):\n",
    "            \n",
    "            pred_candidates = []\n",
    "            for pred in predictions:\n",
    "                \n",
    "                # emb_pred = name_generator.send(next_emb).view(-1,1)\n",
    "                emb_pred_mag = torch.sqrt(torch.sum(pred.emb_pred*pred.emb_pred))\n",
    "                emb_dot = torch.mm(embs, pred.emb_pred.view(-1,1)).view(-1)\n",
    "                embs_sim = emb_dot / (embs_mag * emb_pred_mag)\n",
    "                \n",
    "                _, top_idx = torch.topk(embs_sim, num_names)\n",
    "                for idx in top_idx.tolist():\n",
    "                    \n",
    "                    curr_words = pred.words[:]\n",
    "                    curr_words.append(dataset.vocab[idx])\n",
    "                    \n",
    "                    last_emb = embs[idx].view(1, 1, -1)\n",
    "                    sim = (embs_sim[idx] + (len(pred.words)*pred.similarity)) / len(curr_words)\n",
    "                    pred_candidates.append(NamePrediction(curr_words, last_emb, sim))\n",
    "            \n",
    "            pred_candidates.sort(key=lambda pred: pred.similarity, reverse=True)\n",
    "            predictions = pred_candidates[:num_names]\n",
    "            \n",
    "            for pred in predictions:\n",
    "                pred.emb_pred, pred.nn_state = name_generator.send((pred.last_emb, pred.nn_state))\n",
    "        \n",
    "        return predictions\n",
    "\n",
    "predictions = predict_names(model, dataset, (0, 0, 0))\n",
    "for i, pred in enumerate(predictions):\n",
    "    print('Rank : {}\\t-\\t{}\\t-\\tSimilarity : {}'.format(\n",
    "        i+1,\n",
    "        ' '.join(pred.words),\n",
    "        pred.similarity\n",
    "    ))"
   ]
  },
  {
   "cell_type": "code",
   "execution_count": null,
   "metadata": {},
   "outputs": [],
   "source": []
  }
 ],
 "metadata": {
  "kernelspec": {
   "display_name": "Python 3",
   "language": "python",
   "name": "python3"
  },
  "language_info": {
   "codemirror_mode": {
    "name": "ipython",
    "version": 3
   },
   "file_extension": ".py",
   "mimetype": "text/x-python",
   "name": "python",
   "nbconvert_exporter": "python",
   "pygments_lexer": "ipython3",
   "version": "3.7.5"
  }
 },
 "nbformat": 4,
 "nbformat_minor": 2
}
