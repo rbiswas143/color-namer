{
 "cells": [
  {
   "cell_type": "code",
   "execution_count": 1,
   "metadata": {},
   "outputs": [],
   "source": [
    "%load_ext autoreload"
   ]
  },
  {
   "cell_type": "code",
   "execution_count": null,
   "metadata": {},
   "outputs": [],
   "source": [
    "%autoreload\n",
    "\n",
    "import sys\n",
    "sys.path.append('..')\n",
    "\n",
    "import torch\n",
    "import torch.nn as nn\n",
    "import torch.nn.functional as F\n",
    "import torch.utils.data as D\n",
    "\n",
    "import numpy as np\n",
    "import matplotlib.pyplot as plt\n",
    "import matplotlib.patches as patches\n",
    "\n",
    "import color.data.dataset as color_dataset\n",
    "import color.utils.utils as utils"
   ]
  },
  {
   "cell_type": "code",
   "execution_count": null,
   "metadata": {},
   "outputs": [],
   "source": [
    "# Get colors dataset\n",
    "dataset = color_dataset.Dataset(dataset='small', emb_len=50, normalize_rgb=True)"
   ]
  },
  {
   "cell_type": "code",
   "execution_count": 3,
   "metadata": {},
   "outputs": [],
   "source": [
    "class ColorPredictorCNN(nn.Module):\n",
    "\n",
    "    def __init__(self, **kwargs):\n",
    "        super(ColorPredictorCNN, self).__init__()\n",
    "        self.params = {\n",
    "            'emb_dim': 300,\n",
    "            'num_emb': 3,\n",
    "            'color_dim': 3,\n",
    "            'num_conv_layers': 2, \n",
    "            'conv_kernel_size': 5,\n",
    "            'conv_stride': 1, \n",
    "            'pool_kernel_size': 2,\n",
    "            'pool_stride': 2,\n",
    "            'num_linear_layers': 2,\n",
    "            'linear_size_dim': 2\n",
    "        }\n",
    "        self.params.update(kwargs)\n",
    "\n",
    "        self.conv_layers = []\n",
    "        self.pool_layers = []\n",
    "        inp_len, inp_channels, out_channels = (\n",
    "            self.params['emb_dim'], self.params['num_emb'], self.params['num_emb'] * 2)\n",
    "        for l in range(self.params['num_conv_layers']):\n",
    "            conv = nn.Conv1d(inp_channels, out_channels,\n",
    "                             kernel_size=self.params['conv_kernel_size'],\n",
    "                             stride=self.params['conv_stride'])\n",
    "            self.add_module('cnn{}'.format(l + 1), conv)\n",
    "            self.conv_layers.append(conv)\n",
    "            inp_len = int((inp_len - self.params['conv_kernel_size']) / self.params['conv_stride']) + 1\n",
    "            inp_channels, out_channels = inp_channels*2, out_channels*2\n",
    "            assert inp_len > 1\n",
    "            \n",
    "            pool = nn.MaxPool1d(self.params['pool_kernel_size'], stride=self.params['pool_stride'])\n",
    "            self.add_module('pool{}'.format(l + 1), pool)\n",
    "            self.pool_layers.append(pool)\n",
    "            inp_len = int((inp_len - self.params['pool_kernel_size']) / self.params['pool_stride']) + 1\n",
    "            assert inp_len > 1\n",
    "        \n",
    "        self.linear_layers = []\n",
    "        in_feature = inp_len*inp_channels\n",
    "        out_feature = round(in_feature / self.params['linear_size_dim'])\n",
    "        for l in range(self.params['num_linear_layers']):\n",
    "            assert out_feature >= 3\n",
    "            linear = nn.Linear(in_feature, out_feature)\n",
    "            self.add_module('linear{}'.format(l + 1), linear)\n",
    "            self.linear_layers.append(linear)\n",
    "            in_feature, out_feature = out_feature, round(out_feature/self.params['linear_size_dim'])\n",
    "        out_feature = in_feature\n",
    "        \n",
    "        self.final_linear = nn.Linear(out_feature, self.params['color_dim'])\n",
    "    \n",
    "    def forward(self, emb):\n",
    "        pool_out = emb\n",
    "        for conv, pool in zip(self.conv_layers, self.pool_layers):\n",
    "            conv_out = conv(pool_out)\n",
    "            pool_out = pool(conv_out)\n",
    "        linear_in = pool_out.view(pool_out.shape[0], -1)\n",
    "        for linear in self.linear_layers:\n",
    "            linear_in = linear(linear_in)\n",
    "        linear_out = self.final_linear(linear_in)\n",
    "        return torch.sigmoid(linear_out)\n"
   ]
  },
  {
   "cell_type": "code",
   "execution_count": 4,
   "metadata": {},
   "outputs": [
    {
     "name": "stdout",
     "output_type": "stream",
     "text": [
      "ColorPredictorCNN(\n",
      "  (cnn1): Conv1d(3, 6, kernel_size=(5,), stride=(1,))\n",
      "  (pool1): MaxPool1d(kernel_size=2, stride=2, padding=0, dilation=1, ceil_mode=False)\n",
      "  (cnn2): Conv1d(6, 12, kernel_size=(5,), stride=(1,))\n",
      "  (pool2): MaxPool1d(kernel_size=2, stride=2, padding=0, dilation=1, ceil_mode=False)\n",
      "  (linear1): Linear(in_features=864, out_features=432, bias=True)\n",
      "  (linear2): Linear(in_features=432, out_features=216, bias=True)\n",
      "  (final_linear): Linear(in_features=216, out_features=3, bias=True)\n",
      ")\n",
      "468327\n"
     ]
    },
    {
     "data": {
      "text/plain": [
       "torch.Size([32, 3])"
      ]
     },
     "execution_count": 4,
     "metadata": {},
     "output_type": "execute_result"
    }
   ],
   "source": [
    "#Just checking\n",
    "m = ColorPredictorCNN()\n",
    "print(m)\n",
    "print(utils.get_trainable_params(m))\n",
    "t = torch.Tensor(32,3,300)\n",
    "m(t).shape"
   ]
  },
  {
   "cell_type": "code",
   "execution_count": 5,
   "metadata": {},
   "outputs": [],
   "source": [
    "# LSTM model with all hyper-parameters\n",
    "class LSTMColorGenerator(nn.Module):\n",
    "\n",
    "    def __init__(self, **kwargs):\n",
    "        super(LSTMColorGenerator, self).__init__()\n",
    "        self.params = {\n",
    "            'emb_dim': 50,\n",
    "            'hidden_dim': 50,\n",
    "            'num_layers': 1,\n",
    "            'dropout': 0,\n",
    "            'color_dim': 3,  # But don't change\n",
    "        }\n",
    "        self.params.update(kwargs)\n",
    "\n",
    "        self.lstm = nn.LSTM(self.params['emb_dim'], self.params['hidden_dim'],\n",
    "                            num_layers=self.params['num_layers'], dropout=self.params['dropout'])\n",
    "        self.linear = nn.Linear(self.params['hidden_dim'], self.params['color_dim'])\n",
    "\n",
    "    def forward(self, emb):\n",
    "        emb = emb.view(emb.shape[1], emb.shape[0], -1)\n",
    "        lstm_out, _ = self.lstm(emb)\n",
    "        final_out = lstm_out[-1]\n",
    "        linear_out = self.linear(final_out)\n",
    "        return torch.sigmoid(linear_out)"
   ]
  },
  {
   "cell_type": "code",
   "execution_count": 6,
   "metadata": {},
   "outputs": [
    {
     "name": "stdout",
     "output_type": "stream",
     "text": [
      "20553\n"
     ]
    },
    {
     "data": {
      "text/plain": [
       "torch.Size([32, 3])"
      ]
     },
     "execution_count": 6,
     "metadata": {},
     "output_type": "execute_result"
    }
   ],
   "source": [
    "m = LSTMColorGenerator()\n",
    "print(utils.get_trainable_params(m))\n",
    "t = torch.Tensor(32,3,50)\n",
    "m(t).shape"
   ]
  },
  {
   "cell_type": "code",
   "execution_count": 7,
   "metadata": {},
   "outputs": [
    {
     "name": "stdout",
     "output_type": "stream",
     "text": [
      "Epoch Complete : 1\n",
      "Epoch Complete : 2\n",
      "Epoch Complete : 3\n",
      "Epoch Complete : 4\n",
      "Epoch Complete : 5\n",
      "Epoch Complete : 6\n",
      "Epoch Complete : 7\n",
      "Epoch Complete : 8\n",
      "Epoch Complete : 9\n",
      "Epoch Complete : 10\n",
      "Epoch Complete : 11\n",
      "Epoch Complete : 12\n",
      "Epoch Complete : 13\n",
      "Epoch Complete : 14\n",
      "Epoch Complete : 15\n",
      "Epoch Complete : 16\n",
      "Epoch Complete : 17\n",
      "Epoch Complete : 18\n",
      "Epoch Complete : 19\n",
      "Epoch Complete : 20\n",
      "Epoch Complete : 21\n",
      "Epoch Complete : 22\n",
      "Epoch Complete : 23\n",
      "Epoch Complete : 24\n",
      "Epoch Complete : 25\n",
      "Epoch Complete : 26\n",
      "Epoch Complete : 27\n",
      "Epoch Complete : 28\n",
      "Epoch Complete : 29\n",
      "Epoch Complete : 30\n",
      "Epoch Complete : 31\n",
      "Epoch Complete : 32\n",
      "Epoch Complete : 33\n",
      "Epoch Complete : 34\n",
      "Epoch Complete : 35\n",
      "Epoch Complete : 36\n",
      "Epoch Complete : 37\n",
      "Epoch Complete : 38\n",
      "Epoch Complete : 39\n",
      "Epoch Complete : 40\n",
      "Epoch Complete : 41\n",
      "Epoch Complete : 42\n",
      "Epoch Complete : 43\n",
      "Epoch Complete : 44\n",
      "Epoch Complete : 45\n",
      "Epoch Complete : 46\n",
      "Epoch Complete : 47\n",
      "Epoch Complete : 48\n",
      "Epoch Complete : 49\n",
      "Epoch Complete : 50\n"
     ]
    }
   ],
   "source": [
    "# Train\n",
    "num_epochs = 50\n",
    "model = LSTMColorGenerator()\n",
    "loss_fn = nn.MSELoss()\n",
    "optimizer = torch.optim.SGD(model.parameters(), lr=0.1)\n",
    "losses = []\n",
    "\n",
    "for epoch in range(num_epochs):\n",
    "    for i, (rgb, embedding, _) in enumerate(dataset.train_loader):\n",
    "        model.zero_grad()\n",
    "        rgb_preds = model(embedding)\n",
    "        loss = loss_fn(rgb, rgb_preds)\n",
    "        loss.backward()\n",
    "        optimizer.step()\n",
    "    print('Epoch Complete : {}'.format(epoch+1))\n",
    "    losses.append(loss.detach().numpy())"
   ]
  },
  {
   "cell_type": "code",
   "execution_count": 8,
   "metadata": {},
   "outputs": [
    {
     "data": {
      "text/plain": [
       "[<matplotlib.lines.Line2D at 0x7fb9b43be6a0>]"
      ]
     },
     "execution_count": 8,
     "metadata": {},
     "output_type": "execute_result"
    },
    {
     "data": {
      "image/png": "[encoded data removed]",
      "text/plain": [
       "<Figure size 432x288 with 1 Axes>"
      ]
     },
     "metadata": {
      "needs_background": "light"
     },
     "output_type": "display_data"
    }
   ],
   "source": [
    "# Plot loss per iteration (should be going down)\n",
    "losses = np.array(losses)\n",
    "plt.plot(np.arange(len(losses)), losses)"
   ]
  },
  {
   "cell_type": "code",
   "execution_count": 10,
   "metadata": {},
   "outputs": [
    {
     "name": "stdout",
     "output_type": "stream",
     "text": [
      "[[0.6863511800765991, 0.38330399990081787, 0.2786114513874054]]\n"
     ]
    },
    {
     "data": {
      "text/plain": [
       "<matplotlib.patches.Rectangle at 0x7fb932cb0f60>"
      ]
     },
     "execution_count": 10,
     "metadata": {},
     "output_type": "execute_result"
    },
    {
     "data": {
      "image/png": "[encoded data removed]",
      "text/plain": [
       "<Figure size 432x288 with 1 Axes>"
      ]
     },
     "metadata": {
      "needs_background": "light"
     },
     "output_type": "display_data"
    }
   ],
   "source": [
    "# Runs a new color name throught the model to predict its color\n",
    "def predict(model, dataset, color_names):\n",
    "    color_name_embs = [\n",
    "        torch.tensor(color_dataset.to_embeddings(name, dataset.vocab_dict, dataset.embeddings)).float()\n",
    "        for name in color_names\n",
    "    ]\n",
    "    with torch.no_grad():\n",
    "        preds = []\n",
    "        for emb in color_name_embs:\n",
    "            pred_rgb = model(emb.view(1, emb.shape[0], -1))\n",
    "            preds.append(torch.Tensor.tolist(pred_rgb.view(-1)))\n",
    "        return preds\n",
    "color_preds = predict(model, dataset, ['red'])\n",
    "print(color_preds)\n",
    "p = patches.Rectangle((0,0), 5, 5, color=color_preds[0])\n",
    "fig,ax = plt.subplots(1)\n",
    "ax.add_patch(p)"
   ]
  },
  {
   "cell_type": "code",
   "execution_count": 18,
   "metadata": {},
   "outputs": [],
   "source": [
    "def pred_and_plot(model, dataset, color_names):\n",
    "    fig = plt.figure(figsize=(15, 2))\n",
    "    ax = fig.add_subplot(111)\n",
    "    total_width = 400\n",
    "    total_height = 200\n",
    "    col_width = total_width / len(color_names)\n",
    "    for i, (cn, pred) in enumerate(zip(color_names, predict(model, dataset, color_names))):\n",
    "        p = patches.Rectangle((col_width*i,0), total_width, total_height, color=pred)\n",
    "        ax.add_patch(p)\n",
    "        ax.text(col_width*(i+0.25),total_height/2, cn)\n",
    "    plt.xlim([0, total_width])\n",
    "    plt.ylim([0, total_height])\n"
   ]
  },
  {
   "cell_type": "code",
   "execution_count": 19,
   "metadata": {},
   "outputs": [
    {
     "data": {
      "image/png": "[encoded data removed]",
      "text/plain": [
       "<Figure size 1080x144 with 1 Axes>"
      ]
     },
     "metadata": {
      "needs_background": "light"
     },
     "output_type": "display_data"
    }
   ],
   "source": [
    "pred_and_plot(model, dataset, ['red', 'blue', 'green', 'yellow', 'orange', 'purple', 'black', 'white'])\n"
   ]
  },
  {
   "cell_type": "code",
   "execution_count": 21,
   "metadata": {},
   "outputs": [
    {
     "data": {
      "image/png": "[encoded data removed]",
      "text/plain": [
       "<Figure size 1080x144 with 1 Axes>"
      ]
     },
     "metadata": {
      "needs_background": "light"
     },
     "output_type": "display_data"
    }
   ],
   "source": [
    "pred_and_plot(model, dataset, ['sky', 'sea', 'ocean', 'river'])"
   ]
  },
  {
   "cell_type": "code",
   "execution_count": 22,
   "metadata": {},
   "outputs": [
    {
     "data": {
      "image/png": "[encoded data removed]",
      "text/plain": [
       "<Figure size 1080x144 with 1 Axes>"
      ]
     },
     "metadata": {
      "needs_background": "light"
     },
     "output_type": "display_data"
    }
   ],
   "source": [
    "pred_and_plot(model, dataset, ['red', 'dark red', 'blood', 'apple'])"
   ]
  },
  {
   "cell_type": "code",
   "execution_count": 23,
   "metadata": {},
   "outputs": [
    {
     "data": {
      "image/png": "[encoded data removed]",
      "text/plain": [
       "<Figure size 1080x144 with 1 Axes>"
      ]
     },
     "metadata": {
      "needs_background": "light"
     },
     "output_type": "display_data"
    }
   ],
   "source": [
    "pred_and_plot(model, dataset, ['blue', 'dark blue', 'light gray' ,'lemon green', 'ocean'])"
   ]
  },
  {
   "cell_type": "code",
   "execution_count": null,
   "metadata": {},
   "outputs": [],
   "source": []
  }
 ],
 "metadata": {
  "kernelspec": {
   "display_name": "Python 3",
   "language": "python",
   "name": "python3"
  },
  "language_info": {
   "codemirror_mode": {
    "name": "ipython",
    "version": 3
   },
   "file_extension": ".py",
   "mimetype": "text/x-python",
   "name": "python",
   "nbconvert_exporter": "python",
   "pygments_lexer": "ipython3",
   "version": "3.7.5"
  }
 },
 "nbformat": 4,
 "nbformat_minor": 2
}
