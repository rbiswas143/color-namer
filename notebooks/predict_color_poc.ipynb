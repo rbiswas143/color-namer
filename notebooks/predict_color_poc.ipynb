{
 "cells": [
  {
   "cell_type": "code",
   "execution_count": 1,
   "metadata": {},
   "outputs": [],
   "source": [
    "%load_ext autoreload"
   ]
  },
  {
   "cell_type": "code",
   "execution_count": 2,
   "metadata": {},
   "outputs": [],
   "source": [
    "%autoreload\n",
    "\n",
    "import sys\n",
    "sys.path.append('..')\n",
    "\n",
    "import torch\n",
    "import torch.nn as nn\n",
    "import torch.nn.functional as F\n",
    "import torch.utils.data as D\n",
    "\n",
    "import numpy as np\n",
    "import matplotlib.pyplot as plt\n",
    "import matplotlib.patches as patches\n",
    "\n",
    "import color.data.dataset as color_dataset\n",
    "import color.utils.utils as utils"
   ]
  },
  {
   "cell_type": "code",
   "execution_count": 3,
   "metadata": {},
   "outputs": [
    {
     "name": "stdout",
     "output_type": "stream",
     "text": [
      "Loading colors dataset\n",
      "Loading embeddings\n",
      "Padding embeddings for color names\n",
      "Splitting dataset\n"
     ]
    }
   ],
   "source": [
    "# Get colors dataset\n",
    "dataset = color_dataset.Dataset(dataset='small', emb_len=50, max_words=3, pad_len=3)"
   ]
  },
  {
   "cell_type": "code",
   "execution_count": 4,
   "metadata": {},
   "outputs": [],
   "source": [
    "class ColorPredictorCNN(nn.Module):\n",
    "\n",
    "    def __init__(self, **kwargs):\n",
    "        super(ColorPredictorCNN, self).__init__()\n",
    "        self.params = {\n",
    "            'emb_dim': 50,\n",
    "            'num_emb': 3,\n",
    "            'color_dim': 3,\n",
    "            'num_conv_layers': 2, \n",
    "            'conv_kernel_size': 5,\n",
    "            'conv_stride': 1, \n",
    "            'pool_kernel_size': 2,\n",
    "            'pool_stride': 2,\n",
    "            'num_linear_layers': 2,\n",
    "            'linear_size_dim': 2\n",
    "        }\n",
    "        self.params.update(kwargs)\n",
    "\n",
    "        self.conv_layers = []\n",
    "        self.pool_layers = []\n",
    "        inp_len, inp_channels, out_channels = (\n",
    "            self.params['emb_dim'], self.params['num_emb'], self.params['num_emb'] * 2)\n",
    "        for l in range(self.params['num_conv_layers']):\n",
    "            conv = nn.Conv1d(inp_channels, out_channels,\n",
    "                             kernel_size=self.params['conv_kernel_size'],\n",
    "                             stride=self.params['conv_stride'])\n",
    "            self.add_module('cnn{}'.format(l + 1), conv)\n",
    "            self.conv_layers.append(conv)\n",
    "            inp_len = int((inp_len - self.params['conv_kernel_size']) / self.params['conv_stride']) + 1\n",
    "            inp_channels, out_channels = inp_channels*2, out_channels*2\n",
    "            assert inp_len > 1\n",
    "            \n",
    "            pool = nn.MaxPool1d(self.params['pool_kernel_size'], stride=self.params['pool_stride'])\n",
    "            self.add_module('pool{}'.format(l + 1), pool)\n",
    "            self.pool_layers.append(pool)\n",
    "            inp_len = int((inp_len - self.params['pool_kernel_size']) / self.params['pool_stride']) + 1\n",
    "            assert inp_len > 1\n",
    "        \n",
    "        self.linear_layers = []\n",
    "        in_feature = inp_len*inp_channels\n",
    "        out_feature = round(in_feature / self.params['linear_size_dim'])\n",
    "        for l in range(self.params['num_linear_layers']):\n",
    "            assert out_feature >= 3\n",
    "            linear = nn.Linear(in_feature, out_feature)\n",
    "            self.add_module('linear{}'.format(l + 1), linear)\n",
    "            self.linear_layers.append(linear)\n",
    "            in_feature, out_feature = out_feature, round(out_feature/self.params['linear_size_dim'])\n",
    "        out_feature = in_feature\n",
    "        \n",
    "        self.final_linear = nn.Linear(out_feature, self.params['color_dim'])\n",
    "    \n",
    "    def forward(self, emb):\n",
    "        pool_out = emb\n",
    "        for conv, pool in zip(self.conv_layers, self.pool_layers):\n",
    "            conv_out = conv(pool_out)\n",
    "            pool_out = pool(conv_out)\n",
    "        linear_in = pool_out.view(pool_out.shape[0], -1)\n",
    "        for linear in self.linear_layers:\n",
    "            linear_in = linear(linear_in)\n",
    "        linear_out = self.final_linear(linear_in)\n",
    "        return torch.sigmoid(linear_out)\n"
   ]
  },
  {
   "cell_type": "code",
   "execution_count": 5,
   "metadata": {},
   "outputs": [
    {
     "name": "stdout",
     "output_type": "stream",
     "text": [
      "ColorPredictorCNN(\n",
      "  (cnn1): Conv1d(3, 6, kernel_size=(5,), stride=(1,))\n",
      "  (pool1): MaxPool1d(kernel_size=2, stride=2, padding=0, dilation=1, ceil_mode=False)\n",
      "  (cnn2): Conv1d(6, 12, kernel_size=(5,), stride=(1,))\n",
      "  (pool2): MaxPool1d(kernel_size=2, stride=2, padding=0, dilation=1, ceil_mode=False)\n",
      "  (linear1): Linear(in_features=108, out_features=54, bias=True)\n",
      "  (linear2): Linear(in_features=54, out_features=27, bias=True)\n",
      "  (final_linear): Linear(in_features=27, out_features=3, bias=True)\n",
      ")\n",
      "7923\n"
     ]
    },
    {
     "data": {
      "text/plain": [
       "torch.Size([32, 3])"
      ]
     },
     "execution_count": 5,
     "metadata": {},
     "output_type": "execute_result"
    }
   ],
   "source": [
    "# Just checking\n",
    "m = ColorPredictorCNN()\n",
    "print(m)\n",
    "print(utils.get_trainable_params(m))\n",
    "t = torch.Tensor(32,3,50)\n",
    "m(t).shape"
   ]
  },
  {
   "cell_type": "code",
   "execution_count": 13,
   "metadata": {},
   "outputs": [],
   "source": [
    "# LSTM model with all hyper-parameters\n",
    "class ColorPredictorSequenceModel(nn.Module):\n",
    "\n",
    "    def __init__(self, **kwargs):\n",
    "        super(ColorPredictorSequenceModel, self).__init__()\n",
    "        \n",
    "        # RNN model defaults\n",
    "        self.params = {\n",
    "            'name': 'rnn-name-predictor',  # Model name\n",
    "            'model_type': 'RNN',  # One of (RNN, LSTM)\n",
    "            'emb_dim': 50,  # Embedding dimensions\n",
    "            'color_dim': 3,  # Color space dimensions, But don't change\n",
    "            'hidden_dim': 50,  # No of neurons in each hidden layer\n",
    "            'num_layers': 2,  # No of hidden layers\n",
    "            'dropout': 0,  # Dropout factor\n",
    "            'nonlinearity': 'relu'  # Only for RNN: Activation function: tanh, relu\n",
    "        }\n",
    "        utils.dict_update_existing(self.params, kwargs)\n",
    "\n",
    "        # RNN Layer\n",
    "        if self.params['model_type'] == 'RNN':\n",
    "            self.rnn = nn.RNN(\n",
    "                self.params['emb_dim'], self.params['hidden_dim'], num_layers=self.params['num_layers'],\n",
    "                dropout=self.params['dropout'], nonlinearity=self.params['nonlinearity']\n",
    "            )\n",
    "        else:\n",
    "            self.rnn = nn.LSTM(\n",
    "                self.params['emb_dim'], self.params['hidden_dim'],\n",
    "                num_layers=self.params['num_layers'], dropout=self.params['dropout']\n",
    "            )\n",
    "\n",
    "        # Final linear layer converts the last time step output of RNN to an RGB value\n",
    "        self.linear = nn.Linear(self.params['hidden_dim'], self.params['color_dim'])\n",
    "\n",
    "\n",
    "    def forward(self, emb):\n",
    "        # Process color name embeddings with RNN\n",
    "        rnn_out, _ = self.rnn(emb)\n",
    "\n",
    "        # Extract last time step output\n",
    "        final_out = rnn_out[-1]\n",
    "\n",
    "        # Convert last time step output of RNN to an RGB value using linear layer\n",
    "        linear_out = self.linear(final_out)\n",
    "\n",
    "        # Scale output between 0 and 1 with sigmoid\n",
    "        return torch.sigmoid(linear_out)"
   ]
  },
  {
   "cell_type": "code",
   "execution_count": 14,
   "metadata": {},
   "outputs": [
    {
     "name": "stdout",
     "output_type": "stream",
     "text": [
      "20553\n"
     ]
    },
    {
     "data": {
      "text/plain": [
       "torch.Size([1, 3])"
      ]
     },
     "execution_count": 14,
     "metadata": {},
     "output_type": "execute_result"
    }
   ],
   "source": [
    "m = LSTMColorGenerator()\n",
    "print(utils.get_trainable_params(m))\n",
    "t = torch.Tensor(1,3,50)\n",
    "m(t).shape"
   ]
  },
  {
   "cell_type": "code",
   "execution_count": 16,
   "metadata": {},
   "outputs": [
    {
     "name": "stdout",
     "output_type": "stream",
     "text": [
      "Epoch Complete : 1\n",
      "Epoch Complete : 2\n",
      "Epoch Complete : 3\n",
      "Epoch Complete : 4\n",
      "Epoch Complete : 5\n",
      "Epoch Complete : 6\n",
      "Epoch Complete : 7\n",
      "Epoch Complete : 8\n",
      "Epoch Complete : 9\n",
      "Epoch Complete : 10\n",
      "Epoch Complete : 11\n",
      "Epoch Complete : 12\n",
      "Epoch Complete : 13\n",
      "Epoch Complete : 14\n",
      "Epoch Complete : 15\n",
      "Epoch Complete : 16\n",
      "Epoch Complete : 17\n",
      "Epoch Complete : 18\n",
      "Epoch Complete : 19\n",
      "Epoch Complete : 20\n"
     ]
    }
   ],
   "source": [
    "# Model Training\n",
    "num_epochs = 20\n",
    "#model = ColorPredictorCNN().double()\n",
    "model = ColorPredictorSequenceModel().double()\n",
    "optimizer = torch.optim.SGD(model.parameters(), lr=0.07)\n",
    "loss_fn = nn.MSELoss()\n",
    "losses = []\n",
    "\n",
    "# Initialize train loader\n",
    "train_loader = color_dataset.DataLoader(\n",
    "    dataset.train_set,\n",
    "    seq_len_first=True,\n",
    "    use_cuda = False\n",
    ")\n",
    "\n",
    "# Train\n",
    "for epoch in range(num_epochs):\n",
    "    for i, (rgb, embedding, _) in enumerate(train_loader):\n",
    "        model.zero_grad()\n",
    "        rgb_preds = model(embedding)\n",
    "        loss = loss_fn(rgb, rgb_preds)\n",
    "        loss.backward()\n",
    "        optimizer.step()\n",
    "    print('Epoch Complete : {}'.format(epoch+1))\n",
    "    losses.append(loss.detach().numpy())"
   ]
  },
  {
   "cell_type": "code",
   "execution_count": 17,
   "metadata": {},
   "outputs": [
    {
     "data": {
      "text/plain": [
       "[<matplotlib.lines.Line2D at 0x78293bc5c8>]"
      ]
     },
     "execution_count": 17,
     "metadata": {},
     "output_type": "execute_result"
    },
    {
     "data": {
      "image/png": "[encoded data removed]",
      "text/plain": [
       "<Figure size 432x288 with 1 Axes>"
      ]
     },
     "metadata": {
      "needs_background": "light"
     },
     "output_type": "display_data"
    }
   ],
   "source": [
    "# Plot loss per epoch (should be going down)\n",
    "losses = np.array(losses)\n",
    "plt.plot(np.arange(len(losses)), losses)"
   ]
  },
  {
   "cell_type": "code",
   "execution_count": 21,
   "metadata": {},
   "outputs": [
    {
     "ename": "TypeError",
     "evalue": "data type not understood",
     "output_type": "error",
     "traceback": [
      "\u001b[1;31m---------------------------------------------------------------------------\u001b[0m",
      "\u001b[1;31mTypeError\u001b[0m                                 Traceback (most recent call last)",
      "\u001b[1;32m<ipython-input-21-82569ac667df>\u001b[0m in \u001b[0;36m<module>\u001b[1;34m\u001b[0m\n\u001b[0;32m     23\u001b[0m             \u001b[0mpreds\u001b[0m\u001b[1;33m.\u001b[0m\u001b[0mappend\u001b[0m\u001b[1;33m(\u001b[0m\u001b[0mtorch\u001b[0m\u001b[1;33m.\u001b[0m\u001b[0mTensor\u001b[0m\u001b[1;33m.\u001b[0m\u001b[0mtolist\u001b[0m\u001b[1;33m(\u001b[0m\u001b[0mpred_rgb\u001b[0m\u001b[1;33m.\u001b[0m\u001b[0mview\u001b[0m\u001b[1;33m(\u001b[0m\u001b[1;33m-\u001b[0m\u001b[1;36m1\u001b[0m\u001b[1;33m)\u001b[0m\u001b[1;33m)\u001b[0m\u001b[1;33m)\u001b[0m\u001b[1;33m\u001b[0m\u001b[1;33m\u001b[0m\u001b[0m\n\u001b[0;32m     24\u001b[0m         \u001b[1;32mreturn\u001b[0m \u001b[0mpreds\u001b[0m\u001b[1;33m\u001b[0m\u001b[1;33m\u001b[0m\u001b[0m\n\u001b[1;32m---> 25\u001b[1;33m \u001b[0mcolor_preds\u001b[0m \u001b[1;33m=\u001b[0m \u001b[0mpredict\u001b[0m\u001b[1;33m(\u001b[0m\u001b[0mmodel\u001b[0m\u001b[1;33m,\u001b[0m \u001b[0mdataset\u001b[0m\u001b[1;33m,\u001b[0m \u001b[1;33m[\u001b[0m\u001b[1;34m'red'\u001b[0m\u001b[1;33m]\u001b[0m\u001b[1;33m,\u001b[0m \u001b[0mseq_len_first\u001b[0m\u001b[1;33m=\u001b[0m\u001b[1;32mTrue\u001b[0m\u001b[1;33m)\u001b[0m\u001b[1;33m\u001b[0m\u001b[1;33m\u001b[0m\u001b[0m\n\u001b[0m\u001b[0;32m     26\u001b[0m \u001b[0mprint\u001b[0m\u001b[1;33m(\u001b[0m\u001b[0mcolor_preds\u001b[0m\u001b[1;33m)\u001b[0m\u001b[1;33m\u001b[0m\u001b[1;33m\u001b[0m\u001b[0m\n\u001b[0;32m     27\u001b[0m \u001b[0mp\u001b[0m \u001b[1;33m=\u001b[0m \u001b[0mpatches\u001b[0m\u001b[1;33m.\u001b[0m\u001b[0mRectangle\u001b[0m\u001b[1;33m(\u001b[0m\u001b[1;33m(\u001b[0m\u001b[1;36m0\u001b[0m\u001b[1;33m,\u001b[0m\u001b[1;36m0\u001b[0m\u001b[1;33m)\u001b[0m\u001b[1;33m,\u001b[0m \u001b[1;36m5\u001b[0m\u001b[1;33m,\u001b[0m \u001b[1;36m5\u001b[0m\u001b[1;33m,\u001b[0m \u001b[0mcolor\u001b[0m\u001b[1;33m=\u001b[0m\u001b[0mcolor_preds\u001b[0m\u001b[1;33m[\u001b[0m\u001b[1;36m0\u001b[0m\u001b[1;33m]\u001b[0m\u001b[1;33m)\u001b[0m\u001b[1;33m\u001b[0m\u001b[1;33m\u001b[0m\u001b[0m\n",
      "\u001b[1;32m<ipython-input-21-82569ac667df>\u001b[0m in \u001b[0;36mpredict\u001b[1;34m(model, dataset, color_names, pad_len, seq_len_first)\u001b[0m\n\u001b[0;32m      6\u001b[0m \u001b[1;33m\u001b[0m\u001b[0m\n\u001b[0;32m      7\u001b[0m         \u001b[1;32mif\u001b[0m \u001b[0mseq_len_first\u001b[0m\u001b[1;33m:\u001b[0m\u001b[1;33m\u001b[0m\u001b[1;33m\u001b[0m\u001b[0m\n\u001b[1;32m----> 8\u001b[1;33m             \u001b[0memb\u001b[0m \u001b[1;33m=\u001b[0m \u001b[0memb\u001b[0m\u001b[1;33m.\u001b[0m\u001b[0mview\u001b[0m\u001b[1;33m(\u001b[0m\u001b[1;33m(\u001b[0m\u001b[0memb\u001b[0m\u001b[1;33m.\u001b[0m\u001b[0mshape\u001b[0m\u001b[1;33m[\u001b[0m\u001b[1;36m0\u001b[0m\u001b[1;33m]\u001b[0m\u001b[1;33m,\u001b[0m \u001b[1;36m1\u001b[0m\u001b[1;33m,\u001b[0m \u001b[1;33m-\u001b[0m\u001b[1;36m1\u001b[0m\u001b[1;33m)\u001b[0m\u001b[1;33m)\u001b[0m\u001b[1;33m\u001b[0m\u001b[1;33m\u001b[0m\u001b[0m\n\u001b[0m\u001b[0;32m      9\u001b[0m         \u001b[1;32melse\u001b[0m\u001b[1;33m:\u001b[0m\u001b[1;33m\u001b[0m\u001b[1;33m\u001b[0m\u001b[0m\n\u001b[0;32m     10\u001b[0m             \u001b[0memb\u001b[0m \u001b[1;33m=\u001b[0m \u001b[0memb\u001b[0m\u001b[1;33m.\u001b[0m\u001b[0mview\u001b[0m\u001b[1;33m(\u001b[0m\u001b[1;33m(\u001b[0m\u001b[1;36m1\u001b[0m\u001b[1;33m,\u001b[0m \u001b[0memb\u001b[0m\u001b[1;33m.\u001b[0m\u001b[0mshape\u001b[0m\u001b[1;33m[\u001b[0m\u001b[1;36m0\u001b[0m\u001b[1;33m]\u001b[0m\u001b[1;33m,\u001b[0m \u001b[1;33m-\u001b[0m\u001b[1;36m1\u001b[0m\u001b[1;33m)\u001b[0m\u001b[1;33m)\u001b[0m\u001b[1;33m\u001b[0m\u001b[1;33m\u001b[0m\u001b[0m\n",
      "\u001b[1;31mTypeError\u001b[0m: data type not understood"
     ]
    }
   ],
   "source": [
    "# Runs a new color name throught the model to predict its color\n",
    "def predict(model, dataset, color_names, pad_len=None, seq_len_first=False):\n",
    "    color_name_embs = []\n",
    "    for name in color_names:\n",
    "        emb = color_dataset.to_embeddings(name, dataset.vocab_dict, dataset.embeddings)\n",
    "        \n",
    "        if seq_len_first:\n",
    "            emb = emb.view(emb.shape[0], 1, -1)\n",
    "        else:\n",
    "            emb = emb.view(1, emb.shape[0], -1)\n",
    "        \n",
    "        if pad_len is not None:\n",
    "            if emb.shape[0] <= pad_len:\n",
    "                emb = np.pad(emb, ((0, pad_len - emb.shape[0]), (0, 0)), 'constant')\n",
    "                color_name_embs.append(torch.DoubleTensor(emb))\n",
    "            else:\n",
    "                raise AssertionError('Color name is longer than pad length')\n",
    "            \n",
    "    with torch.no_grad():\n",
    "        preds = []\n",
    "        for emb in color_name_embs:\n",
    "            pred_rgb = model(emb)\n",
    "            preds.append(torch.Tensor.tolist(pred_rgb.view(-1)))\n",
    "        return preds\n",
    "color_preds = predict(model, dataset, ['red'], seq_len_first=True)\n",
    "print(color_preds)\n",
    "p = patches.Rectangle((0,0), 5, 5, color=color_preds[0])\n",
    "fig,ax = plt.subplots(1)\n",
    "ax.add_patch(p)"
   ]
  },
  {
   "cell_type": "code",
   "execution_count": 11,
   "metadata": {},
   "outputs": [],
   "source": [
    "def pred_and_plot(model, dataset, color_names):\n",
    "    fig = plt.figure(figsize=(15, 2))\n",
    "    ax = fig.add_subplot(111)\n",
    "    total_width = 400\n",
    "    total_height = 200\n",
    "    col_width = total_width / len(color_names)\n",
    "    for i, (cn, pred) in enumerate(zip(color_names, predict(model, dataset, color_names))):\n",
    "        p = patches.Rectangle((col_width*i,0), total_width, total_height, color=pred)\n",
    "        ax.add_patch(p)\n",
    "        ax.text(col_width*(i+0.25),total_height/2, cn)\n",
    "    plt.xlim([0, total_width])\n",
    "    plt.ylim([0, total_height])\n"
   ]
  },
  {
   "cell_type": "code",
   "execution_count": 12,
   "metadata": {},
   "outputs": [
    {
     "data": {
      "image/png": "[encoded data removed]",
      "text/plain": [
       "<Figure size 1080x144 with 1 Axes>"
      ]
     },
     "metadata": {
      "needs_background": "light"
     },
     "output_type": "display_data"
    }
   ],
   "source": [
    "pred_and_plot(model, dataset, ['red', 'blue', 'green', 'yellow', 'orange', 'purple', 'black', 'white'])\n"
   ]
  },
  {
   "cell_type": "code",
   "execution_count": null,
   "metadata": {},
   "outputs": [],
   "source": [
    "pred_and_plot(model, dataset, ['sky', 'sea', 'ocean', 'river'])"
   ]
  },
  {
   "cell_type": "code",
   "execution_count": null,
   "metadata": {},
   "outputs": [],
   "source": [
    "pred_and_plot(model, dataset, ['red', 'dark red', 'blood', 'apple'])"
   ]
  },
  {
   "cell_type": "code",
   "execution_count": null,
   "metadata": {},
   "outputs": [],
   "source": [
    "pred_and_plot(model, dataset, ['blue', 'dark blue', 'light gray' ,'lemon green', 'ocean'])"
   ]
  },
  {
   "cell_type": "code",
   "execution_count": null,
   "metadata": {},
   "outputs": [],
   "source": []
  },
  {
   "cell_type": "code",
   "execution_count": null,
   "metadata": {},
   "outputs": [],
   "source": []
  }
 ],
 "metadata": {
  "kernelspec": {
   "display_name": "Python 3",
   "language": "python",
   "name": "python3"
  },
  "language_info": {
   "codemirror_mode": {
    "name": "ipython",
    "version": 3
   },
   "file_extension": ".py",
   "mimetype": "text/x-python",
   "name": "python",
   "nbconvert_exporter": "python",
   "pygments_lexer": "ipython3",
   "version": "3.7.5"
  }
 },
 "nbformat": 4,
 "nbformat_minor": 2
}
