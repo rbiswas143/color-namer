{
 "cells": [
  {
   "cell_type": "code",
   "execution_count": 1,
   "metadata": {},
   "outputs": [],
   "source": [
    "%load_ext autoreload"
   ]
  },
  {
   "cell_type": "code",
   "execution_count": 3,
   "metadata": {},
   "outputs": [],
   "source": [
    "%autoreload\n",
    "\n",
    "import sys\n",
    "sys.path.append('..')\n",
    "\n",
    "import torch\n",
    "import torch.nn as nn\n",
    "import torch.nn.functional as F\n",
    "import torch.utils.data as D\n",
    "\n",
    "import numpy as np\n",
    "import matplotlib.pyplot as plt\n",
    "import matplotlib.patches as patches\n",
    "\n",
    "import color.data.dataset as color_dataset\n",
    "import color.utils.utils as utils"
   ]
  },
  {
   "cell_type": "code",
   "execution_count": 4,
   "metadata": {},
   "outputs": [
    {
     "name": "stdout",
     "output_type": "stream",
     "text": [
      "Loading colors dataset\n",
      "Loading embeddings\n",
      "Padding embeddings for color names\n",
      "Splitting dataset\n"
     ]
    }
   ],
   "source": [
    "# Get colors dataset\n",
    "dataset = color_dataset.Dataset(dataset='small', emb_len=50, max_words=3, pad_len=3)"
   ]
  },
  {
   "cell_type": "code",
   "execution_count": 5,
   "metadata": {},
   "outputs": [],
   "source": [
    "class ColorPredictorCNN(nn.Module):\n",
    "\n",
    "    def __init__(self, **kwargs):\n",
    "        super(ColorPredictorCNN, self).__init__()\n",
    "        self.params = {\n",
    "            'emb_dim': 50,\n",
    "            'num_emb': 3,\n",
    "            'color_dim': 3,\n",
    "            'num_conv_layers': 2, \n",
    "            'conv_kernel_size': 5,\n",
    "            'conv_stride': 1, \n",
    "            'pool_kernel_size': 2,\n",
    "            'pool_stride': 2,\n",
    "            'num_linear_layers': 2,\n",
    "            'linear_size_dim': 2\n",
    "        }\n",
    "        self.params.update(kwargs)\n",
    "\n",
    "        self.conv_layers = []\n",
    "        self.pool_layers = []\n",
    "        inp_len, inp_channels, out_channels = (\n",
    "            self.params['emb_dim'], self.params['num_emb'], self.params['num_emb'] * 2)\n",
    "        for l in range(self.params['num_conv_layers']):\n",
    "            conv = nn.Conv1d(inp_channels, out_channels,\n",
    "                             kernel_size=self.params['conv_kernel_size'],\n",
    "                             stride=self.params['conv_stride'])\n",
    "            self.add_module('cnn{}'.format(l + 1), conv)\n",
    "            self.conv_layers.append(conv)\n",
    "            inp_len = int((inp_len - self.params['conv_kernel_size']) / self.params['conv_stride']) + 1\n",
    "            inp_channels, out_channels = inp_channels*2, out_channels*2\n",
    "            assert inp_len > 1\n",
    "            \n",
    "            pool = nn.MaxPool1d(self.params['pool_kernel_size'], stride=self.params['pool_stride'])\n",
    "            self.add_module('pool{}'.format(l + 1), pool)\n",
    "            self.pool_layers.append(pool)\n",
    "            inp_len = int((inp_len - self.params['pool_kernel_size']) / self.params['pool_stride']) + 1\n",
    "            assert inp_len > 1\n",
    "        \n",
    "        self.linear_layers = []\n",
    "        in_feature = inp_len*inp_channels\n",
    "        out_feature = round(in_feature / self.params['linear_size_dim'])\n",
    "        for l in range(self.params['num_linear_layers']):\n",
    "            assert out_feature >= 3\n",
    "            linear = nn.Linear(in_feature, out_feature)\n",
    "            self.add_module('linear{}'.format(l + 1), linear)\n",
    "            self.linear_layers.append(linear)\n",
    "            in_feature, out_feature = out_feature, round(out_feature/self.params['linear_size_dim'])\n",
    "        out_feature = in_feature\n",
    "        \n",
    "        self.final_linear = nn.Linear(out_feature, self.params['color_dim'])\n",
    "    \n",
    "    def forward(self, emb):\n",
    "        pool_out = emb\n",
    "        for conv, pool in zip(self.conv_layers, self.pool_layers):\n",
    "            conv_out = conv(pool_out)\n",
    "            pool_out = pool(conv_out)\n",
    "        linear_in = pool_out.view(pool_out.shape[0], -1)\n",
    "        for linear in self.linear_layers:\n",
    "            linear_in = linear(linear_in)\n",
    "        linear_out = self.final_linear(linear_in)\n",
    "        return torch.sigmoid(linear_out)\n"
   ]
  },
  {
   "cell_type": "code",
   "execution_count": 6,
   "metadata": {},
   "outputs": [
    {
     "name": "stdout",
     "output_type": "stream",
     "text": [
      "ColorPredictorCNN(\n",
      "  (cnn1): Conv1d(3, 6, kernel_size=(5,), stride=(1,))\n",
      "  (pool1): MaxPool1d(kernel_size=2, stride=2, padding=0, dilation=1, ceil_mode=False)\n",
      "  (cnn2): Conv1d(6, 12, kernel_size=(5,), stride=(1,))\n",
      "  (pool2): MaxPool1d(kernel_size=2, stride=2, padding=0, dilation=1, ceil_mode=False)\n",
      "  (linear1): Linear(in_features=108, out_features=54, bias=True)\n",
      "  (linear2): Linear(in_features=54, out_features=27, bias=True)\n",
      "  (final_linear): Linear(in_features=27, out_features=3, bias=True)\n",
      ")\n",
      "7923\n"
     ]
    },
    {
     "data": {
      "text/plain": [
       "torch.Size([32, 3])"
      ]
     },
     "execution_count": 6,
     "metadata": {},
     "output_type": "execute_result"
    }
   ],
   "source": [
    "# Just checking\n",
    "m = ColorPredictorCNN()\n",
    "print(m)\n",
    "print(utils.get_trainable_params(m))\n",
    "t = torch.Tensor(32,3,50)\n",
    "m(t).shape"
   ]
  },
  {
   "cell_type": "code",
   "execution_count": 7,
   "metadata": {},
   "outputs": [],
   "source": [
    "# LSTM model with all hyper-parameters\n",
    "class ColorPredictorSequenceModel(nn.Module):\n",
    "\n",
    "    def __init__(self, **kwargs):\n",
    "        super(ColorPredictorSequenceModel, self).__init__()\n",
    "        \n",
    "        # RNN model defaults\n",
    "        self.params = {\n",
    "            'name': 'rnn-name-predictor',  # Model name\n",
    "            'model_type': 'RNN',  # One of (RNN, LSTM)\n",
    "            'emb_dim': 50,  # Embedding dimensions\n",
    "            'color_dim': 3,  # Color space dimensions, But don't change\n",
    "            'hidden_dim': 50,  # No of neurons in each hidden layer\n",
    "            'num_layers': 2,  # No of hidden layers\n",
    "            'dropout': 0,  # Dropout factor\n",
    "            'nonlinearity': 'relu'  # Only for RNN: Activation function: tanh, relu\n",
    "        }\n",
    "        utils.dict_update_existing(self.params, kwargs)\n",
    "\n",
    "        # RNN Layer\n",
    "        if self.params['model_type'] == 'RNN':\n",
    "            self.rnn = nn.RNN(\n",
    "                self.params['emb_dim'], self.params['hidden_dim'], num_layers=self.params['num_layers'],\n",
    "                dropout=self.params['dropout'], nonlinearity=self.params['nonlinearity']\n",
    "            )\n",
    "        else:\n",
    "            self.rnn = nn.LSTM(\n",
    "                self.params['emb_dim'], self.params['hidden_dim'],\n",
    "                num_layers=self.params['num_layers'], dropout=self.params['dropout']\n",
    "            )\n",
    "\n",
    "        # Final linear layer converts the last time step output of RNN to an RGB value\n",
    "        self.linear = nn.Linear(self.params['hidden_dim'], self.params['color_dim'])\n",
    "\n",
    "\n",
    "    def forward(self, emb):\n",
    "        # Process color name embeddings with RNN\n",
    "        rnn_out, _ = self.rnn(emb)\n",
    "\n",
    "        # Extract last time step output\n",
    "        final_out = rnn_out[-1]\n",
    "\n",
    "        # Convert last time step output of RNN to an RGB value using linear layer\n",
    "        linear_out = self.linear(final_out)\n",
    "\n",
    "        # Scale output between 0 and 1 with sigmoid\n",
    "        return torch.sigmoid(linear_out)"
   ]
  },
  {
   "cell_type": "code",
   "execution_count": 8,
   "metadata": {},
   "outputs": [
    {
     "name": "stdout",
     "output_type": "stream",
     "text": [
      "10353\n"
     ]
    },
    {
     "data": {
      "text/plain": [
       "torch.Size([3, 3])"
      ]
     },
     "execution_count": 8,
     "metadata": {},
     "output_type": "execute_result"
    }
   ],
   "source": [
    "m = ColorPredictorSequenceModel()\n",
    "print(utils.get_trainable_params(m))\n",
    "t = torch.Tensor(1,3,50)\n",
    "m(t).shape"
   ]
  },
  {
   "cell_type": "code",
   "execution_count": 9,
   "metadata": {},
   "outputs": [
    {
     "name": "stdout",
     "output_type": "stream",
     "text": [
      "Epoch Complete : 1\n",
      "Epoch Complete : 2\n",
      "Epoch Complete : 3\n",
      "Epoch Complete : 4\n",
      "Epoch Complete : 5\n"
     ]
    }
   ],
   "source": [
    "# Model Training\n",
    "num_epochs = 5\n",
    "model = ColorPredictorCNN().double()\n",
    "# model = ColorPredictorSequenceModel().double()\n",
    "optimizer = torch.optim.SGD(model.parameters(), lr=0.07)\n",
    "loss_fn = nn.MSELoss()\n",
    "losses = []\n",
    "seq_len_first=False\n",
    "\n",
    "# Initialize train loader\n",
    "train_loader = color_dataset.DataLoader(\n",
    "    dataset.train_set,\n",
    "    seq_len_first=seq_len_first,\n",
    "    use_cuda = False\n",
    ")\n",
    "\n",
    "# Train\n",
    "for epoch in range(num_epochs):\n",
    "    for i, (rgb, embedding, _) in enumerate(train_loader):\n",
    "        model.zero_grad()\n",
    "        rgb_preds = model(embedding)\n",
    "        loss = loss_fn(rgb, rgb_preds)\n",
    "        loss.backward()\n",
    "        optimizer.step()\n",
    "    print('Epoch Complete : {}'.format(epoch+1))\n",
    "    losses.append(loss.detach().numpy())"
   ]
  },
  {
   "cell_type": "code",
   "execution_count": 10,
   "metadata": {},
   "outputs": [
    {
     "data": {
      "text/plain": [
       "[<matplotlib.lines.Line2D at 0x7fc0999f6810>]"
      ]
     },
     "execution_count": 10,
     "metadata": {},
     "output_type": "execute_result"
    },
    {
     "data": {
      "image/png": "[encoded data removed]",
      "text/plain": [
       "<Figure size 432x288 with 1 Axes>"
      ]
     },
     "metadata": {
      "needs_background": "light"
     },
     "output_type": "display_data"
    }
   ],
   "source": [
    "# Plot loss per epoch (should be going down)\n",
    "losses = np.array(losses)\n",
    "plt.plot(np.arange(len(losses)), losses)"
   ]
  },
  {
   "cell_type": "code",
   "execution_count": 11,
   "metadata": {},
   "outputs": [
    {
     "name": "stdout",
     "output_type": "stream",
     "text": [
      "[[0.6499260075905143, 0.6112694365043072, 0.5593206592510556], [0.6554975452527911, 0.6165979597666482, 0.5390809068212903]]\n"
     ]
    },
    {
     "data": {
      "text/plain": [
       "<matplotlib.patches.Rectangle at 0x7fc0999544d0>"
      ]
     },
     "execution_count": 11,
     "metadata": {},
     "output_type": "execute_result"
    },
    {
     "data": {
      "image/png": "[encoded data removed]",
      "text/plain": [
       "<Figure size 432x288 with 1 Axes>"
      ]
     },
     "metadata": {
      "needs_background": "light"
     },
     "output_type": "display_data"
    }
   ],
   "source": [
    "# Runs a new color name throught the model to predict its color\n",
    "def predict(model, dataset, color_names, pad_len=None, seq_len_first=False):\n",
    "    color_name_embs = []\n",
    "    for name in color_names:\n",
    "        emb = color_dataset.to_embeddings(name, dataset.vocab_dict, dataset.embeddings)\n",
    "        \n",
    "        if pad_len is not None:\n",
    "            if emb.shape[0] <= pad_len:\n",
    "                emb = np.pad(emb, ((0, pad_len - emb.shape[0]), (0, 0)), 'constant')\n",
    "            else:\n",
    "                raise AssertionError('Color name is longer than pad length')\n",
    "                \n",
    "        if seq_len_first:\n",
    "            emb = emb.reshape(emb.shape[0], 1, -1)\n",
    "        else:\n",
    "            emb = emb.reshape(1, emb.shape[0], -1)\n",
    "        \n",
    "        color_name_embs.append(torch.DoubleTensor(emb))\n",
    "            \n",
    "    with torch.no_grad():\n",
    "        preds = []\n",
    "        for emb in color_name_embs:\n",
    "            pred_rgb = model(emb)\n",
    "            preds.append(torch.Tensor.tolist(pred_rgb.view(-1)))\n",
    "        return preds\n",
    "color_preds = predict(model, dataset, ['red brown', 'green'],\n",
    "                      pad_len=dataset.params['pad_len'],\n",
    "                      seq_len_first=seq_len_first)\n",
    "print(color_preds)\n",
    "p = patches.Rectangle((0,0), 5, 5, color=color_preds[0])\n",
    "fig,ax = plt.subplots(1)\n",
    "ax.add_patch(p)"
   ]
  },
  {
   "cell_type": "code",
   "execution_count": null,
   "metadata": {},
   "outputs": [],
   "source": []
  }
 ],
 "metadata": {
  "kernelspec": {
   "display_name": "Python 3",
   "language": "python",
   "name": "python3"
  },
  "language_info": {
   "codemirror_mode": {
    "name": "ipython",
    "version": 3
   },
   "file_extension": ".py",
   "mimetype": "text/x-python",
   "name": "python",
   "nbconvert_exporter": "python",
   "pygments_lexer": "ipython3",
   "version": "3.7.4"
  }
 },
 "nbformat": 4,
 "nbformat_minor": 2
}
