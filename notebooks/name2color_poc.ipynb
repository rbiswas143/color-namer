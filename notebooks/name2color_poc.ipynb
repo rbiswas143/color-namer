{
 "cells": [
  {
   "cell_type": "code",
   "execution_count": 156,
   "metadata": {},
   "outputs": [],
   "source": [
    "%load_ext autoreload\n",
    "%autoreload"
   ]
  },
  {
   "cell_type": "code",
   "execution_count": 157,
   "metadata": {},
   "outputs": [],
   "source": [
    "import sys\n",
    "sys.path.append('..')\n",
    "\n",
    "import torch\n",
    "import torch.nn as nn\n",
    "import torch.nn.functional as F\n",
    "import torch.utils.data as D\n",
    "\n",
    "import numpy as np\n",
    "import matplotlib.pyplot as plt\n",
    "import matplotlib.patches as patches\n",
    "\n",
    "import color.data.embeddings as emb_data"
   ]
  },
  {
   "cell_type": "code",
   "execution_count": 158,
   "metadata": {},
   "outputs": [],
   "source": [
    "# Get colors dataset\n",
    "from color.data import colors_small\n",
    "colors = colors_small.load_color_names()"
   ]
  },
  {
   "cell_type": "code",
   "execution_count": 4,
   "metadata": {},
   "outputs": [],
   "source": [
    "# Get embeddings\n",
    "vocab, emb = emb_data.load_embeddings(size=50)"
   ]
  },
  {
   "cell_type": "code",
   "execution_count": 159,
   "metadata": {},
   "outputs": [],
   "source": [
    "# Index vocabulary\n",
    "vocab_dict = {v:i for i,v in enumerate(vocab)}"
   ]
  },
  {
   "cell_type": "code",
   "execution_count": 161,
   "metadata": {},
   "outputs": [
    {
     "data": {
      "text/plain": [
       "(5, 50)"
      ]
     },
     "execution_count": 161,
     "metadata": {},
     "output_type": "execute_result"
    }
   ],
   "source": [
    "# Converts a sentence to corresponding embeddings vectors\n",
    "def to_embeddings(sentence, all_emb):\n",
    "    words = sentence.split()\n",
    "    emb = []\n",
    "    for w in words:\n",
    "        if w in vocab_dict:\n",
    "            e = all_emb[vocab_dict[w]]\n",
    "        else:\n",
    "            # Assign random embedding to unknown words\n",
    "            e = np.random.rand(50) - 0.5\n",
    "        emb.append(e)\n",
    "    return np.array(emb).astype(np.float)\n",
    "x = to_embeddings('hi my name is zuzuzu', emb)\n",
    "x.shape"
   ]
  },
  {
   "cell_type": "code",
   "execution_count": 164,
   "metadata": {},
   "outputs": [],
   "source": [
    "# Dataset for training\n",
    "class ColorsDataset(D.Dataset):\n",
    "    \n",
    "    def __init__(self, colors, emb):\n",
    "        # Colors should be in [0, 1]\n",
    "        col = colors[['r', 'g', 'b']].values.astype(np.int) / 256\n",
    "        self.rgb = torch.from_numpy(col).float()\n",
    "\n",
    "        color_emb = colors['name'].apply(\n",
    "            lambda name: to_embeddings(name.lower(), emb))\n",
    "        self.emb = list(map(lambda e: torch.from_numpy(e).float(), color_emb))\n",
    "    \n",
    "    def __len__(self):\n",
    "        assert len(self.rgb) == len(self.emb)\n",
    "        return len(self.rgb)\n",
    "    \n",
    "    def __getitem__(self, idx):\n",
    "        return self.rgb[idx], self.emb[idx]\n",
    "ds = ColorsDataset(colors, emb)"
   ]
  },
  {
   "cell_type": "code",
   "execution_count": 165,
   "metadata": {},
   "outputs": [],
   "source": [
    "# Batch size restricted to 1 for now\n",
    "dataloader = D.DataLoader(ds, batch_size=1, shuffle=True, num_workers=4)"
   ]
  },
  {
   "cell_type": "code",
   "execution_count": 52,
   "metadata": {},
   "outputs": [],
   "source": [
    "# LSTM model that predicts rgb values at the final time step\n",
    "class WordModel(nn.Module):\n",
    "    \n",
    "    def __init__(self, embedding_dim, hidden_dim, color_dim):\n",
    "        super(WordModel, self).__init__()\n",
    "        self.lstm = nn.LSTM(embedding_dim, hidden_dim)\n",
    "        self.linear = nn.Linear(hidden_dim, color_dim)\n",
    "    \n",
    "    def forward(self, emb):\n",
    "        emb = emb.view(emb.shape[1], 1, -1)\n",
    "        lstm_out, _ = self.lstm(emb)\n",
    "        final_out = lstm_out[-1]\n",
    "        linear_out = self.linear(final_out)\n",
    "        return torch.sigmoid(linear_out)"
   ]
  },
  {
   "cell_type": "code",
   "execution_count": 167,
   "metadata": {},
   "outputs": [
    {
     "data": {
      "text/plain": [
       "tensor(0.0268, grad_fn=<MeanBackward1>)"
      ]
     },
     "execution_count": 167,
     "metadata": {},
     "output_type": "execute_result"
    }
   ],
   "source": [
    "# Just checking\n",
    "m = WordModel(50, 30, 3)\n",
    "di = iter(dataloader)\n",
    "c, e = di.next()\n",
    "t = m(e)\n",
    "l = nn.MSELoss()\n",
    "l(c, t)"
   ]
  },
  {
   "cell_type": "code",
   "execution_count": 97,
   "metadata": {},
   "outputs": [
    {
     "name": "stdout",
     "output_type": "stream",
     "text": [
      "Epoch Complete : 1\n",
      "Epoch Complete : 2\n",
      "Epoch Complete : 3\n",
      "Epoch Complete : 4\n",
      "Epoch Complete : 5\n",
      "Epoch Complete : 6\n",
      "Epoch Complete : 7\n",
      "Epoch Complete : 8\n",
      "Epoch Complete : 9\n",
      "Epoch Complete : 10\n",
      "Epoch Complete : 11\n",
      "Epoch Complete : 12\n",
      "Epoch Complete : 13\n",
      "Epoch Complete : 14\n",
      "Epoch Complete : 15\n",
      "Epoch Complete : 16\n",
      "Epoch Complete : 17\n",
      "Epoch Complete : 18\n",
      "Epoch Complete : 19\n",
      "Epoch Complete : 20\n",
      "Epoch Complete : 21\n",
      "Epoch Complete : 22\n",
      "Epoch Complete : 23\n",
      "Epoch Complete : 24\n",
      "Epoch Complete : 25\n",
      "Epoch Complete : 26\n",
      "Epoch Complete : 27\n",
      "Epoch Complete : 28\n",
      "Epoch Complete : 29\n",
      "Epoch Complete : 30\n",
      "Epoch Complete : 31\n",
      "Epoch Complete : 32\n",
      "Epoch Complete : 33\n",
      "Epoch Complete : 34\n",
      "Epoch Complete : 35\n",
      "Epoch Complete : 36\n",
      "Epoch Complete : 37\n",
      "Epoch Complete : 38\n",
      "Epoch Complete : 39\n",
      "Epoch Complete : 40\n",
      "Epoch Complete : 41\n",
      "Epoch Complete : 42\n",
      "Epoch Complete : 43\n",
      "Epoch Complete : 44\n",
      "Epoch Complete : 45\n",
      "Epoch Complete : 46\n",
      "Epoch Complete : 47\n",
      "Epoch Complete : 48\n",
      "Epoch Complete : 49\n",
      "Epoch Complete : 50\n"
     ]
    }
   ],
   "source": [
    "# Train\n",
    "num_epochs = 50\n",
    "model = WordModel(50, 50, 3)\n",
    "loss_fn = nn.MSELoss()\n",
    "optimizer = torch.optim.SGD(model.parameters(), lr=0.1)\n",
    "losses = []\n",
    "\n",
    "for epoch in range(num_epochs):\n",
    "    for i, (rgb, embedding) in enumerate(dataloader):\n",
    "        model.zero_grad()\n",
    "        rgb_preds = model(embedding)\n",
    "        loss = loss_fn(rgb, rgb_preds)\n",
    "        loss.backward()\n",
    "        optimizer.step()\n",
    "    print('Epoch Complete : {}'.format(epoch+1))\n",
    "    losses.append(loss.detach().numpy())"
   ]
  },
  {
   "cell_type": "code",
   "execution_count": 169,
   "metadata": {},
   "outputs": [
    {
     "data": {
      "text/plain": [
       "[<matplotlib.lines.Line2D at 0x7fd2143c7cc0>]"
      ]
     },
     "execution_count": 169,
     "metadata": {},
     "output_type": "execute_result"
    },
    {
     "data": {
      "image/png": "[encoded data removed]",
      "text/plain": [
       "<Figure size 432x288 with 1 Axes>"
      ]
     },
     "metadata": {
      "needs_background": "light"
     },
     "output_type": "display_data"
    }
   ],
   "source": [
    "# Plot loss per iteration (should be going down)\n",
    "losses = np.array(losses)\n",
    "plt.plot(np.arange(len(losses)), losses)"
   ]
  },
  {
   "cell_type": "code",
   "execution_count": 193,
   "metadata": {},
   "outputs": [
    {
     "name": "stdout",
     "output_type": "stream",
     "text": [
      "[0.5155074596405029, 0.37771108746528625, 0.3253866732120514]\n"
     ]
    },
    {
     "data": {
      "text/plain": [
       "<matplotlib.patches.Rectangle at 0x7fd214203be0>"
      ]
     },
     "execution_count": 193,
     "metadata": {},
     "output_type": "execute_result"
    },
    {
     "data": {
      "image/png": "[encoded data removed]",
      "text/plain": [
       "<Figure size 432x288 with 1 Axes>"
      ]
     },
     "metadata": {
      "needs_background": "light"
     },
     "output_type": "display_data"
    }
   ],
   "source": [
    "# Runs a new color name throught the model to predict its color\n",
    "def predict(model, color_name):\n",
    "    with torch.no_grad():\n",
    "        e = torch.from_numpy(to_embeddings(color_name, emb).astype(np.float)).float()\n",
    "        rgb = model(e.view(1, e.shape[0], -1))\n",
    "        color = rgb.numpy().reshape(-1).tolist()\n",
    "        return color\n",
    "color = predict(model, 'brown')\n",
    "print(color)\n",
    "p = patches.Rectangle((0,0), 5, 5, color=color)\n",
    "fig,ax = plt.subplots(1)\n",
    "ax.add_patch(p)"
   ]
  },
  {
   "cell_type": "code",
   "execution_count": 233,
   "metadata": {},
   "outputs": [],
   "source": [
    "def pred_and_plot(color_names):\n",
    "    fig = plt.figure(figsize=(15, 2))\n",
    "    ax = fig.add_subplot(111)\n",
    "    total_width = 400\n",
    "    total_height = 200\n",
    "    col_width = total_width / len(color_names)\n",
    "    for i, cn in enumerate(color_names):\n",
    "        pred = predict(model, cn)\n",
    "        p = patches.Rectangle((col_width*i,0), total_width, total_height, color=pred)\n",
    "        ax.add_patch(p)\n",
    "        ax.text(col_width*(i+0.25),total_height/2, cn)\n",
    "    plt.xlim([0, total_width])\n",
    "    plt.ylim([0, total_height])\n"
   ]
  },
  {
   "cell_type": "code",
   "execution_count": 234,
   "metadata": {},
   "outputs": [
    {
     "data": {
      "image/png": "[encoded data removed]",
      "text/plain": [
       "<Figure size 1080x144 with 1 Axes>"
      ]
     },
     "metadata": {
      "needs_background": "light"
     },
     "output_type": "display_data"
    }
   ],
   "source": [
    "pred_and_plot(['red', 'blue', 'green', 'yellow', 'orange', 'purple', 'black', 'white'])\n"
   ]
  },
  {
   "cell_type": "code",
   "execution_count": 235,
   "metadata": {},
   "outputs": [
    {
     "data": {
      "image/png": "[encoded data removed]",
      "text/plain": [
       "<Figure size 1080x144 with 1 Axes>"
      ]
     },
     "metadata": {
      "needs_background": "light"
     },
     "output_type": "display_data"
    }
   ],
   "source": [
    "pred_and_plot(['sky', 'sea', 'ocean', 'river'])"
   ]
  },
  {
   "cell_type": "code",
   "execution_count": 236,
   "metadata": {},
   "outputs": [
    {
     "data": {
      "image/png": "[encoded data removed]",
      "text/plain": [
       "<Figure size 1080x144 with 1 Axes>"
      ]
     },
     "metadata": {
      "needs_background": "light"
     },
     "output_type": "display_data"
    }
   ],
   "source": [
    "pred_and_plot(['red', 'dark red', 'blood', 'apple'])"
   ]
  }
 ],
 "metadata": {
  "kernelspec": {
   "display_name": "colornamer",
   "language": "python",
   "name": "colornamer"
  },
  "language_info": {
   "codemirror_mode": {
    "name": "ipython",
    "version": 3
   },
   "file_extension": ".py",
   "mimetype": "text/x-python",
   "name": "python",
   "nbconvert_exporter": "python",
   "pygments_lexer": "ipython3",
   "version": "3.7.3"
  }
 },
 "nbformat": 4,
 "nbformat_minor": 2
}
